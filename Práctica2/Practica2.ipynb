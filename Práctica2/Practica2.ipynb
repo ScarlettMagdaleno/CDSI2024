{
 "cells": [
  {
   "cell_type": "markdown",
   "id": "7f6cadde-5a42-4c3a-a235-db82f9cb15f7",
   "metadata": {},
   "source": [
    "# <font color='purple'> **Práctica 2. Sensando y análisis de video.** </font>\n",
    "\n",
    "**Elaborado por:** Scarlett Magdaleno Gatica. \n",
    "\n",
    "El propósito de este notebook es recolectar videos de personas simulando la acción de conducir, con el objetivo de desarrollar un clasificador capaz de distinguir entre cinco puntos de atención visual diferentes.\n"
   ]
  },
  {
   "cell_type": "markdown",
   "id": "8453f97e-7fce-4a7e-9afa-f31bd5f4527d",
   "metadata": {},
   "source": [
    "### <font color='purple'> **Dataset** </font>\n",
    "\n",
    "El dataset se creó a partir de la grabación de videos de conductores que alternaban su vista a cinco puntos de atención visual (PAV): (i) frente; retrovisores (ii) central, (iii) izquierdo y (iv) derecho; (v) palanca. \n",
    "\n",
    "Cada video del dataset está etiquetado en un archivo csv de la siguiente forma:\n",
    "\n",
    "    nombre del archivo, inicio del PAV, fin del PAV, PAV (e.g. video.mp4, 0:05, 0:15, frente)\n",
    "    \n",
    "Los videos utilizados en este notebook fueron los siguientes:\n",
    "\n",
    "    ANDRES.mp4\n",
    "    ARIANA.mp4\n",
    "    DAFNE.mp4\n",
    "    JESUS.mp4\n",
    "    RACHEL.mp4\n",
    "    SCARLETT.mp4\n",
    "    \n",
    "**Notas importantes:** \n",
    "+ Los archivos .csv utilizados se ubican en la carpeta *Imagen* dentro de este repositorio. Sin embargo, los videos no están incluidos en el repositorio debido a consideraciones de privacidad de los participantes. \n",
    "+ Para evaluar el clasificador en tiempo real, por favor, ejecute la celda \"Importar librerías\", descargue los archivos \"df_all_selected.csv\" y \"df_filter_selected.csv\" disponibles en este repositorio y continúe ejecutando la sección 6 del notebook. \n",
    "+ El video utilizado en la sección 6.2 no se incluye en el notebook por razones de privacidad. No obstante, puede reemplazar el nombre del archivo \"MARCOS.mp4\" con el nombre del video que desee evaluar y se encuentre en su repositorio local."
   ]
  },
  {
   "cell_type": "markdown",
   "id": "a6f49c44-16e6-48c2-a2af-cea5860f4c7e",
   "metadata": {
    "tags": []
   },
   "source": [
    "### <font color='purple'> **Importamos las librerías** </font>"
   ]
  },
  {
   "cell_type": "code",
   "execution_count": 1,
   "id": "879589bb-06a0-441b-b6f9-df1ac40d8db2",
   "metadata": {
    "tags": []
   },
   "outputs": [],
   "source": [
    "# system libraries\n",
    "import os\n",
    "import sys\n",
    "import re\n",
    "\n",
    "# data \n",
    "import pandas as pd\n",
    "import numpy as np\n",
    "import seaborn as sns\n",
    "import matplotlib.pyplot as plt\n",
    "\n",
    "# video\n",
    "import mediapipe as mp\n",
    "import cv2\n",
    "from IPython.display import Video\n",
    "\n",
    "# files\n",
    "from scipy.io.wavfile import write\n",
    "import shutil\n",
    "\n",
    "# feature selection\n",
    "from sklearn.feature_selection import mutual_info_classif\n",
    "\n",
    "# data partitioning\n",
    "from sklearn.preprocessing import StandardScaler, OneHotEncoder\n",
    "from sklearn.model_selection import train_test_split\n",
    "\n",
    "# model construction\n",
    "from sklearn.model_selection import StratifiedShuffleSplit\n",
    "from sklearn.utils.validation import check_array\n",
    "from sklearn.metrics import classification_report, accuracy_score, confusion_matrix\n",
    "from sklearn.linear_model import LogisticRegression\n",
    "from sklearn.tree import DecisionTreeClassifier\n",
    "from sklearn.ensemble import RandomForestClassifier\n",
    "from sklearn.ensemble import GradientBoostingClassifier\n",
    "from sklearn.svm import SVC\n",
    "from sklearn.neighbors import KNeighborsClassifier\n",
    "\n",
    "\n",
    "import warnings\n",
    "if not sys.warnoptions:\n",
    "    warnings.simplefilter(\"ignore\")\n",
    "warnings.filterwarnings(\"ignore\", category=DeprecationWarning)"
   ]
  },
  {
   "cell_type": "markdown",
   "id": "4890ffc0-9db1-4b96-8228-a0df3b06edcd",
   "metadata": {
    "tags": []
   },
   "source": [
    "## <font color='purple'> **1.- Segmentación de los videos** </font>"
   ]
  },
  {
   "cell_type": "markdown",
   "id": "eaceacbd-0432-4043-81d7-539330941b03",
   "metadata": {},
   "source": [
    "En esta sección, procederemos a leer cada archivo de video en la carpeta *Imagen*, junto con su correspondiente archivo CSV, para luego segmentarlos por clases en subcarpetas dentro de la nueva carpeta *VideosSegmentados*."
   ]
  },
  {
   "cell_type": "code",
   "execution_count": 2,
   "id": "26017e47-3633-48c2-988c-b8f5e7295745",
   "metadata": {
    "tags": []
   },
   "outputs": [],
   "source": [
    "def segmentar_video(video_filename, marca_tiempo_inicio, marca_tiempo_fin, output_folder, etiqueta, video_number):\n",
    "   \n",
    "    cap = cv2.VideoCapture(video_filename)\n",
    "    fps = cap.get(cv2.CAP_PROP_FPS)\n",
    "    \n",
    "    # Manejar el caso en que fps sea cero\n",
    "    if fps == 0:\n",
    "        print(\"¡Error! El FPS del video es cero.\")\n",
    "        return\n",
    "    \n",
    "    # Convertir las marcas de tiempo de formato 'mm:ss' a segundos\n",
    "    inicio_segundos = sum(x * int(t) for x, t in zip([60, 1], marca_tiempo_inicio.split(':')))\n",
    "    fin_segundos = sum(x * int(t) for x, t in zip([60, 1], marca_tiempo_fin.split(':')))\n",
    "    \n",
    "    cap.set(cv2.CAP_PROP_POS_MSEC, inicio_segundos * 1000)\n",
    "    \n",
    "    # Nombre del archivo de salida\n",
    "    output_filename = os.path.join(output_folder, os.path.basename(video_filename))\n",
    "    output_filename = os.path.splitext(output_filename)[0] + '_' + str(etiqueta) + '_' + str(video_number) + '.mp4'\n",
    "    \n",
    "    fourcc = cv2.VideoWriter_fourcc(*'mp4v')\n",
    "    out = cv2.VideoWriter(output_filename, fourcc, fps, (int(cap.get(3)), int(cap.get(4))))\n",
    "    \n",
    "    frame_count = 0  # Contador de fotogramas escritos en el archivo de salida\n",
    "    \n",
    "    while(cap.isOpened()):\n",
    "        ret, frame = cap.read()\n",
    "        if ret == True and cap.get(cv2.CAP_PROP_POS_MSEC) / 1000 < fin_segundos:\n",
    "            out.write(frame)\n",
    "            frame_count += 1\n",
    "        else:\n",
    "            break\n",
    "    \n",
    "    cap.release()\n",
    "    out.release()\n",
    "    cv2.destroyAllWindows()\n",
    "\n",
    "\n",
    "# Directorio del notebook\n",
    "notebook_directory = os.getcwd()\n",
    "\n",
    "# Directorio de la carpeta imagen (considerando que está en el mismo nivel que el notebook)\n",
    "main_folder = os.path.join(notebook_directory, \"Imagen\")\n",
    "\n",
    "# Directorio de salida para los videos segmentados\n",
    "output_folder_base = os.path.join(notebook_directory, \"VideosSegmentados\")\n",
    "\n",
    "# Diccionario para almacenar los contadores de video por etiqueta\n",
    "contador_videos_por_etiqueta = {\"central\": 0, \"izquierdo\": 0, \"derecho\": 0, \"frente\": 0, \"palanca\": 0}\n",
    "\n",
    "for subdir, dirs, files in os.walk(main_folder):\n",
    "    for file in files:\n",
    "        if file.endswith('.csv'):\n",
    "            csv_path = os.path.join(subdir, file)\n",
    "            data = pd.read_csv(csv_path)\n",
    "            # Crear una carpeta para cada etiqueta\n",
    "            labels = data['label'].unique()\n",
    "            for label in labels:\n",
    "                label_folder = os.path.join(output_folder_base, label)\n",
    "                os.makedirs(label_folder, exist_ok=True)\n",
    "                # Iterar sobre cada fila del archivo CSV y segmentar el video correspondiente\n",
    "                for index, row in data[data['label'] == label].iterrows():\n",
    "                    video_filename = os.path.join(subdir, os.path.splitext(row['filename'])[0] + '.mp4')  \n",
    "                    marca_tiempo_inicio = row['inicio']\n",
    "                    marca_tiempo_fin = row['fin']\n",
    "                    output_folder = label_folder\n",
    "                    etiqueta_actual = row['label']\n",
    "\n",
    "                    # Incrementar el contador de videos para esta etiqueta\n",
    "                    contador_videos_por_etiqueta[etiqueta_actual] += 1\n",
    "                    video_number = contador_videos_por_etiqueta[etiqueta_actual]                  \n",
    "                    \n",
    "                    segmentar_video(video_filename, marca_tiempo_inicio, marca_tiempo_fin, output_folder, etiqueta_actual, video_number)\n"
   ]
  },
  {
   "cell_type": "markdown",
   "id": "a9afd8aa-9605-4b0b-9ed4-839f564da14c",
   "metadata": {},
   "source": [
    "**Observación:** Se realizaron análisis de los videos segmentados y se corrigieron algunas de las etiquetas donde el video correspondía a la clase \"derecho\" pero se encontraba etiquetado como \"izquierdo\", y viceversa. Además, se observaron instancias en las que, aunque coinciden con los datos etiquetados, el conductor dirige su atención visual a más de un punto durante el video. Esta situación podría plantear un desafío para el entrenamiento del modelo, ya que podría generar confusión entre las clases.\n",
    "\n",
    "Se ha tomado la decisión de utilizar dos conjuntos de datos: uno que incluye todos los videos y otro que excluye estas instancias, con el fin de evaluar el impacto en los modelos.\n",
    "\n",
    "Para esto, crearemos una segunda carpeta llamada \"VideosSegmentados2\" la cual excluye estas instancias. "
   ]
  },
  {
   "cell_type": "code",
   "execution_count": 5,
   "id": "c3dcd78c-8dbb-4991-a94d-5d2fa4c61085",
   "metadata": {
    "tags": []
   },
   "outputs": [],
   "source": [
    "# Crear la nueva carpeta VideosSegmentados2 si no existe\n",
    "if not os.path.exists('VideosSegmentados2'):\n",
    "    os.mkdir('VideosSegmentados2')\n",
    "\n",
    "# Definir el directorio de origen y destino\n",
    "videos_segmentados_dir = 'VideosSegmentados'\n",
    "videos_segmentados2_dir = 'VideosSegmentados2'\n",
    "\n",
    "# Instancias que podrían generar confusión\n",
    "pattern = re.compile(r'.*(ANDRES|DAFNE).*\\.mp4', re.IGNORECASE)\n",
    "\n",
    "# Recorrer recursivamente todas las subcarpetas y archivos en el directorio de origen\n",
    "for root, dirs, files in os.walk(videos_segmentados_dir):\n",
    "    # Iterar sobre las carpetas\n",
    "    for dir in dirs:\n",
    "        src_dir = os.path.join(root, dir)\n",
    "        dst_dir = os.path.join(videos_segmentados2_dir, os.path.relpath(src_dir, videos_segmentados_dir))\n",
    "        # Crear el directorio de destino si no existe\n",
    "        os.makedirs(dst_dir, exist_ok=True)\n",
    "    # Iterar sobre los archivos en el directorio actual\n",
    "    for file in files:\n",
    "        # Comprobar si el nombre del archivo no cumple con el patrón\n",
    "        if not pattern.match(file):\n",
    "            # Ruta de origen y destino del archivo\n",
    "            src = os.path.join(root, file)\n",
    "            dst = os.path.join(videos_segmentados2_dir, os.path.relpath(src, videos_segmentados_dir))\n",
    "            # Copiar el archivo\n",
    "            shutil.copy2(src, dst)"
   ]
  },
  {
   "cell_type": "markdown",
   "id": "ef384293-d8ba-4e41-9783-6a1af28d4812",
   "metadata": {
    "tags": []
   },
   "source": [
    "## <font color='purple'> **2.- Extracción de características** </font>"
   ]
  },
  {
   "cell_type": "markdown",
   "id": "9bf518fc-b158-4cc8-bc01-e310d92d63b7",
   "metadata": {},
   "source": [
    "En esta sección, extraeremos los landmarks de cada video segmentado."
   ]
  },
  {
   "cell_type": "markdown",
   "id": "028b01d8-76a3-4d00-bc31-80689a13fe44",
   "metadata": {
    "tags": []
   },
   "source": [
    "### <font color='purple'> **2.1 Definición de función para extracción de landmarks** </font>"
   ]
  },
  {
   "cell_type": "markdown",
   "id": "030378fc-f43a-4294-bf87-4593728336fc",
   "metadata": {},
   "source": [
    "Definimos la función para extracción de landmarks con face mesh."
   ]
  },
  {
   "cell_type": "code",
   "execution_count": 2,
   "id": "5dc6d7fa-074f-4f3b-b04c-a54b08b12eb5",
   "metadata": {
    "tags": []
   },
   "outputs": [],
   "source": [
    "# Función para extraer landmarks faciales de un fotograma\n",
    "def extract_landmarks(frame):\n",
    "    mp_face_mesh = mp.solutions.face_mesh.FaceMesh(\n",
    "        static_image_mode=True,\n",
    "        max_num_faces=1,\n",
    "        min_detection_confidence=0.5)\n",
    "    \n",
    "    with mp_face_mesh as face_mesh:\n",
    "        # Convertir la imagen a RGB\n",
    "        image_rgb = cv2.cvtColor(frame, cv2.COLOR_BGR2RGB)\n",
    "        \n",
    "        # Procesar la imagen y obtener los resultados de los landmarks faciales\n",
    "        results = face_mesh.process(image_rgb)\n",
    "        \n",
    "        # Verificar si se detectaron landmarks faciales\n",
    "        if results.multi_face_landmarks:\n",
    "            # Obtener los landmarks faciales del primer rostro detectado (asumiendo un solo rostro)\n",
    "            face_landmarks = results.multi_face_landmarks[0]\n",
    "            \n",
    "            # Convertir los landmarks a una lista de tuplas de coordenadas (x, y, z)\n",
    "            landmarks = [(lm.x, lm.y, lm.z) for lm in face_landmarks.landmark]\n",
    "            \n",
    "            return landmarks  # Devolver la lista de landmarks faciales\n",
    "    return None\n"
   ]
  },
  {
   "cell_type": "markdown",
   "id": "9a6bedef-cff0-459a-927d-c28e30457d0b",
   "metadata": {
    "tags": []
   },
   "source": [
    "### <font color='purple'> **2.2 Dataset completo** </font>"
   ]
  },
  {
   "cell_type": "markdown",
   "id": "7c8eee00-2ede-4ae8-849f-7e090a006b9f",
   "metadata": {},
   "source": [
    "Extraemos los landmarks del dataset completo."
   ]
  },
  {
   "cell_type": "code",
   "execution_count": 15,
   "id": "8828ea92-4238-4572-833c-48408d4e7cb4",
   "metadata": {
    "tags": []
   },
   "outputs": [],
   "source": [
    "# Carpeta que contiene las subcarpetas con los videos\n",
    "videos_folder = 'VideosSegmentados'\n",
    "\n",
    "# Inicializar un DataFrame para almacenar los landmarks faciales de todos los videos\n",
    "df_all_data_landmarks = pd.DataFrame(columns=['Video', 'Frame', 'Landmarks'])\n",
    "\n",
    "landmarks_data = pd.DataFrame(columns=['filename'] + [f\"x_{i}\" for i in range(468)] + [f\"y_{i}\" for i in range(468)] + [f\"z_{i}\" for i in range(468)] + ['label'])\n",
    "\n",
    "# Iterar sobre el árbol de directorios de la carpeta \"VideosSegmentados\"\n",
    "for root, dirs, files in os.walk(videos_folder):\n",
    "    # Iterar sobre los archivos de video en el directorio actual\n",
    "    for file in files:\n",
    "        video_path = os.path.join(root, file)\n",
    "        # Verificar si el archivo es un video basándose en su extensión\n",
    "        if os.path.isfile(video_path) and file.lower().endswith('.mp4'):\n",
    "            cap = cv2.VideoCapture(video_path)\n",
    "            if not cap.isOpened():\n",
    "                print(f\"Error al abrir el video: {file}\")\n",
    "                continue\n",
    "            \n",
    "            # Establecer la tasa de fotogramas deseada\n",
    "            cap.set(cv2.CAP_PROP_FPS, 20)\n",
    "\n",
    "            while True:\n",
    "                success, frame = cap.read()\n",
    "                if not success:\n",
    "                    # Indica el fin del video y sale del bucle\n",
    "                    break\n",
    "\n",
    "                # Extraer landmarks faciales del fotograma actual\n",
    "                landmarks = extract_landmarks(frame)\n",
    "\n",
    "                # Almacenar los landmarks en el DataFrame junto con el nombre del video y el número de fotograma\n",
    "                df_all_data_landmarks = df_all_data_landmarks.append({'Video': file, 'Frame': cap.get(cv2.CAP_PROP_POS_FRAMES), 'Landmarks': landmarks}, ignore_index=True)\n",
    "\n",
    "                if landmarks:\n",
    "                    # Crear un diccionario para almacenar las coordenadas de cada landmark\n",
    "                    landmark_dict = {\"filename\": file}\n",
    "                    for i, lm in enumerate(landmarks):\n",
    "                        landmark_dict[f\"x_{i}\"] = lm[0]\n",
    "                        landmark_dict[f\"y_{i}\"] = lm[1]\n",
    "                        landmark_dict[f\"z_{i}\"] = lm[2]\n",
    "                    # Agregar la etiqueta al diccionario\n",
    "                    label = file.split('_')[1]  # Extraer la etiqueta del nombre de archivo\n",
    "                    landmark_dict['label'] = label\n",
    "                    # Agregar el diccionario al DataFrame\n",
    "                    landmarks_data = landmarks_data.append(landmark_dict, ignore_index=True)\n",
    "\n",
    "            # Liberar los recursos del video actual\n",
    "            cap.release()\n"
   ]
  },
  {
   "cell_type": "code",
   "execution_count": 16,
   "id": "b4fe9270-717c-4b90-9b62-a015a4f13220",
   "metadata": {
    "tags": []
   },
   "outputs": [
    {
     "data": {
      "text/html": [
       "<div>\n",
       "<style scoped>\n",
       "    .dataframe tbody tr th:only-of-type {\n",
       "        vertical-align: middle;\n",
       "    }\n",
       "\n",
       "    .dataframe tbody tr th {\n",
       "        vertical-align: top;\n",
       "    }\n",
       "\n",
       "    .dataframe thead th {\n",
       "        text-align: right;\n",
       "    }\n",
       "</style>\n",
       "<table border=\"1\" class=\"dataframe\">\n",
       "  <thead>\n",
       "    <tr style=\"text-align: right;\">\n",
       "      <th></th>\n",
       "      <th>filename</th>\n",
       "      <th>x_0</th>\n",
       "      <th>x_1</th>\n",
       "      <th>x_2</th>\n",
       "      <th>x_3</th>\n",
       "      <th>x_4</th>\n",
       "      <th>x_5</th>\n",
       "      <th>x_6</th>\n",
       "      <th>x_7</th>\n",
       "      <th>x_8</th>\n",
       "      <th>...</th>\n",
       "      <th>z_459</th>\n",
       "      <th>z_460</th>\n",
       "      <th>z_461</th>\n",
       "      <th>z_462</th>\n",
       "      <th>z_463</th>\n",
       "      <th>z_464</th>\n",
       "      <th>z_465</th>\n",
       "      <th>z_466</th>\n",
       "      <th>z_467</th>\n",
       "      <th>label</th>\n",
       "    </tr>\n",
       "  </thead>\n",
       "  <tbody>\n",
       "    <tr>\n",
       "      <th>0</th>\n",
       "      <td>ANDRES_central_1.mp4</td>\n",
       "      <td>0.423618</td>\n",
       "      <td>0.418933</td>\n",
       "      <td>0.424612</td>\n",
       "      <td>0.412191</td>\n",
       "      <td>0.418408</td>\n",
       "      <td>0.420229</td>\n",
       "      <td>0.427040</td>\n",
       "      <td>0.349046</td>\n",
       "      <td>0.428508</td>\n",
       "      <td>...</td>\n",
       "      <td>-0.060105</td>\n",
       "      <td>-0.034010</td>\n",
       "      <td>-0.063050</td>\n",
       "      <td>-0.047970</td>\n",
       "      <td>0.005975</td>\n",
       "      <td>0.000166</td>\n",
       "      <td>-0.008473</td>\n",
       "      <td>0.000663</td>\n",
       "      <td>-0.000427</td>\n",
       "      <td>central</td>\n",
       "    </tr>\n",
       "    <tr>\n",
       "      <th>1</th>\n",
       "      <td>ANDRES_central_1.mp4</td>\n",
       "      <td>0.415535</td>\n",
       "      <td>0.409061</td>\n",
       "      <td>0.416111</td>\n",
       "      <td>0.403401</td>\n",
       "      <td>0.408456</td>\n",
       "      <td>0.410786</td>\n",
       "      <td>0.419194</td>\n",
       "      <td>0.342385</td>\n",
       "      <td>0.421319</td>\n",
       "      <td>...</td>\n",
       "      <td>-0.060644</td>\n",
       "      <td>-0.035067</td>\n",
       "      <td>-0.063349</td>\n",
       "      <td>-0.048298</td>\n",
       "      <td>0.005689</td>\n",
       "      <td>0.000167</td>\n",
       "      <td>-0.008289</td>\n",
       "      <td>-0.001316</td>\n",
       "      <td>-0.002603</td>\n",
       "      <td>central</td>\n",
       "    </tr>\n",
       "    <tr>\n",
       "      <th>2</th>\n",
       "      <td>ANDRES_central_1.mp4</td>\n",
       "      <td>0.405310</td>\n",
       "      <td>0.397977</td>\n",
       "      <td>0.406081</td>\n",
       "      <td>0.393621</td>\n",
       "      <td>0.397450</td>\n",
       "      <td>0.400282</td>\n",
       "      <td>0.410195</td>\n",
       "      <td>0.335502</td>\n",
       "      <td>0.412869</td>\n",
       "      <td>...</td>\n",
       "      <td>-0.060726</td>\n",
       "      <td>-0.035421</td>\n",
       "      <td>-0.063000</td>\n",
       "      <td>-0.047963</td>\n",
       "      <td>0.002883</td>\n",
       "      <td>-0.002311</td>\n",
       "      <td>-0.010423</td>\n",
       "      <td>-0.006159</td>\n",
       "      <td>-0.007528</td>\n",
       "      <td>central</td>\n",
       "    </tr>\n",
       "    <tr>\n",
       "      <th>3</th>\n",
       "      <td>ANDRES_central_1.mp4</td>\n",
       "      <td>0.393906</td>\n",
       "      <td>0.385074</td>\n",
       "      <td>0.394976</td>\n",
       "      <td>0.381659</td>\n",
       "      <td>0.384308</td>\n",
       "      <td>0.387550</td>\n",
       "      <td>0.399104</td>\n",
       "      <td>0.327728</td>\n",
       "      <td>0.402049</td>\n",
       "      <td>...</td>\n",
       "      <td>-0.061844</td>\n",
       "      <td>-0.037312</td>\n",
       "      <td>-0.063675</td>\n",
       "      <td>-0.048738</td>\n",
       "      <td>0.002167</td>\n",
       "      <td>-0.002510</td>\n",
       "      <td>-0.010395</td>\n",
       "      <td>-0.009737</td>\n",
       "      <td>-0.011471</td>\n",
       "      <td>central</td>\n",
       "    </tr>\n",
       "    <tr>\n",
       "      <th>4</th>\n",
       "      <td>ANDRES_central_1.mp4</td>\n",
       "      <td>0.388235</td>\n",
       "      <td>0.378933</td>\n",
       "      <td>0.389493</td>\n",
       "      <td>0.376515</td>\n",
       "      <td>0.378164</td>\n",
       "      <td>0.381696</td>\n",
       "      <td>0.394214</td>\n",
       "      <td>0.325826</td>\n",
       "      <td>0.397569</td>\n",
       "      <td>...</td>\n",
       "      <td>-0.061274</td>\n",
       "      <td>-0.037536</td>\n",
       "      <td>-0.062708</td>\n",
       "      <td>-0.048052</td>\n",
       "      <td>0.001094</td>\n",
       "      <td>-0.003275</td>\n",
       "      <td>-0.010765</td>\n",
       "      <td>-0.012519</td>\n",
       "      <td>-0.014485</td>\n",
       "      <td>central</td>\n",
       "    </tr>\n",
       "    <tr>\n",
       "      <th>...</th>\n",
       "      <td>...</td>\n",
       "      <td>...</td>\n",
       "      <td>...</td>\n",
       "      <td>...</td>\n",
       "      <td>...</td>\n",
       "      <td>...</td>\n",
       "      <td>...</td>\n",
       "      <td>...</td>\n",
       "      <td>...</td>\n",
       "      <td>...</td>\n",
       "      <td>...</td>\n",
       "      <td>...</td>\n",
       "      <td>...</td>\n",
       "      <td>...</td>\n",
       "      <td>...</td>\n",
       "      <td>...</td>\n",
       "      <td>...</td>\n",
       "      <td>...</td>\n",
       "      <td>...</td>\n",
       "      <td>...</td>\n",
       "      <td>...</td>\n",
       "    </tr>\n",
       "    <tr>\n",
       "      <th>9057</th>\n",
       "      <td>SCARLETT_palanca_7.mp4</td>\n",
       "      <td>0.286524</td>\n",
       "      <td>0.251284</td>\n",
       "      <td>0.280877</td>\n",
       "      <td>0.248302</td>\n",
       "      <td>0.247683</td>\n",
       "      <td>0.253657</td>\n",
       "      <td>0.279277</td>\n",
       "      <td>0.184214</td>\n",
       "      <td>0.285353</td>\n",
       "      <td>...</td>\n",
       "      <td>-0.094347</td>\n",
       "      <td>-0.050190</td>\n",
       "      <td>-0.090507</td>\n",
       "      <td>-0.063461</td>\n",
       "      <td>-0.052396</td>\n",
       "      <td>-0.055089</td>\n",
       "      <td>-0.063383</td>\n",
       "      <td>-0.087404</td>\n",
       "      <td>-0.092134</td>\n",
       "      <td>palanca</td>\n",
       "    </tr>\n",
       "    <tr>\n",
       "      <th>9058</th>\n",
       "      <td>SCARLETT_palanca_7.mp4</td>\n",
       "      <td>0.285739</td>\n",
       "      <td>0.250373</td>\n",
       "      <td>0.280047</td>\n",
       "      <td>0.247461</td>\n",
       "      <td>0.246779</td>\n",
       "      <td>0.252779</td>\n",
       "      <td>0.278517</td>\n",
       "      <td>0.183397</td>\n",
       "      <td>0.284635</td>\n",
       "      <td>...</td>\n",
       "      <td>-0.094476</td>\n",
       "      <td>-0.050256</td>\n",
       "      <td>-0.090624</td>\n",
       "      <td>-0.063532</td>\n",
       "      <td>-0.052499</td>\n",
       "      <td>-0.055196</td>\n",
       "      <td>-0.063500</td>\n",
       "      <td>-0.087579</td>\n",
       "      <td>-0.092347</td>\n",
       "      <td>palanca</td>\n",
       "    </tr>\n",
       "    <tr>\n",
       "      <th>9059</th>\n",
       "      <td>SCARLETT_palanca_7.mp4</td>\n",
       "      <td>0.285299</td>\n",
       "      <td>0.249964</td>\n",
       "      <td>0.279628</td>\n",
       "      <td>0.247088</td>\n",
       "      <td>0.246354</td>\n",
       "      <td>0.252393</td>\n",
       "      <td>0.278341</td>\n",
       "      <td>0.183189</td>\n",
       "      <td>0.284543</td>\n",
       "      <td>...</td>\n",
       "      <td>-0.094838</td>\n",
       "      <td>-0.050387</td>\n",
       "      <td>-0.090921</td>\n",
       "      <td>-0.063710</td>\n",
       "      <td>-0.053149</td>\n",
       "      <td>-0.055815</td>\n",
       "      <td>-0.064088</td>\n",
       "      <td>-0.088358</td>\n",
       "      <td>-0.093105</td>\n",
       "      <td>palanca</td>\n",
       "    </tr>\n",
       "    <tr>\n",
       "      <th>9060</th>\n",
       "      <td>SCARLETT_palanca_7.mp4</td>\n",
       "      <td>0.284565</td>\n",
       "      <td>0.249539</td>\n",
       "      <td>0.279140</td>\n",
       "      <td>0.246836</td>\n",
       "      <td>0.245977</td>\n",
       "      <td>0.252092</td>\n",
       "      <td>0.278176</td>\n",
       "      <td>0.183076</td>\n",
       "      <td>0.284439</td>\n",
       "      <td>...</td>\n",
       "      <td>-0.094829</td>\n",
       "      <td>-0.050369</td>\n",
       "      <td>-0.090912</td>\n",
       "      <td>-0.063689</td>\n",
       "      <td>-0.053108</td>\n",
       "      <td>-0.055769</td>\n",
       "      <td>-0.064049</td>\n",
       "      <td>-0.088389</td>\n",
       "      <td>-0.093171</td>\n",
       "      <td>palanca</td>\n",
       "    </tr>\n",
       "    <tr>\n",
       "      <th>9061</th>\n",
       "      <td>SCARLETT_palanca_7.mp4</td>\n",
       "      <td>0.284212</td>\n",
       "      <td>0.248977</td>\n",
       "      <td>0.278585</td>\n",
       "      <td>0.246249</td>\n",
       "      <td>0.245430</td>\n",
       "      <td>0.251507</td>\n",
       "      <td>0.277531</td>\n",
       "      <td>0.182664</td>\n",
       "      <td>0.283839</td>\n",
       "      <td>...</td>\n",
       "      <td>-0.094633</td>\n",
       "      <td>-0.050043</td>\n",
       "      <td>-0.090633</td>\n",
       "      <td>-0.063377</td>\n",
       "      <td>-0.053986</td>\n",
       "      <td>-0.056597</td>\n",
       "      <td>-0.064849</td>\n",
       "      <td>-0.089162</td>\n",
       "      <td>-0.093969</td>\n",
       "      <td>palanca</td>\n",
       "    </tr>\n",
       "  </tbody>\n",
       "</table>\n",
       "<p>9062 rows × 1406 columns</p>\n",
       "</div>"
      ],
      "text/plain": [
       "                    filename       x_0       x_1       x_2       x_3  \\\n",
       "0       ANDRES_central_1.mp4  0.423618  0.418933  0.424612  0.412191   \n",
       "1       ANDRES_central_1.mp4  0.415535  0.409061  0.416111  0.403401   \n",
       "2       ANDRES_central_1.mp4  0.405310  0.397977  0.406081  0.393621   \n",
       "3       ANDRES_central_1.mp4  0.393906  0.385074  0.394976  0.381659   \n",
       "4       ANDRES_central_1.mp4  0.388235  0.378933  0.389493  0.376515   \n",
       "...                      ...       ...       ...       ...       ...   \n",
       "9057  SCARLETT_palanca_7.mp4  0.286524  0.251284  0.280877  0.248302   \n",
       "9058  SCARLETT_palanca_7.mp4  0.285739  0.250373  0.280047  0.247461   \n",
       "9059  SCARLETT_palanca_7.mp4  0.285299  0.249964  0.279628  0.247088   \n",
       "9060  SCARLETT_palanca_7.mp4  0.284565  0.249539  0.279140  0.246836   \n",
       "9061  SCARLETT_palanca_7.mp4  0.284212  0.248977  0.278585  0.246249   \n",
       "\n",
       "           x_4       x_5       x_6       x_7       x_8  ...     z_459  \\\n",
       "0     0.418408  0.420229  0.427040  0.349046  0.428508  ... -0.060105   \n",
       "1     0.408456  0.410786  0.419194  0.342385  0.421319  ... -0.060644   \n",
       "2     0.397450  0.400282  0.410195  0.335502  0.412869  ... -0.060726   \n",
       "3     0.384308  0.387550  0.399104  0.327728  0.402049  ... -0.061844   \n",
       "4     0.378164  0.381696  0.394214  0.325826  0.397569  ... -0.061274   \n",
       "...        ...       ...       ...       ...       ...  ...       ...   \n",
       "9057  0.247683  0.253657  0.279277  0.184214  0.285353  ... -0.094347   \n",
       "9058  0.246779  0.252779  0.278517  0.183397  0.284635  ... -0.094476   \n",
       "9059  0.246354  0.252393  0.278341  0.183189  0.284543  ... -0.094838   \n",
       "9060  0.245977  0.252092  0.278176  0.183076  0.284439  ... -0.094829   \n",
       "9061  0.245430  0.251507  0.277531  0.182664  0.283839  ... -0.094633   \n",
       "\n",
       "         z_460     z_461     z_462     z_463     z_464     z_465     z_466  \\\n",
       "0    -0.034010 -0.063050 -0.047970  0.005975  0.000166 -0.008473  0.000663   \n",
       "1    -0.035067 -0.063349 -0.048298  0.005689  0.000167 -0.008289 -0.001316   \n",
       "2    -0.035421 -0.063000 -0.047963  0.002883 -0.002311 -0.010423 -0.006159   \n",
       "3    -0.037312 -0.063675 -0.048738  0.002167 -0.002510 -0.010395 -0.009737   \n",
       "4    -0.037536 -0.062708 -0.048052  0.001094 -0.003275 -0.010765 -0.012519   \n",
       "...        ...       ...       ...       ...       ...       ...       ...   \n",
       "9057 -0.050190 -0.090507 -0.063461 -0.052396 -0.055089 -0.063383 -0.087404   \n",
       "9058 -0.050256 -0.090624 -0.063532 -0.052499 -0.055196 -0.063500 -0.087579   \n",
       "9059 -0.050387 -0.090921 -0.063710 -0.053149 -0.055815 -0.064088 -0.088358   \n",
       "9060 -0.050369 -0.090912 -0.063689 -0.053108 -0.055769 -0.064049 -0.088389   \n",
       "9061 -0.050043 -0.090633 -0.063377 -0.053986 -0.056597 -0.064849 -0.089162   \n",
       "\n",
       "         z_467    label  \n",
       "0    -0.000427  central  \n",
       "1    -0.002603  central  \n",
       "2    -0.007528  central  \n",
       "3    -0.011471  central  \n",
       "4    -0.014485  central  \n",
       "...        ...      ...  \n",
       "9057 -0.092134  palanca  \n",
       "9058 -0.092347  palanca  \n",
       "9059 -0.093105  palanca  \n",
       "9060 -0.093171  palanca  \n",
       "9061 -0.093969  palanca  \n",
       "\n",
       "[9062 rows x 1406 columns]"
      ]
     },
     "execution_count": 16,
     "metadata": {},
     "output_type": "execute_result"
    }
   ],
   "source": [
    "landmarks_data"
   ]
  },
  {
   "cell_type": "code",
   "execution_count": 17,
   "id": "3d4a0113-db86-42cf-a599-3351f761fe40",
   "metadata": {
    "tags": []
   },
   "outputs": [],
   "source": [
    "df_all_data_landmarks = landmarks_data\n",
    "# Guardar el DataFrame con los landmarks de todos los videos como un archivo CSV\n",
    "df_all_data_landmarks.to_csv('df_all_data_landmarks.csv', index=False)"
   ]
  },
  {
   "cell_type": "markdown",
   "id": "fc2f04ab-dca6-42aa-9389-3e21f9d749a8",
   "metadata": {
    "tags": []
   },
   "source": [
    "### <font color='purple'> **2.2 Dataset filtrado** </font>"
   ]
  },
  {
   "cell_type": "markdown",
   "id": "a5f8c55f-506b-4ff2-b6db-b959c9e111a3",
   "metadata": {},
   "source": [
    "Extraemos los landmarks del dataset filtrado."
   ]
  },
  {
   "cell_type": "code",
   "execution_count": 18,
   "id": "4e4a08cb-f79c-45aa-bca0-1dd35353d385",
   "metadata": {
    "tags": []
   },
   "outputs": [],
   "source": [
    "# Carpeta que contiene las subcarpetas con los videos\n",
    "videos_folder = 'VideosSegmentados2'\n",
    "\n",
    "# Inicializar un DataFrame para almacenar los landmarks faciales de todos los videos\n",
    "df_filter_data_landmarks = pd.DataFrame(columns=['Video', 'Frame', 'Landmarks'])\n",
    "\n",
    "landmarks_filter_data = pd.DataFrame(columns=['filename'] + [f\"x_{i}\" for i in range(468)] + [f\"y_{i}\" for i in range(468)] + [f\"z_{i}\" for i in range(468)] + ['label'])\n",
    "\n",
    "# Iterar sobre el árbol de directorios de la carpeta \"VideosSegmentados2\"\n",
    "for root, dirs, files in os.walk(videos_folder):\n",
    "    # Iterar sobre los archivos de video en el directorio actual\n",
    "    for file in files:\n",
    "        video_path = os.path.join(root, file)\n",
    "        # Verificar si el archivo es un video basándose en su extensión\n",
    "        if os.path.isfile(video_path) and file.lower().endswith('.mp4'):\n",
    "            cap = cv2.VideoCapture(video_path)\n",
    "            if not cap.isOpened():\n",
    "                print(f\"Error al abrir el video: {file}\")\n",
    "                continue\n",
    "            \n",
    "            # Establecer la tasa de fotogramas deseada\n",
    "            cap.set(cv2.CAP_PROP_FPS, 20)\n",
    "\n",
    "            while True:\n",
    "                success, frame = cap.read()\n",
    "                if not success:\n",
    "                    # Indica el fin del video y sale del bucle\n",
    "                    break\n",
    "\n",
    "                # Extraer landmarks faciales del fotograma actual\n",
    "                landmarks = extract_landmarks(frame)\n",
    "\n",
    "                # Almacenar los landmarks en el DataFrame junto con el nombre del video y el número de fotograma\n",
    "                df_filter_data_landmarks = df_filter_data_landmarks.append({'Video': file, 'Frame': cap.get(cv2.CAP_PROP_POS_FRAMES), 'Landmarks': landmarks}, ignore_index=True)\n",
    "\n",
    "                if landmarks:\n",
    "                    # Crear un diccionario para almacenar las coordenadas de cada landmark\n",
    "                    landmark_dict = {\"filename\": file}\n",
    "                    for i, lm in enumerate(landmarks):\n",
    "                        landmark_dict[f\"x_{i}\"] = lm[0]\n",
    "                        landmark_dict[f\"y_{i}\"] = lm[1]\n",
    "                        landmark_dict[f\"z_{i}\"] = lm[2]\n",
    "                    # Agregar la etiqueta al diccionario\n",
    "                    label = file.split('_')[1]  # Extraer la etiqueta del nombre de archivo\n",
    "                    landmark_dict['label'] = label\n",
    "                    # Agregar el diccionario al DataFrame\n",
    "                    landmarks_filter_data = landmarks_filter_data.append(landmark_dict, ignore_index=True)\n",
    "\n",
    "            # Liberar los recursos del video actual\n",
    "            cap.release()"
   ]
  },
  {
   "cell_type": "code",
   "execution_count": 19,
   "id": "7e2fbcbc-b751-4fd1-8e4f-9cd557335632",
   "metadata": {
    "tags": []
   },
   "outputs": [
    {
     "data": {
      "text/html": [
       "<div>\n",
       "<style scoped>\n",
       "    .dataframe tbody tr th:only-of-type {\n",
       "        vertical-align: middle;\n",
       "    }\n",
       "\n",
       "    .dataframe tbody tr th {\n",
       "        vertical-align: top;\n",
       "    }\n",
       "\n",
       "    .dataframe thead th {\n",
       "        text-align: right;\n",
       "    }\n",
       "</style>\n",
       "<table border=\"1\" class=\"dataframe\">\n",
       "  <thead>\n",
       "    <tr style=\"text-align: right;\">\n",
       "      <th></th>\n",
       "      <th>filename</th>\n",
       "      <th>x_0</th>\n",
       "      <th>x_1</th>\n",
       "      <th>x_2</th>\n",
       "      <th>x_3</th>\n",
       "      <th>x_4</th>\n",
       "      <th>x_5</th>\n",
       "      <th>x_6</th>\n",
       "      <th>x_7</th>\n",
       "      <th>x_8</th>\n",
       "      <th>...</th>\n",
       "      <th>z_459</th>\n",
       "      <th>z_460</th>\n",
       "      <th>z_461</th>\n",
       "      <th>z_462</th>\n",
       "      <th>z_463</th>\n",
       "      <th>z_464</th>\n",
       "      <th>z_465</th>\n",
       "      <th>z_466</th>\n",
       "      <th>z_467</th>\n",
       "      <th>label</th>\n",
       "    </tr>\n",
       "  </thead>\n",
       "  <tbody>\n",
       "    <tr>\n",
       "      <th>0</th>\n",
       "      <td>ARIANA_central_3.mp4</td>\n",
       "      <td>0.374296</td>\n",
       "      <td>0.354099</td>\n",
       "      <td>0.380885</td>\n",
       "      <td>0.370500</td>\n",
       "      <td>0.353905</td>\n",
       "      <td>0.364283</td>\n",
       "      <td>0.398759</td>\n",
       "      <td>0.376263</td>\n",
       "      <td>0.409414</td>\n",
       "      <td>...</td>\n",
       "      <td>-0.057455</td>\n",
       "      <td>-0.042304</td>\n",
       "      <td>-0.053799</td>\n",
       "      <td>-0.041403</td>\n",
       "      <td>-0.018547</td>\n",
       "      <td>-0.016952</td>\n",
       "      <td>-0.020370</td>\n",
       "      <td>-0.059403</td>\n",
       "      <td>-0.064355</td>\n",
       "      <td>central</td>\n",
       "    </tr>\n",
       "    <tr>\n",
       "      <th>1</th>\n",
       "      <td>ARIANA_central_3.mp4</td>\n",
       "      <td>0.377582</td>\n",
       "      <td>0.358568</td>\n",
       "      <td>0.384076</td>\n",
       "      <td>0.374407</td>\n",
       "      <td>0.358608</td>\n",
       "      <td>0.368843</td>\n",
       "      <td>0.402649</td>\n",
       "      <td>0.375764</td>\n",
       "      <td>0.413116</td>\n",
       "      <td>...</td>\n",
       "      <td>-0.058589</td>\n",
       "      <td>-0.042403</td>\n",
       "      <td>-0.055352</td>\n",
       "      <td>-0.042558</td>\n",
       "      <td>-0.016793</td>\n",
       "      <td>-0.015785</td>\n",
       "      <td>-0.019656</td>\n",
       "      <td>-0.055740</td>\n",
       "      <td>-0.060499</td>\n",
       "      <td>central</td>\n",
       "    </tr>\n",
       "    <tr>\n",
       "      <th>2</th>\n",
       "      <td>ARIANA_central_3.mp4</td>\n",
       "      <td>0.379547</td>\n",
       "      <td>0.362590</td>\n",
       "      <td>0.386708</td>\n",
       "      <td>0.378868</td>\n",
       "      <td>0.363126</td>\n",
       "      <td>0.373724</td>\n",
       "      <td>0.408189</td>\n",
       "      <td>0.376490</td>\n",
       "      <td>0.419563</td>\n",
       "      <td>...</td>\n",
       "      <td>-0.061062</td>\n",
       "      <td>-0.043984</td>\n",
       "      <td>-0.058573</td>\n",
       "      <td>-0.045393</td>\n",
       "      <td>-0.012608</td>\n",
       "      <td>-0.012452</td>\n",
       "      <td>-0.017169</td>\n",
       "      <td>-0.049571</td>\n",
       "      <td>-0.053950</td>\n",
       "      <td>central</td>\n",
       "    </tr>\n",
       "    <tr>\n",
       "      <th>3</th>\n",
       "      <td>ARIANA_central_3.mp4</td>\n",
       "      <td>0.382762</td>\n",
       "      <td>0.368331</td>\n",
       "      <td>0.391012</td>\n",
       "      <td>0.384593</td>\n",
       "      <td>0.369260</td>\n",
       "      <td>0.380033</td>\n",
       "      <td>0.414409</td>\n",
       "      <td>0.378245</td>\n",
       "      <td>0.426099</td>\n",
       "      <td>...</td>\n",
       "      <td>-0.062608</td>\n",
       "      <td>-0.045019</td>\n",
       "      <td>-0.060538</td>\n",
       "      <td>-0.047153</td>\n",
       "      <td>-0.011005</td>\n",
       "      <td>-0.011192</td>\n",
       "      <td>-0.016247</td>\n",
       "      <td>-0.046853</td>\n",
       "      <td>-0.050957</td>\n",
       "      <td>central</td>\n",
       "    </tr>\n",
       "    <tr>\n",
       "      <th>4</th>\n",
       "      <td>ARIANA_central_3.mp4</td>\n",
       "      <td>0.387290</td>\n",
       "      <td>0.372570</td>\n",
       "      <td>0.394924</td>\n",
       "      <td>0.387928</td>\n",
       "      <td>0.373310</td>\n",
       "      <td>0.383722</td>\n",
       "      <td>0.417358</td>\n",
       "      <td>0.379554</td>\n",
       "      <td>0.428985</td>\n",
       "      <td>...</td>\n",
       "      <td>-0.062604</td>\n",
       "      <td>-0.044844</td>\n",
       "      <td>-0.060838</td>\n",
       "      <td>-0.047410</td>\n",
       "      <td>-0.008741</td>\n",
       "      <td>-0.009408</td>\n",
       "      <td>-0.014692</td>\n",
       "      <td>-0.043359</td>\n",
       "      <td>-0.047358</td>\n",
       "      <td>central</td>\n",
       "    </tr>\n",
       "    <tr>\n",
       "      <th>...</th>\n",
       "      <td>...</td>\n",
       "      <td>...</td>\n",
       "      <td>...</td>\n",
       "      <td>...</td>\n",
       "      <td>...</td>\n",
       "      <td>...</td>\n",
       "      <td>...</td>\n",
       "      <td>...</td>\n",
       "      <td>...</td>\n",
       "      <td>...</td>\n",
       "      <td>...</td>\n",
       "      <td>...</td>\n",
       "      <td>...</td>\n",
       "      <td>...</td>\n",
       "      <td>...</td>\n",
       "      <td>...</td>\n",
       "      <td>...</td>\n",
       "      <td>...</td>\n",
       "      <td>...</td>\n",
       "      <td>...</td>\n",
       "      <td>...</td>\n",
       "    </tr>\n",
       "    <tr>\n",
       "      <th>5930</th>\n",
       "      <td>SCARLETT_palanca_7.mp4</td>\n",
       "      <td>0.286524</td>\n",
       "      <td>0.251284</td>\n",
       "      <td>0.280877</td>\n",
       "      <td>0.248302</td>\n",
       "      <td>0.247683</td>\n",
       "      <td>0.253657</td>\n",
       "      <td>0.279277</td>\n",
       "      <td>0.184214</td>\n",
       "      <td>0.285353</td>\n",
       "      <td>...</td>\n",
       "      <td>-0.094347</td>\n",
       "      <td>-0.050190</td>\n",
       "      <td>-0.090507</td>\n",
       "      <td>-0.063461</td>\n",
       "      <td>-0.052396</td>\n",
       "      <td>-0.055089</td>\n",
       "      <td>-0.063383</td>\n",
       "      <td>-0.087404</td>\n",
       "      <td>-0.092134</td>\n",
       "      <td>palanca</td>\n",
       "    </tr>\n",
       "    <tr>\n",
       "      <th>5931</th>\n",
       "      <td>SCARLETT_palanca_7.mp4</td>\n",
       "      <td>0.285739</td>\n",
       "      <td>0.250373</td>\n",
       "      <td>0.280047</td>\n",
       "      <td>0.247461</td>\n",
       "      <td>0.246779</td>\n",
       "      <td>0.252779</td>\n",
       "      <td>0.278517</td>\n",
       "      <td>0.183397</td>\n",
       "      <td>0.284635</td>\n",
       "      <td>...</td>\n",
       "      <td>-0.094476</td>\n",
       "      <td>-0.050256</td>\n",
       "      <td>-0.090624</td>\n",
       "      <td>-0.063532</td>\n",
       "      <td>-0.052499</td>\n",
       "      <td>-0.055196</td>\n",
       "      <td>-0.063500</td>\n",
       "      <td>-0.087579</td>\n",
       "      <td>-0.092347</td>\n",
       "      <td>palanca</td>\n",
       "    </tr>\n",
       "    <tr>\n",
       "      <th>5932</th>\n",
       "      <td>SCARLETT_palanca_7.mp4</td>\n",
       "      <td>0.285299</td>\n",
       "      <td>0.249964</td>\n",
       "      <td>0.279628</td>\n",
       "      <td>0.247088</td>\n",
       "      <td>0.246354</td>\n",
       "      <td>0.252393</td>\n",
       "      <td>0.278341</td>\n",
       "      <td>0.183189</td>\n",
       "      <td>0.284543</td>\n",
       "      <td>...</td>\n",
       "      <td>-0.094838</td>\n",
       "      <td>-0.050387</td>\n",
       "      <td>-0.090921</td>\n",
       "      <td>-0.063710</td>\n",
       "      <td>-0.053149</td>\n",
       "      <td>-0.055815</td>\n",
       "      <td>-0.064088</td>\n",
       "      <td>-0.088358</td>\n",
       "      <td>-0.093105</td>\n",
       "      <td>palanca</td>\n",
       "    </tr>\n",
       "    <tr>\n",
       "      <th>5933</th>\n",
       "      <td>SCARLETT_palanca_7.mp4</td>\n",
       "      <td>0.284565</td>\n",
       "      <td>0.249539</td>\n",
       "      <td>0.279140</td>\n",
       "      <td>0.246836</td>\n",
       "      <td>0.245977</td>\n",
       "      <td>0.252092</td>\n",
       "      <td>0.278176</td>\n",
       "      <td>0.183076</td>\n",
       "      <td>0.284439</td>\n",
       "      <td>...</td>\n",
       "      <td>-0.094829</td>\n",
       "      <td>-0.050369</td>\n",
       "      <td>-0.090912</td>\n",
       "      <td>-0.063689</td>\n",
       "      <td>-0.053108</td>\n",
       "      <td>-0.055769</td>\n",
       "      <td>-0.064049</td>\n",
       "      <td>-0.088389</td>\n",
       "      <td>-0.093171</td>\n",
       "      <td>palanca</td>\n",
       "    </tr>\n",
       "    <tr>\n",
       "      <th>5934</th>\n",
       "      <td>SCARLETT_palanca_7.mp4</td>\n",
       "      <td>0.284212</td>\n",
       "      <td>0.248977</td>\n",
       "      <td>0.278585</td>\n",
       "      <td>0.246249</td>\n",
       "      <td>0.245430</td>\n",
       "      <td>0.251507</td>\n",
       "      <td>0.277531</td>\n",
       "      <td>0.182664</td>\n",
       "      <td>0.283839</td>\n",
       "      <td>...</td>\n",
       "      <td>-0.094633</td>\n",
       "      <td>-0.050043</td>\n",
       "      <td>-0.090633</td>\n",
       "      <td>-0.063377</td>\n",
       "      <td>-0.053986</td>\n",
       "      <td>-0.056597</td>\n",
       "      <td>-0.064849</td>\n",
       "      <td>-0.089162</td>\n",
       "      <td>-0.093969</td>\n",
       "      <td>palanca</td>\n",
       "    </tr>\n",
       "  </tbody>\n",
       "</table>\n",
       "<p>5935 rows × 1406 columns</p>\n",
       "</div>"
      ],
      "text/plain": [
       "                    filename       x_0       x_1       x_2       x_3  \\\n",
       "0       ARIANA_central_3.mp4  0.374296  0.354099  0.380885  0.370500   \n",
       "1       ARIANA_central_3.mp4  0.377582  0.358568  0.384076  0.374407   \n",
       "2       ARIANA_central_3.mp4  0.379547  0.362590  0.386708  0.378868   \n",
       "3       ARIANA_central_3.mp4  0.382762  0.368331  0.391012  0.384593   \n",
       "4       ARIANA_central_3.mp4  0.387290  0.372570  0.394924  0.387928   \n",
       "...                      ...       ...       ...       ...       ...   \n",
       "5930  SCARLETT_palanca_7.mp4  0.286524  0.251284  0.280877  0.248302   \n",
       "5931  SCARLETT_palanca_7.mp4  0.285739  0.250373  0.280047  0.247461   \n",
       "5932  SCARLETT_palanca_7.mp4  0.285299  0.249964  0.279628  0.247088   \n",
       "5933  SCARLETT_palanca_7.mp4  0.284565  0.249539  0.279140  0.246836   \n",
       "5934  SCARLETT_palanca_7.mp4  0.284212  0.248977  0.278585  0.246249   \n",
       "\n",
       "           x_4       x_5       x_6       x_7       x_8  ...     z_459  \\\n",
       "0     0.353905  0.364283  0.398759  0.376263  0.409414  ... -0.057455   \n",
       "1     0.358608  0.368843  0.402649  0.375764  0.413116  ... -0.058589   \n",
       "2     0.363126  0.373724  0.408189  0.376490  0.419563  ... -0.061062   \n",
       "3     0.369260  0.380033  0.414409  0.378245  0.426099  ... -0.062608   \n",
       "4     0.373310  0.383722  0.417358  0.379554  0.428985  ... -0.062604   \n",
       "...        ...       ...       ...       ...       ...  ...       ...   \n",
       "5930  0.247683  0.253657  0.279277  0.184214  0.285353  ... -0.094347   \n",
       "5931  0.246779  0.252779  0.278517  0.183397  0.284635  ... -0.094476   \n",
       "5932  0.246354  0.252393  0.278341  0.183189  0.284543  ... -0.094838   \n",
       "5933  0.245977  0.252092  0.278176  0.183076  0.284439  ... -0.094829   \n",
       "5934  0.245430  0.251507  0.277531  0.182664  0.283839  ... -0.094633   \n",
       "\n",
       "         z_460     z_461     z_462     z_463     z_464     z_465     z_466  \\\n",
       "0    -0.042304 -0.053799 -0.041403 -0.018547 -0.016952 -0.020370 -0.059403   \n",
       "1    -0.042403 -0.055352 -0.042558 -0.016793 -0.015785 -0.019656 -0.055740   \n",
       "2    -0.043984 -0.058573 -0.045393 -0.012608 -0.012452 -0.017169 -0.049571   \n",
       "3    -0.045019 -0.060538 -0.047153 -0.011005 -0.011192 -0.016247 -0.046853   \n",
       "4    -0.044844 -0.060838 -0.047410 -0.008741 -0.009408 -0.014692 -0.043359   \n",
       "...        ...       ...       ...       ...       ...       ...       ...   \n",
       "5930 -0.050190 -0.090507 -0.063461 -0.052396 -0.055089 -0.063383 -0.087404   \n",
       "5931 -0.050256 -0.090624 -0.063532 -0.052499 -0.055196 -0.063500 -0.087579   \n",
       "5932 -0.050387 -0.090921 -0.063710 -0.053149 -0.055815 -0.064088 -0.088358   \n",
       "5933 -0.050369 -0.090912 -0.063689 -0.053108 -0.055769 -0.064049 -0.088389   \n",
       "5934 -0.050043 -0.090633 -0.063377 -0.053986 -0.056597 -0.064849 -0.089162   \n",
       "\n",
       "         z_467    label  \n",
       "0    -0.064355  central  \n",
       "1    -0.060499  central  \n",
       "2    -0.053950  central  \n",
       "3    -0.050957  central  \n",
       "4    -0.047358  central  \n",
       "...        ...      ...  \n",
       "5930 -0.092134  palanca  \n",
       "5931 -0.092347  palanca  \n",
       "5932 -0.093105  palanca  \n",
       "5933 -0.093171  palanca  \n",
       "5934 -0.093969  palanca  \n",
       "\n",
       "[5935 rows x 1406 columns]"
      ]
     },
     "execution_count": 19,
     "metadata": {},
     "output_type": "execute_result"
    }
   ],
   "source": [
    "landmarks_filter_data"
   ]
  },
  {
   "cell_type": "code",
   "execution_count": 20,
   "id": "031a0eef-e612-40d9-9cde-9d67eebf2aa1",
   "metadata": {
    "tags": []
   },
   "outputs": [],
   "source": [
    "df_filter_data_landmarks = landmarks_filter_data\n",
    "# Guardar el DataFrame con los landmarks de todos los videos como un archivo CSV\n",
    "df_filter_data_landmarks.to_csv('df_filter_data_landmarks.csv', index=False)"
   ]
  },
  {
   "cell_type": "code",
   "execution_count": 23,
   "id": "49a8559a-1abd-41cc-a800-680b992636a0",
   "metadata": {
    "tags": []
   },
   "outputs": [
    {
     "name": "stdout",
     "output_type": "stream",
     "text": [
      "No hay filas duplicadas en el DataFrame.\n"
     ]
    }
   ],
   "source": [
    "# Verificar si hay filas duplicadas\n",
    "hay_duplicadas = df_filter_data_landmarks.duplicated().any()\n",
    "\n",
    "if hay_duplicadas:\n",
    "    print(\"Hay filas duplicadas en el DataFrame.\")\n",
    "else:\n",
    "    print(\"No hay filas duplicadas en el DataFrame.\")\n"
   ]
  },
  {
   "cell_type": "markdown",
   "id": "26aef2c4-8245-4852-a4ef-c870fb52e229",
   "metadata": {
    "tags": []
   },
   "source": [
    "## <font color='purple'> **3.- Análisis Exploratorio** </font>"
   ]
  },
  {
   "cell_type": "markdown",
   "id": "13f57b66-4e66-4d0c-a785-1e5e718cbe5d",
   "metadata": {
    "tags": []
   },
   "source": [
    "### <font color='purple'> **3.1 Visualización de landmarks** </font>"
   ]
  },
  {
   "cell_type": "markdown",
   "id": "b19330a9-a456-40ca-9bb7-a3ffe5cd3753",
   "metadata": {},
   "source": [
    "Observemos un ejemplo visual de los landmarks extraídos."
   ]
  },
  {
   "cell_type": "code",
   "execution_count": 25,
   "id": "c5902a49-4414-43f0-a4cd-95558c63fda1",
   "metadata": {},
   "outputs": [
    {
     "name": "stdout",
     "output_type": "stream",
     "text": [
      "Video cargado exitosamente\n"
     ]
    },
    {
     "data": {
      "image/png": "[encoded data removed]",
      "text/plain": [
       "<Figure size 1000x800 with 1 Axes>"
      ]
     },
     "metadata": {},
     "output_type": "display_data"
    }
   ],
   "source": [
    "# Inicializar el modelo FaceMesh de MediaPipe\n",
    "mp_face_mesh = mp.solutions.face_mesh\n",
    "face_mesh = mp_face_mesh.FaceMesh(static_image_mode=True, max_num_faces=1, min_detection_confidence=0.5)\n",
    "\n",
    "# Función para procesar un fotograma de video y extraer landmarks faciales\n",
    "def extract_landmarks_video(frame):\n",
    "    # Convertir el fotograma a RGB (MediaPipe requiere entradas RGB)\n",
    "    frame_rgb = cv2.cvtColor(frame, cv2.COLOR_BGR2RGB)\n",
    "    # Procesar el fotograma\n",
    "    results = face_mesh.process(frame_rgb)\n",
    "    # Extraer landmarks del rostro detectado\n",
    "    if results.multi_face_landmarks:\n",
    "        face_landmarks = results.multi_face_landmarks[0]  # Tomamos solo el primer rostro detectado\n",
    "        landmarks = [(lm.x, lm.y) for lm in face_landmarks.landmark]\n",
    "        return landmarks\n",
    "    else:\n",
    "        return None\n",
    "\n",
    "# Cargar el video \n",
    "video_path = \"VideosSegmentados/frente/SCARLETT_frente_9.mp4\" \n",
    "cap = cv2.VideoCapture(video_path)\n",
    "\n",
    "if not cap.isOpened():\n",
    "    print(\"No se pudo abrir el video\")\n",
    "else:\n",
    "    print(\"Video cargado exitosamente\")\n",
    "\n",
    "# Leer un fotograma específico del video\n",
    "frame_number = 100 \n",
    "cap.set(cv2.CAP_PROP_POS_FRAMES, frame_number)\n",
    "ret, frame = cap.read()\n",
    "\n",
    "if ret:\n",
    "    # Extraer landmarks del fotograma\n",
    "    landmarks = extract_landmarks_video(frame)\n",
    "\n",
    "    # Dibujar los landmarks en el fotograma\n",
    "    if landmarks:\n",
    "        for landmark in landmarks:\n",
    "            x = int(landmark[0] * frame.shape[1])\n",
    "            y = int(landmark[1] * frame.shape[0])\n",
    "            cv2.circle(frame, (x, y), 2, (0, 0, 255), -1)\n",
    "\n",
    "    # Mostrar la imagen con los landmarks \n",
    "    plt.figure(figsize=(10, 8))\n",
    "    plt.imshow(cv2.cvtColor(frame, cv2.COLOR_BGR2RGB))\n",
    "    plt.axis('off')\n",
    "    plt.show()\n",
    "else:\n",
    "    print(f\"No se pudo leer el fotograma {frame_number} del video\")\n",
    "\n",
    "# Liberar recursos\n",
    "cap.release()"
   ]
  },
  {
   "cell_type": "markdown",
   "id": "8e2bd3d9-777f-4698-b592-eb910d0b54d9",
   "metadata": {
    "tags": []
   },
   "source": [
    "### <font color='purple'> **3.2 Fotogramas en cada categoría del conjunto de datos completo** </font>"
   ]
  },
  {
   "cell_type": "code",
   "execution_count": 73,
   "id": "08aab876-0071-4d04-9bd9-d9a890a2e658",
   "metadata": {
    "tags": []
   },
   "outputs": [
    {
     "data": {
      "image/png": "[encoded data removed]",
      "text/plain": [
       "<Figure size 800x400 with 1 Axes>"
      ]
     },
     "metadata": {},
     "output_type": "display_data"
    }
   ],
   "source": [
    "label_frequencies = df_all_data_landmarks['label'].value_counts()\n",
    "\n",
    "# Establece el estilo de Seaborn\n",
    "sns.set_style(\"whitegrid\")\n",
    "\n",
    "# Define una paleta de colores en tonos morados\n",
    "purple_palette = sns.color_palette(\"Purples\", len(label_frequencies))\n",
    "\n",
    "# Crea la gráfica\n",
    "plt.figure(figsize=(8, 4))\n",
    "barplot = sns.barplot(x=label_frequencies.index, y=label_frequencies.values, palette=purple_palette)\n",
    "\n",
    "# Añade título y etiquetas\n",
    "plt.title('Frecuencia de Etiquetas', fontsize=16)\n",
    "plt.xlabel('Etiqueta', fontsize=14)\n",
    "plt.ylabel('Frecuencia (frames)', fontsize=14)\n",
    "\n",
    "# Rotación de etiquetas en el eje x para mayor legibilidad\n",
    "barplot.set_xticklabels(barplot.get_xticklabels(), rotation=45, horizontalalignment='right')\n",
    "\n",
    "# Añade etiquetas sobre las barras\n",
    "for index, value in enumerate(label_frequencies):\n",
    "    barplot.text(index, value, str(value), ha='center', va='bottom')\n",
    "\n",
    "# Muestra la gráfica\n",
    "plt.tight_layout()\n",
    "plt.show()"
   ]
  },
  {
   "cell_type": "markdown",
   "id": "dbcbef0e-0da7-4dff-b734-1bacd591c899",
   "metadata": {
    "tags": []
   },
   "source": [
    "### <font color='purple'> **3.3 Fotogramas en cada categoría del conjunto de datos filtrados** </font>"
   ]
  },
  {
   "cell_type": "code",
   "execution_count": 74,
   "id": "197d56a3-bcbe-4a68-bfa5-8f7d9130b836",
   "metadata": {
    "tags": []
   },
   "outputs": [
    {
     "data": {
      "image/png": "[encoded data removed]",
      "text/plain": [
       "<Figure size 800x400 with 1 Axes>"
      ]
     },
     "metadata": {},
     "output_type": "display_data"
    }
   ],
   "source": [
    "label_frequencies = df_filter_data_landmarks['label'].value_counts()\n",
    "\n",
    "# Establece el estilo de Seaborn\n",
    "sns.set_style(\"whitegrid\")\n",
    "\n",
    "# Define una paleta de colores en tonos morados\n",
    "purple_palette = sns.color_palette(\"Purples\", len(label_frequencies))\n",
    "\n",
    "# Crea la gráfica\n",
    "plt.figure(figsize=(8, 4))\n",
    "barplot = sns.barplot(x=label_frequencies.index, y=label_frequencies.values, palette=purple_palette)\n",
    "\n",
    "# Añade título y etiquetas\n",
    "plt.title('Frecuencia de Etiquetas', fontsize=16)\n",
    "plt.xlabel('Etiqueta', fontsize=14)\n",
    "plt.ylabel('Frecuencia (frames)', fontsize=14)\n",
    "\n",
    "# Rotación de etiquetas en el eje x para mayor legibilidad\n",
    "barplot.set_xticklabels(barplot.get_xticklabels(), rotation=45, horizontalalignment='right')\n",
    "\n",
    "# Añade etiquetas sobre las barras\n",
    "for index, value in enumerate(label_frequencies):\n",
    "    barplot.text(index, value, str(value), ha='center', va='bottom')\n",
    "\n",
    "# Muestra la gráfica\n",
    "plt.tight_layout()\n",
    "plt.show()"
   ]
  },
  {
   "cell_type": "markdown",
   "id": "d25d6992-6328-4049-ad87-c1ce583daa72",
   "metadata": {
    "tags": []
   },
   "source": [
    "## <font color='purple'> **4.- Selección de características** </font>"
   ]
  },
  {
   "cell_type": "markdown",
   "id": "c9b77b5a-8692-4636-b8d3-2a141f9a570c",
   "metadata": {},
   "source": [
    "Dada la alta dimensionalidad de los datos, en esta sección llevaremos a cabo la selección de características utilizando la técnica de Ganancia de Información."
   ]
  },
  {
   "cell_type": "markdown",
   "id": "8a90011a-ee71-473e-a985-477b410820e8",
   "metadata": {
    "tags": []
   },
   "source": [
    "### <font color='purple'> **4.1 Dataset completo** </font>"
   ]
  },
  {
   "cell_type": "code",
   "execution_count": 28,
   "id": "5d2bcc7b-9b99-4e4d-a9d1-7c24a850b90d",
   "metadata": {},
   "outputs": [],
   "source": [
    "X_all = df_all_data_landmarks.drop(['label', 'filename'], axis=1)\n",
    "y_all = df_all_data_landmarks['label']"
   ]
  },
  {
   "cell_type": "code",
   "execution_count": 41,
   "id": "27f3c172-5635-4da8-a5ac-41d59577a320",
   "metadata": {},
   "outputs": [
    {
     "data": {
      "text/plain": [
       "z_129    1.014898\n",
       "z_448    1.002078\n",
       "z_264    1.002043\n",
       "z_340    1.000746\n",
       "z_346    1.000193\n",
       "z_265    0.999419\n",
       "z_142    0.999202\n",
       "z_254    0.998244\n",
       "z_203    0.998205\n",
       "z_261    0.995509\n",
       "z_36     0.990482\n",
       "z_229    0.988949\n",
       "z_390    0.988823\n",
       "z_467    0.988308\n",
       "z_339    0.987575\n",
       "z_101    0.985586\n",
       "z_345    0.984637\n",
       "z_466    0.984436\n",
       "z_445    0.984356\n",
       "z_342    0.983302\n",
       "z_373    0.982857\n",
       "z_371    0.982088\n",
       "dtype: float64"
      ]
     },
     "metadata": {},
     "output_type": "display_data"
    }
   ],
   "source": [
    "X_new_all = mutual_info_classif(X_all, y_all)\n",
    "feat_imp_all = pd.Series(X_new_all, df_all_data_landmarks.columns[1:-1])\n",
    "#Observamos las features con valores mayores a 0.98\n",
    "feat_imp_sorted_all = feat_imp_all[feat_imp_all > 0.98].sort_values(ascending=False)\n",
    "display(feat_imp_sorted_all)"
   ]
  },
  {
   "cell_type": "code",
   "execution_count": 80,
   "id": "44a0f906-7e09-4f68-824a-8d73fc27210f",
   "metadata": {},
   "outputs": [],
   "source": [
    "X_all_selected = df_all_data_landmarks[feat_imp_sorted_all.index]\n",
    "df_all_selected = pd.concat([df_all_data_landmarks['filename'], X_all_selected, y_all], axis=1)\n",
    "# Guardar el DataFrame como un archivo CSV\n",
    "df_all_selected.to_csv('df_all_selected.csv', index=False)"
   ]
  },
  {
   "cell_type": "markdown",
   "id": "4ca94f32-6377-4a34-addd-65df64c1b6e4",
   "metadata": {
    "tags": []
   },
   "source": [
    "### <font color='purple'> **4.2 Dataset filtrado** </font>"
   ]
  },
  {
   "cell_type": "code",
   "execution_count": 49,
   "id": "aa50630e-646a-4223-85d4-13d16e594c95",
   "metadata": {
    "tags": []
   },
   "outputs": [],
   "source": [
    "X_filter = df_filter_data_landmarks.drop(['label', 'filename'], axis=1)\n",
    "y_filter = df_filter_data_landmarks['label']"
   ]
  },
  {
   "cell_type": "code",
   "execution_count": 59,
   "id": "ce3db696-ca37-4afc-ba5e-f17298551568",
   "metadata": {
    "tags": []
   },
   "outputs": [
    {
     "data": {
      "text/plain": [
       "x_213    1.443857\n",
       "x_147    1.417627\n",
       "x_111    1.408891\n",
       "x_187    1.408099\n",
       "x_35     1.406134\n",
       "z_229    1.399256\n",
       "x_208    1.398552\n",
       "x_181    1.397211\n",
       "z_117    1.397009\n",
       "z_147    1.396736\n",
       "x_192    1.393450\n",
       "x_29     1.392713\n",
       "x_156    1.390772\n",
       "x_142    1.387764\n",
       "x_144    1.387132\n",
       "x_89     1.386506\n",
       "x_180    1.384936\n",
       "z_371    1.384487\n",
       "x_171    1.383679\n",
       "x_129    1.381819\n",
       "dtype: float64"
      ]
     },
     "metadata": {},
     "output_type": "display_data"
    }
   ],
   "source": [
    "X_new_filter = mutual_info_classif(X_filter, y_filter)\n",
    "feat_imp_filter = pd.Series(X_new_filter, df_filter_data_landmarks.columns[1:-1])\n",
    "#Observamos las features con valores mayores a 1.38\n",
    "feat_imp_sorted_filter = feat_imp_filter[feat_imp_filter > 1.38].sort_values(ascending=False)\n",
    "display(feat_imp_sorted_filter)"
   ]
  },
  {
   "cell_type": "code",
   "execution_count": 78,
   "id": "996dbcd4-a919-4e4f-88d0-33aa4083834d",
   "metadata": {
    "tags": []
   },
   "outputs": [],
   "source": [
    "X_filter_selected = df_filter_data_landmarks[feat_imp_sorted_filter.index]\n",
    "df_filter_selected = pd.concat([df_filter_data_landmarks['filename'], X_filter_selected, y_filter], axis=1)\n",
    "# Guardar el DataFrame como un archivo CSV\n",
    "df_filter_selected.to_csv('df_filter_selected.csv', index=False)"
   ]
  },
  {
   "cell_type": "markdown",
   "id": "a6e1aaf4-3a04-4380-89a2-ca19a7cccf4d",
   "metadata": {
    "tags": []
   },
   "source": [
    "## <font color='purple'> **5.- Construcción y evaluación de los modelos** </font>"
   ]
  },
  {
   "cell_type": "markdown",
   "id": "99851b96-e048-4963-bd96-1ed856f9ad68",
   "metadata": {},
   "source": [
    "En esta sección entrenaremos cuatro modelos para detectar el punto de atención visual al que mira el conductor. Estos modelos seran evaluados utilizando validación cruzada. Se decidió utilizar validación cruzada con Stratified Shuffle Split debido al desbalance en las clases. Los algoritmos de inferencia utilizados son los siguientes:\n",
    "\n",
    "+ Logistic Regression\n",
    "+ Random Forest\n",
    "+ Gradient Boosting\n",
    "+ Support Vector Machines\n",
    "\n",
    "Finalmente se analizarán los videos clasificados incorrectamente (falsos positivos y falsos negativos)."
   ]
  },
  {
   "cell_type": "markdown",
   "id": "cff8354e-8937-4b48-98a1-242407dd3a47",
   "metadata": {
    "tags": []
   },
   "source": [
    "### <font color='purple'> **5.1 Definición de funciones** </font>"
   ]
  },
  {
   "cell_type": "code",
   "execution_count": 83,
   "id": "b6ad6110-c3d8-4996-8109-80d822cdd4bc",
   "metadata": {
    "tags": []
   },
   "outputs": [],
   "source": [
    "def validation_predict(model, df, num_folds):\n",
    "\n",
    "    # Se divide el conjunto de datos en variables independientes y variable dependiente\n",
    "    X = df.drop('label','filename', axis=1)\n",
    "    y = df['label']\n",
    "    \n",
    "    # Se crea un objeto StratifiedShuffleSplit para dividir los datos originales en folds estratificados\n",
    "    sss = StratifiedShuffleSplit(n_splits=num_folds, test_size=1/num_folds, random_state=42)\n",
    "        \n",
    "    # Se inicializa una lista para almacenar las predicciones de cada fold\n",
    "    predictions = []\n",
    "    # Se inicializa una lista para almacenar las etiquetas originales\n",
    "    labels = []\n",
    "    indexes = []\n",
    "\n",
    "    # Realiza la validación cruzada y entrena el modelo en cada fold\n",
    "    for train_index, test_index in sss.split(X, y):\n",
    "        \n",
    "        X_train, X_test = X.iloc[train_index], X.iloc[test_index]\n",
    "        y_train, y_test = y.iloc[train_index], y.iloc[test_index]\n",
    "         \n",
    "        if isinstance(model, SVC):\n",
    "            # Convertir la matriz dispersa a matriz densa antes de ajustar el modelo\n",
    "            X_train = check_array(X_train, accept_sparse='csr', force_all_finite=False)\n",
    "            # Ajustar el modelo sin feature_names\n",
    "            model.fit(X_train, y_train)\n",
    "        else:\n",
    "            model.fit(X_train, y_train)\n",
    "\n",
    "        # Se realizan las predicciones en el conjunto de prueba (datos originales) de este fold\n",
    "        fold_predictions = model.predict(X_test)\n",
    "\n",
    "        # Se almacenan las predicciones y etiquetas de cada fold en las listas\n",
    "        predictions.extend(fold_predictions)\n",
    "        labels.extend(y_test)\n",
    "        indexes.extend(test_index)\n",
    "    \n",
    "    \n",
    "    df_predictions = pd.Series(predictions)\n",
    "    df_labels = pd.Series(labels)\n",
    "    df_indexes = pd.Series(indexes)\n",
    "    \n",
    "    # Se regresan los datos originales con los datos predichos durante la validación cruzada\n",
    "    return df_labels, df_predictions, df_indexes"
   ]
  },
  {
   "cell_type": "code",
   "execution_count": 66,
   "id": "e54d645b-2352-432c-89aa-aa5a5679fa80",
   "metadata": {
    "tags": []
   },
   "outputs": [],
   "source": [
    "def cross_validation_classification_models(df, num_folds):\n",
    "    \n",
    "    models = {        \n",
    "        'Logistic Regression': LogisticRegression(multi_class='multinomial', solver='lbfgs'),\n",
    "        'Random Forest': RandomForestClassifier(n_estimators=100, random_state=24),\n",
    "        'Gradient Boosting': GradientBoostingClassifier(n_estimators=100, learning_rate=1.0, max_depth=1, random_state=42),\n",
    "        'SVM': SVC(kernel='linear', decision_function_shape='ovr')\n",
    "    }\n",
    "    \n",
    "    predictions = {} # Diccionario para almacenar las predicciones\n",
    "    \n",
    "    # Evaluamos el rendimiento de cada modelo\n",
    "    for model_name, model in models.items():\n",
    "        \n",
    "        # Utilizamos cross_val_predict para obtener las predicciones\n",
    "        y, predicted, indexes = validation_predict(model, df, num_folds)\n",
    "        \n",
    "        # Calcula y muestra las métricas\n",
    "        print(\"Resultados de validación cruzada para {}:\".format(model.__class__.__name__))\n",
    "        print(\"Exactitud:\", accuracy_score(y, predicted))\n",
    "        print(\"Reporte de clasificación:\")\n",
    "        print(classification_report(y, predicted))\n",
    "\n",
    "        # Calcula y muestra la matriz de confusión como una imagen\n",
    "        conf_mat = confusion_matrix(y, predicted)\n",
    "        plt.figure(figsize=(3, 3))\n",
    "        sns.heatmap(conf_mat, annot=True, fmt=\"d\", cmap=\"Purples\", cbar=False)\n",
    "        plt.title(\"Matriz de Confusión\")\n",
    "        plt.xlabel(\"Predicción\")\n",
    "        plt.ylabel(\"Valor Real\")\n",
    "        plt.show()\n",
    "        print()\n",
    "        \n",
    "        \n",
    "        # Almacenamos las métricas en el diccionario\n",
    "        predictions[model_name] = {\n",
    "            'index': indexes,\n",
    "            'real': y,\n",
    "            'predicted': predicted\n",
    "        }\n",
    "        \n",
    "    return predictions"
   ]
  },
  {
   "cell_type": "code",
   "execution_count": 124,
   "id": "c82fd749-1c91-4698-bdbc-b737102a67d1",
   "metadata": {
    "tags": []
   },
   "outputs": [],
   "source": [
    "def reproducir_video(video_path):\n",
    "    cap = cv2.VideoCapture(video_path)\n",
    "\n",
    "    # Obtener el ancho y alto del video para redimensionar la ventana\n",
    "    width = int(cap.get(cv2.CAP_PROP_FRAME_WIDTH))\n",
    "    height = int(cap.get(cv2.CAP_PROP_FRAME_HEIGHT))\n",
    "\n",
    "    # Definir el nuevo tamaño de la ventana\n",
    "    new_width = int(width * 0.5)  # Reducir el ancho a la mitad\n",
    "    new_height = int(height * 0.5)  # Reducir la altura a la mitad\n",
    "\n",
    "    while cap.isOpened():\n",
    "        ret, frame = cap.read()\n",
    "        if ret:\n",
    "            # Redimensionar el frame\n",
    "            frame = cv2.resize(frame, (new_width, new_height))\n",
    "\n",
    "            cv2.imshow('Video', frame)\n",
    "            key = cv2.waitKey(25)\n",
    "            \n",
    "            # Salir si se presiona la tecla 'q'\n",
    "            if key & 0xFF == ord('q'):\n",
    "                break\n",
    "        else:\n",
    "            break\n",
    "\n",
    "    cap.release()\n",
    "    cv2.destroyAllWindows()"
   ]
  },
  {
   "cell_type": "markdown",
   "id": "dd9e8e17-7800-40ea-a126-bd0138066ba9",
   "metadata": {
    "tags": []
   },
   "source": [
    "### <font color='purple'> **5.2 Dataset completo** </font>"
   ]
  },
  {
   "cell_type": "code",
   "execution_count": null,
   "id": "b78c4626-b9b1-43b6-93da-496eea13009e",
   "metadata": {},
   "outputs": [],
   "source": [
    "# Leer el archivo CSV en un DataFrame\n",
    "#df_all_selected = pd.read_csv('df_all_selected.csv')"
   ]
  },
  {
   "cell_type": "code",
   "execution_count": 76,
   "id": "ae3ca34b-5fce-4dff-8d84-bed381b18283",
   "metadata": {
    "tags": []
   },
   "outputs": [
    {
     "name": "stdout",
     "output_type": "stream",
     "text": [
      "Resultados de validación cruzada para LogisticRegression:\n",
      "Exactitud: 0.8013230429988975\n",
      "Reporte de clasificación:\n",
      "              precision    recall  f1-score   support\n",
      "\n",
      "     central       0.75      0.76      0.76      1770\n",
      "     derecho       0.76      0.78      0.77      1850\n",
      "      frente       0.70      0.95      0.81      2040\n",
      "   izquierdo       1.00      0.74      0.85      1670\n",
      "     palanca       0.96      0.74      0.83      1740\n",
      "\n",
      "    accuracy                           0.80      9070\n",
      "   macro avg       0.83      0.80      0.80      9070\n",
      "weighted avg       0.83      0.80      0.80      9070\n",
      "\n"
     ]
    },
    {
     "data": {
      "image/png": "[encoded data removed]",
      "text/plain": [
       "<Figure size 300x300 with 1 Axes>"
      ]
     },
     "metadata": {},
     "output_type": "display_data"
    },
    {
     "name": "stdout",
     "output_type": "stream",
     "text": [
      "\n",
      "Resultados de validación cruzada para RandomForestClassifier:\n",
      "Exactitud: 0.9140022050716649\n",
      "Reporte de clasificación:\n",
      "              precision    recall  f1-score   support\n",
      "\n",
      "     central       0.89      0.86      0.87      1770\n",
      "     derecho       0.87      0.92      0.89      1850\n",
      "      frente       0.92      0.95      0.93      2040\n",
      "   izquierdo       0.98      0.96      0.97      1670\n",
      "     palanca       0.93      0.88      0.90      1740\n",
      "\n",
      "    accuracy                           0.91      9070\n",
      "   macro avg       0.92      0.91      0.91      9070\n",
      "weighted avg       0.91      0.91      0.91      9070\n",
      "\n"
     ]
    },
    {
     "data": {
      "image/png": "[encoded data removed]",
      "text/plain": [
       "<Figure size 300x300 with 1 Axes>"
      ]
     },
     "metadata": {},
     "output_type": "display_data"
    },
    {
     "name": "stdout",
     "output_type": "stream",
     "text": [
      "\n",
      "Resultados de validación cruzada para GradientBoostingClassifier:\n",
      "Exactitud: 0.8891951488423374\n",
      "Reporte de clasificación:\n",
      "              precision    recall  f1-score   support\n",
      "\n",
      "     central       0.84      0.84      0.84      1770\n",
      "     derecho       0.85      0.86      0.85      1850\n",
      "      frente       0.90      0.94      0.92      2040\n",
      "   izquierdo       0.97      0.94      0.96      1670\n",
      "     palanca       0.90      0.86      0.88      1740\n",
      "\n",
      "    accuracy                           0.89      9070\n",
      "   macro avg       0.89      0.89      0.89      9070\n",
      "weighted avg       0.89      0.89      0.89      9070\n",
      "\n"
     ]
    },
    {
     "data": {
      "image/png": "[encoded data removed]",
      "text/plain": [
       "<Figure size 300x300 with 1 Axes>"
      ]
     },
     "metadata": {},
     "output_type": "display_data"
    },
    {
     "name": "stdout",
     "output_type": "stream",
     "text": [
      "\n",
      "Resultados de validación cruzada para SVC:\n",
      "Exactitud: 0.7694597574421169\n",
      "Reporte de clasificación:\n",
      "              precision    recall  f1-score   support\n",
      "\n",
      "     central       0.58      0.81      0.68      1770\n",
      "     derecho       0.83      0.70      0.76      1850\n",
      "      frente       0.74      0.94      0.83      2040\n",
      "   izquierdo       1.00      0.76      0.87      1670\n",
      "     palanca       0.89      0.60      0.72      1740\n",
      "\n",
      "    accuracy                           0.77      9070\n",
      "   macro avg       0.81      0.76      0.77      9070\n",
      "weighted avg       0.80      0.77      0.77      9070\n",
      "\n"
     ]
    },
    {
     "data": {
      "image/png": "[encoded data removed]",
      "text/plain": [
       "<Figure size 300x300 with 1 Axes>"
      ]
     },
     "metadata": {},
     "output_type": "display_data"
    },
    {
     "name": "stdout",
     "output_type": "stream",
     "text": [
      "\n"
     ]
    }
   ],
   "source": [
    "predictions_all = cross_validation_classification_models(df_all_selected, 10)"
   ]
  },
  {
   "cell_type": "markdown",
   "id": "34b238fa-9ee0-4d4e-aa09-52505a2ce7d3",
   "metadata": {},
   "source": [
    "**Observaciones:** \n",
    "\n",
    "En las matrices de confusión de SVM (con una exactitud de 0.77) y Regresión Logística (con una exactitud de 0.80), se observa una tendencia de confusión entre las clases \"central\" y \"derecho\", así como entre las clases \"frente\" e \"izquierdo\". Además, en la matriz de confusión de SVM, la clase \"palanca\" tiende a confundirse con la clase \"central\".\n",
    "\n",
    "El modelo Gradient Boosting obtuvo el segundo lugar en cuanto a las métricas alcanzadas, logrando una exactitud del 0.89, mientras que Random Forest exhibe el mejor rendimiento, con una exactitud de 0.91. En su matriz de confusión, se aprecia un patrón similar al de Gradient Boosting, pero con menos falsos positivos. Se destaca que en ambos modelos las instancias de \"central\" suelen confundirse con \"derecho\" y \"frente\", y que \"palanca\" suele confundirse con \"central\" y \"derecho\"."
   ]
  },
  {
   "cell_type": "markdown",
   "id": "10f0d20b-f7cd-4e50-a7a7-3368c290e65a",
   "metadata": {
    "tags": []
   },
   "source": [
    "#### <font color='purple'> **5.2.1 Visualización de instancias mal clasificadas** </font>"
   ]
  },
  {
   "cell_type": "code",
   "execution_count": 101,
   "id": "78b16a83-bd0e-408f-911c-69d655ad4caa",
   "metadata": {
    "tags": []
   },
   "outputs": [
    {
     "data": {
      "text/html": [
       "<div>\n",
       "<style scoped>\n",
       "    .dataframe tbody tr th:only-of-type {\n",
       "        vertical-align: middle;\n",
       "    }\n",
       "\n",
       "    .dataframe tbody tr th {\n",
       "        vertical-align: top;\n",
       "    }\n",
       "\n",
       "    .dataframe thead th {\n",
       "        text-align: right;\n",
       "    }\n",
       "</style>\n",
       "<table border=\"1\" class=\"dataframe\">\n",
       "  <thead>\n",
       "    <tr style=\"text-align: right;\">\n",
       "      <th></th>\n",
       "      <th>filename</th>\n",
       "      <th>z_129</th>\n",
       "      <th>z_448</th>\n",
       "      <th>z_264</th>\n",
       "      <th>z_340</th>\n",
       "      <th>z_346</th>\n",
       "      <th>z_265</th>\n",
       "      <th>z_142</th>\n",
       "      <th>z_254</th>\n",
       "      <th>z_203</th>\n",
       "      <th>...</th>\n",
       "      <th>z_339</th>\n",
       "      <th>z_101</th>\n",
       "      <th>z_345</th>\n",
       "      <th>z_466</th>\n",
       "      <th>z_445</th>\n",
       "      <th>z_342</th>\n",
       "      <th>z_373</th>\n",
       "      <th>z_371</th>\n",
       "      <th>label</th>\n",
       "      <th>predicted</th>\n",
       "    </tr>\n",
       "    <tr>\n",
       "      <th>index</th>\n",
       "      <th></th>\n",
       "      <th></th>\n",
       "      <th></th>\n",
       "      <th></th>\n",
       "      <th></th>\n",
       "      <th></th>\n",
       "      <th></th>\n",
       "      <th></th>\n",
       "      <th></th>\n",
       "      <th></th>\n",
       "      <th></th>\n",
       "      <th></th>\n",
       "      <th></th>\n",
       "      <th></th>\n",
       "      <th></th>\n",
       "      <th></th>\n",
       "      <th></th>\n",
       "      <th></th>\n",
       "      <th></th>\n",
       "      <th></th>\n",
       "      <th></th>\n",
       "    </tr>\n",
       "  </thead>\n",
       "  <tbody>\n",
       "    <tr>\n",
       "      <th>0</th>\n",
       "      <td>ANDRES_central_1.mp4</td>\n",
       "      <td>-0.003009</td>\n",
       "      <td>0.000782</td>\n",
       "      <td>0.055840</td>\n",
       "      <td>0.010276</td>\n",
       "      <td>-0.000780</td>\n",
       "      <td>0.017032</td>\n",
       "      <td>0.000941</td>\n",
       "      <td>-0.005610</td>\n",
       "      <td>0.001056</td>\n",
       "      <td>...</td>\n",
       "      <td>-0.002094</td>\n",
       "      <td>0.015454</td>\n",
       "      <td>0.020247</td>\n",
       "      <td>0.000663</td>\n",
       "      <td>-0.007655</td>\n",
       "      <td>0.001529</td>\n",
       "      <td>-0.003298</td>\n",
       "      <td>-0.020465</td>\n",
       "      <td>central</td>\n",
       "      <td>derecho</td>\n",
       "    </tr>\n",
       "    <tr>\n",
       "      <th>4</th>\n",
       "      <td>ANDRES_central_1.mp4</td>\n",
       "      <td>0.002632</td>\n",
       "      <td>-0.014113</td>\n",
       "      <td>0.032632</td>\n",
       "      <td>-0.007542</td>\n",
       "      <td>-0.017507</td>\n",
       "      <td>-0.000702</td>\n",
       "      <td>0.008068</td>\n",
       "      <td>-0.017648</td>\n",
       "      <td>0.008171</td>\n",
       "      <td>...</td>\n",
       "      <td>-0.015611</td>\n",
       "      <td>0.026499</td>\n",
       "      <td>-0.000450</td>\n",
       "      <td>-0.012519</td>\n",
       "      <td>-0.021221</td>\n",
       "      <td>-0.013704</td>\n",
       "      <td>-0.014959</td>\n",
       "      <td>-0.027446</td>\n",
       "      <td>central</td>\n",
       "      <td>derecho</td>\n",
       "    </tr>\n",
       "    <tr>\n",
       "      <th>27</th>\n",
       "      <td>ANDRES_central_1.mp4</td>\n",
       "      <td>0.004935</td>\n",
       "      <td>-0.019932</td>\n",
       "      <td>0.022502</td>\n",
       "      <td>-0.014640</td>\n",
       "      <td>-0.023580</td>\n",
       "      <td>-0.008287</td>\n",
       "      <td>0.010764</td>\n",
       "      <td>-0.022286</td>\n",
       "      <td>0.011128</td>\n",
       "      <td>...</td>\n",
       "      <td>-0.020901</td>\n",
       "      <td>0.029981</td>\n",
       "      <td>-0.008430</td>\n",
       "      <td>-0.018768</td>\n",
       "      <td>-0.027354</td>\n",
       "      <td>-0.020603</td>\n",
       "      <td>-0.019953</td>\n",
       "      <td>-0.028894</td>\n",
       "      <td>central</td>\n",
       "      <td>palanca</td>\n",
       "    </tr>\n",
       "    <tr>\n",
       "      <th>32</th>\n",
       "      <td>ANDRES_central_1.mp4</td>\n",
       "      <td>-0.001380</td>\n",
       "      <td>-0.002400</td>\n",
       "      <td>0.050541</td>\n",
       "      <td>0.006283</td>\n",
       "      <td>-0.004505</td>\n",
       "      <td>0.013285</td>\n",
       "      <td>0.003503</td>\n",
       "      <td>-0.007662</td>\n",
       "      <td>0.002942</td>\n",
       "      <td>...</td>\n",
       "      <td>-0.004533</td>\n",
       "      <td>0.019516</td>\n",
       "      <td>0.015286</td>\n",
       "      <td>-0.001956</td>\n",
       "      <td>-0.009707</td>\n",
       "      <td>-0.001328</td>\n",
       "      <td>-0.005462</td>\n",
       "      <td>-0.021751</td>\n",
       "      <td>central</td>\n",
       "      <td>derecho</td>\n",
       "    </tr>\n",
       "    <tr>\n",
       "      <th>34</th>\n",
       "      <td>ANDRES_central_1.mp4</td>\n",
       "      <td>-0.004226</td>\n",
       "      <td>0.004393</td>\n",
       "      <td>0.062068</td>\n",
       "      <td>0.014277</td>\n",
       "      <td>0.002207</td>\n",
       "      <td>0.022388</td>\n",
       "      <td>0.000970</td>\n",
       "      <td>-0.001872</td>\n",
       "      <td>-0.000515</td>\n",
       "      <td>...</td>\n",
       "      <td>0.002016</td>\n",
       "      <td>0.016711</td>\n",
       "      <td>0.024041</td>\n",
       "      <td>0.005464</td>\n",
       "      <td>-0.001446</td>\n",
       "      <td>0.007245</td>\n",
       "      <td>0.000624</td>\n",
       "      <td>-0.020336</td>\n",
       "      <td>central</td>\n",
       "      <td>derecho</td>\n",
       "    </tr>\n",
       "    <tr>\n",
       "      <th>...</th>\n",
       "      <td>...</td>\n",
       "      <td>...</td>\n",
       "      <td>...</td>\n",
       "      <td>...</td>\n",
       "      <td>...</td>\n",
       "      <td>...</td>\n",
       "      <td>...</td>\n",
       "      <td>...</td>\n",
       "      <td>...</td>\n",
       "      <td>...</td>\n",
       "      <td>...</td>\n",
       "      <td>...</td>\n",
       "      <td>...</td>\n",
       "      <td>...</td>\n",
       "      <td>...</td>\n",
       "      <td>...</td>\n",
       "      <td>...</td>\n",
       "      <td>...</td>\n",
       "      <td>...</td>\n",
       "      <td>...</td>\n",
       "      <td>...</td>\n",
       "    </tr>\n",
       "    <tr>\n",
       "      <th>8354</th>\n",
       "      <td>RACHEL_palanca_6.mp4</td>\n",
       "      <td>0.007921</td>\n",
       "      <td>-0.022401</td>\n",
       "      <td>-0.008966</td>\n",
       "      <td>-0.022950</td>\n",
       "      <td>-0.026512</td>\n",
       "      <td>-0.019111</td>\n",
       "      <td>0.012696</td>\n",
       "      <td>-0.020409</td>\n",
       "      <td>0.012230</td>\n",
       "      <td>...</td>\n",
       "      <td>-0.021268</td>\n",
       "      <td>0.026289</td>\n",
       "      <td>-0.023091</td>\n",
       "      <td>-0.019582</td>\n",
       "      <td>-0.023913</td>\n",
       "      <td>-0.022272</td>\n",
       "      <td>-0.018936</td>\n",
       "      <td>-0.020921</td>\n",
       "      <td>palanca</td>\n",
       "      <td>derecho</td>\n",
       "    </tr>\n",
       "    <tr>\n",
       "      <th>8355</th>\n",
       "      <td>RACHEL_palanca_6.mp4</td>\n",
       "      <td>0.007044</td>\n",
       "      <td>-0.020790</td>\n",
       "      <td>-0.006058</td>\n",
       "      <td>-0.020948</td>\n",
       "      <td>-0.024605</td>\n",
       "      <td>-0.017064</td>\n",
       "      <td>0.011696</td>\n",
       "      <td>-0.019173</td>\n",
       "      <td>0.011235</td>\n",
       "      <td>...</td>\n",
       "      <td>-0.019783</td>\n",
       "      <td>0.024925</td>\n",
       "      <td>-0.020635</td>\n",
       "      <td>-0.018260</td>\n",
       "      <td>-0.022502</td>\n",
       "      <td>-0.020666</td>\n",
       "      <td>-0.017779</td>\n",
       "      <td>-0.020136</td>\n",
       "      <td>palanca</td>\n",
       "      <td>derecho</td>\n",
       "    </tr>\n",
       "    <tr>\n",
       "      <th>8356</th>\n",
       "      <td>RACHEL_palanca_6.mp4</td>\n",
       "      <td>0.006351</td>\n",
       "      <td>-0.018650</td>\n",
       "      <td>-0.002362</td>\n",
       "      <td>-0.018183</td>\n",
       "      <td>-0.022164</td>\n",
       "      <td>-0.014314</td>\n",
       "      <td>0.010837</td>\n",
       "      <td>-0.017527</td>\n",
       "      <td>0.010333</td>\n",
       "      <td>...</td>\n",
       "      <td>-0.017889</td>\n",
       "      <td>0.023631</td>\n",
       "      <td>-0.017390</td>\n",
       "      <td>-0.016298</td>\n",
       "      <td>-0.020459</td>\n",
       "      <td>-0.018397</td>\n",
       "      <td>-0.016115</td>\n",
       "      <td>-0.019257</td>\n",
       "      <td>palanca</td>\n",
       "      <td>derecho</td>\n",
       "    </tr>\n",
       "    <tr>\n",
       "      <th>8358</th>\n",
       "      <td>RACHEL_palanca_6.mp4</td>\n",
       "      <td>0.006647</td>\n",
       "      <td>-0.020501</td>\n",
       "      <td>-0.003539</td>\n",
       "      <td>-0.019959</td>\n",
       "      <td>-0.023771</td>\n",
       "      <td>-0.016383</td>\n",
       "      <td>0.010849</td>\n",
       "      <td>-0.019620</td>\n",
       "      <td>0.011080</td>\n",
       "      <td>...</td>\n",
       "      <td>-0.019978</td>\n",
       "      <td>0.023890</td>\n",
       "      <td>-0.018676</td>\n",
       "      <td>-0.018846</td>\n",
       "      <td>-0.023498</td>\n",
       "      <td>-0.021083</td>\n",
       "      <td>-0.018382</td>\n",
       "      <td>-0.020147</td>\n",
       "      <td>palanca</td>\n",
       "      <td>derecho</td>\n",
       "    </tr>\n",
       "    <tr>\n",
       "      <th>8361</th>\n",
       "      <td>RACHEL_palanca_6.mp4</td>\n",
       "      <td>0.005429</td>\n",
       "      <td>-0.017948</td>\n",
       "      <td>0.001902</td>\n",
       "      <td>-0.016297</td>\n",
       "      <td>-0.020346</td>\n",
       "      <td>-0.013097</td>\n",
       "      <td>0.008994</td>\n",
       "      <td>-0.018252</td>\n",
       "      <td>0.009874</td>\n",
       "      <td>...</td>\n",
       "      <td>-0.018170</td>\n",
       "      <td>0.021273</td>\n",
       "      <td>-0.013720</td>\n",
       "      <td>-0.017401</td>\n",
       "      <td>-0.022128</td>\n",
       "      <td>-0.019049</td>\n",
       "      <td>-0.017268</td>\n",
       "      <td>-0.018863</td>\n",
       "      <td>palanca</td>\n",
       "      <td>derecho</td>\n",
       "    </tr>\n",
       "  </tbody>\n",
       "</table>\n",
       "<p>502 rows × 25 columns</p>\n",
       "</div>"
      ],
      "text/plain": [
       "                   filename     z_129     z_448     z_264     z_340     z_346  \\\n",
       "index                                                                           \n",
       "0      ANDRES_central_1.mp4 -0.003009  0.000782  0.055840  0.010276 -0.000780   \n",
       "4      ANDRES_central_1.mp4  0.002632 -0.014113  0.032632 -0.007542 -0.017507   \n",
       "27     ANDRES_central_1.mp4  0.004935 -0.019932  0.022502 -0.014640 -0.023580   \n",
       "32     ANDRES_central_1.mp4 -0.001380 -0.002400  0.050541  0.006283 -0.004505   \n",
       "34     ANDRES_central_1.mp4 -0.004226  0.004393  0.062068  0.014277  0.002207   \n",
       "...                     ...       ...       ...       ...       ...       ...   \n",
       "8354   RACHEL_palanca_6.mp4  0.007921 -0.022401 -0.008966 -0.022950 -0.026512   \n",
       "8355   RACHEL_palanca_6.mp4  0.007044 -0.020790 -0.006058 -0.020948 -0.024605   \n",
       "8356   RACHEL_palanca_6.mp4  0.006351 -0.018650 -0.002362 -0.018183 -0.022164   \n",
       "8358   RACHEL_palanca_6.mp4  0.006647 -0.020501 -0.003539 -0.019959 -0.023771   \n",
       "8361   RACHEL_palanca_6.mp4  0.005429 -0.017948  0.001902 -0.016297 -0.020346   \n",
       "\n",
       "          z_265     z_142     z_254     z_203  ...     z_339     z_101  \\\n",
       "index                                          ...                       \n",
       "0      0.017032  0.000941 -0.005610  0.001056  ... -0.002094  0.015454   \n",
       "4     -0.000702  0.008068 -0.017648  0.008171  ... -0.015611  0.026499   \n",
       "27    -0.008287  0.010764 -0.022286  0.011128  ... -0.020901  0.029981   \n",
       "32     0.013285  0.003503 -0.007662  0.002942  ... -0.004533  0.019516   \n",
       "34     0.022388  0.000970 -0.001872 -0.000515  ...  0.002016  0.016711   \n",
       "...         ...       ...       ...       ...  ...       ...       ...   \n",
       "8354  -0.019111  0.012696 -0.020409  0.012230  ... -0.021268  0.026289   \n",
       "8355  -0.017064  0.011696 -0.019173  0.011235  ... -0.019783  0.024925   \n",
       "8356  -0.014314  0.010837 -0.017527  0.010333  ... -0.017889  0.023631   \n",
       "8358  -0.016383  0.010849 -0.019620  0.011080  ... -0.019978  0.023890   \n",
       "8361  -0.013097  0.008994 -0.018252  0.009874  ... -0.018170  0.021273   \n",
       "\n",
       "          z_345     z_466     z_445     z_342     z_373     z_371    label  \\\n",
       "index                                                                        \n",
       "0      0.020247  0.000663 -0.007655  0.001529 -0.003298 -0.020465  central   \n",
       "4     -0.000450 -0.012519 -0.021221 -0.013704 -0.014959 -0.027446  central   \n",
       "27    -0.008430 -0.018768 -0.027354 -0.020603 -0.019953 -0.028894  central   \n",
       "32     0.015286 -0.001956 -0.009707 -0.001328 -0.005462 -0.021751  central   \n",
       "34     0.024041  0.005464 -0.001446  0.007245  0.000624 -0.020336  central   \n",
       "...         ...       ...       ...       ...       ...       ...      ...   \n",
       "8354  -0.023091 -0.019582 -0.023913 -0.022272 -0.018936 -0.020921  palanca   \n",
       "8355  -0.020635 -0.018260 -0.022502 -0.020666 -0.017779 -0.020136  palanca   \n",
       "8356  -0.017390 -0.016298 -0.020459 -0.018397 -0.016115 -0.019257  palanca   \n",
       "8358  -0.018676 -0.018846 -0.023498 -0.021083 -0.018382 -0.020147  palanca   \n",
       "8361  -0.013720 -0.017401 -0.022128 -0.019049 -0.017268 -0.018863  palanca   \n",
       "\n",
       "       predicted  \n",
       "index             \n",
       "0        derecho  \n",
       "4        derecho  \n",
       "27       palanca  \n",
       "32       derecho  \n",
       "34       derecho  \n",
       "...          ...  \n",
       "8354     derecho  \n",
       "8355     derecho  \n",
       "8356     derecho  \n",
       "8358     derecho  \n",
       "8361     derecho  \n",
       "\n",
       "[502 rows x 25 columns]"
      ]
     },
     "metadata": {},
     "output_type": "display_data"
    }
   ],
   "source": [
    "# Obtener los datos de predicción del modelo Random Forest\n",
    "prediction_data = predictions_all['Random Forest']\n",
    "\n",
    "# Crear un DataFrame con las predicciones del modelo Random Forest\n",
    "df_predictions = pd.DataFrame({\n",
    "    'index': prediction_data['index'].tolist(),\n",
    "    'actual': prediction_data['real'].tolist(),\n",
    "    'predicted': prediction_data['predicted'].tolist()\n",
    "})\n",
    "\n",
    "df_predictions = df_predictions.sort_values(by='index')\n",
    "df_predictions = df_predictions.drop_duplicates(subset='index')\n",
    "\n",
    "# Identificar instancias donde la predicción es incorrecta\n",
    "df_errors = df_predictions[df_predictions['actual'] != df_predictions['predicted']]\n",
    "\n",
    "# Establecer la columna \"index\" como los índices del DataFrame\n",
    "df_errors.set_index('index', inplace=True)\n",
    "\n",
    "# Mostrar las instancias originales donde la predicción es incorrecta\n",
    "df_missclassified_all = df_all_selected.loc[df_errors.index]\n",
    "\n",
    "# Fusionar df_missclassified con df_errors para agregar la columna \"predicted\"\n",
    "df_missclassified_all = df_missclassified_all.merge(df_errors['predicted'], left_index=True, right_index=True)\n",
    "\n",
    "# Mostrar las instancias mal clasificadas con las columnas \"predicted\" y \"filename\"\n",
    "display(df_missclassified_all)"
   ]
  },
  {
   "cell_type": "code",
   "execution_count": 102,
   "id": "8c19f3c0-972b-4e75-8792-ac4d56cc868e",
   "metadata": {
    "tags": []
   },
   "outputs": [],
   "source": [
    "# Guardar el DataFrame como un archivo CSV\n",
    "df_missclassified_all.to_csv('df_missclassified_all.csv', index=False)"
   ]
  },
  {
   "cell_type": "markdown",
   "id": "2ebeb07e-f31d-42b9-9d61-949983625ba9",
   "metadata": {},
   "source": [
    "##### <font color='purple'> **5.2.1.1 Retrovisor Central** </font>"
   ]
  },
  {
   "cell_type": "markdown",
   "id": "b06dab0c-4a5c-4f95-9aef-f591554bceae",
   "metadata": {},
   "source": [
    "<font color='purple'> **Falso positivo:** </font> Fue clasificado como central cuando correspondía a derecho."
   ]
  },
  {
   "cell_type": "code",
   "execution_count": 197,
   "id": "3c73f72b-1b16-4d9b-b07f-dbd13fbcf9d1",
   "metadata": {
    "tags": []
   },
   "outputs": [
    {
     "name": "stdout",
     "output_type": "stream",
     "text": [
      "Correspondía a la clase:  derecho\n",
      "Fue clasificado como:  central\n"
     ]
    }
   ],
   "source": [
    "central_all = df_missclassified_all[df_missclassified_all['predicted'] == 'central']\n",
    "video_label = central_all.iloc[0]['label']\n",
    "video_filename = central_all.iloc[0]['filename']\n",
    "\n",
    "# Especifica la ruta al archivo de video\n",
    "notebook_directory = \"C:/Users/scarl/Desktop/CICESE/Cuatrimestre2/CDSI/Prácticas/Práctica2/VideosSegmentados/\"\n",
    "video_path = notebook_directory + video_label + \"/\" + video_filename\n",
    "reproducir_video(video_path)\n",
    "print(\"Correspondía a la clase: \", video_label)\n",
    "print(\"Fue clasificado como: \", central_all.iloc[0]['predicted'])"
   ]
  },
  {
   "cell_type": "markdown",
   "id": "cdd6682c-2c87-4df3-9da1-b272f49466d9",
   "metadata": {
    "tags": []
   },
   "source": [
    "**Nota:** Mira al retrovisor derecho y al frente."
   ]
  },
  {
   "cell_type": "markdown",
   "id": "e405c949-d95a-44e0-a5a9-89bdab8b8996",
   "metadata": {},
   "source": [
    "<font color='purple'> **Falso negativo:** </font> Fue clasificado como derecho cuando correspondía a central."
   ]
  },
  {
   "cell_type": "code",
   "execution_count": 199,
   "id": "bd0b81c7-075c-4e35-aa2f-f7d6f72fc74b",
   "metadata": {
    "tags": []
   },
   "outputs": [
    {
     "name": "stdout",
     "output_type": "stream",
     "text": [
      "Correspondía a la clase:  central\n",
      "Fue clasificado como:  derecho\n"
     ]
    }
   ],
   "source": [
    "central_all = df_missclassified_all[df_missclassified_all['label'] == 'central']\n",
    "video_label = central_all.iloc[0]['label']\n",
    "video_filename = central_all.iloc[0]['filename']\n",
    "\n",
    "# Especifica la ruta al archivo de video\n",
    "notebook_directory = \"C:/Users/scarl/Desktop/CICESE/Cuatrimestre2/CDSI/Prácticas/Práctica2/VideosSegmentados/\"\n",
    "video_path = notebook_directory + video_label + \"/\" + video_filename\n",
    "reproducir_video(video_path)\n",
    "print(\"Correspondía a la clase: \", video_label)\n",
    "print(\"Fue clasificado como: \", central_all.iloc[0]['predicted'])"
   ]
  },
  {
   "cell_type": "markdown",
   "id": "6ff59481-3dcd-4dcd-b006-5c5710eda4ea",
   "metadata": {},
   "source": [
    "**Nota:** Mira al retrovisor central y al frente."
   ]
  },
  {
   "cell_type": "markdown",
   "id": "8ef6fe4b-2b6e-4a09-88ff-6d9f9ef5288b",
   "metadata": {},
   "source": [
    "##### <font color='purple'> **5.2.1.2 Retrovisor Derecho** </font>"
   ]
  },
  {
   "cell_type": "markdown",
   "id": "bb309ad4-3d25-4271-acc2-f3c1c16bbb32",
   "metadata": {
    "tags": []
   },
   "source": [
    "<font color='purple'> **Falso positivo:** </font> Fue clasificado como derecho cuando correspondía a palanca."
   ]
  },
  {
   "cell_type": "code",
   "execution_count": 200,
   "id": "8536654d-73b6-4dac-9725-c05f3d449720",
   "metadata": {
    "tags": []
   },
   "outputs": [
    {
     "name": "stdout",
     "output_type": "stream",
     "text": [
      "Correspondía a la clase:  palanca\n",
      "Fue clasificado como:  derecho\n"
     ]
    }
   ],
   "source": [
    "derecho_all = df_missclassified_all[df_missclassified_all['predicted'] == 'derecho']\n",
    "video_label = derecho_all.iloc[-1]['label']\n",
    "video_filename = derecho_all.iloc[-1]['filename']\n",
    "\n",
    "# Especifica la ruta al archivo de video\n",
    "notebook_directory = \"C:/Users/scarl/Desktop/CICESE/Cuatrimestre2/CDSI/Prácticas/Práctica2/VideosSegmentados/\"\n",
    "video_path = notebook_directory + video_label + \"/\" + video_filename\n",
    "reproducir_video(video_path)\n",
    "print(\"Correspondía a la clase: \", video_label)\n",
    "print(\"Fue clasificado como: \", derecho_all.iloc[0]['predicted'])"
   ]
  },
  {
   "cell_type": "markdown",
   "id": "579d7f31-a087-45ba-b7dd-0d7431d145b4",
   "metadata": {},
   "source": [
    "**Nota:** Inicia con la transición de mirar al retrovisor derecho y luego a la palanca."
   ]
  },
  {
   "cell_type": "markdown",
   "id": "c63da8d3-9c44-47dd-8d88-588551053d66",
   "metadata": {},
   "source": [
    "<font color='purple'> **Falso negativo:** </font> Fue clasificado como palanca cuando correspondía a derecho."
   ]
  },
  {
   "cell_type": "code",
   "execution_count": 201,
   "id": "771d48dc-3e3f-429d-90cf-4e353f025f47",
   "metadata": {
    "tags": []
   },
   "outputs": [
    {
     "name": "stdout",
     "output_type": "stream",
     "text": [
      "Correspondía a la clase:  derecho\n",
      "Fue clasificado como:  palanca\n"
     ]
    }
   ],
   "source": [
    "derecho_all = df_missclassified_all[df_missclassified_all['label'] == 'derecho']\n",
    "video_label = derecho_all.iloc[0]['label']\n",
    "video_filename = derecho_all.iloc[0]['filename']\n",
    "\n",
    "# Especifica la ruta al archivo de video\n",
    "notebook_directory = \"C:/Users/scarl/Desktop/CICESE/Cuatrimestre2/CDSI/Prácticas/Práctica2/VideosSegmentados/\"\n",
    "video_path = notebook_directory + video_label + \"/\" + video_filename\n",
    "reproducir_video(video_path)\n",
    "print(\"Correspondía a la clase: \", video_label)\n",
    "print(\"Fue clasificado como: \", derecho_all.iloc[0]['predicted'])"
   ]
  },
  {
   "cell_type": "markdown",
   "id": "31843fd9-3262-4220-b6c3-8583bd314857",
   "metadata": {},
   "source": [
    "**Nota:** Mira al retrovisor derecho y al frente."
   ]
  },
  {
   "cell_type": "markdown",
   "id": "cb769755-b886-4105-aadd-585d17ceba1d",
   "metadata": {
    "tags": []
   },
   "source": [
    "##### <font color='purple'> **5.2.1.3 Retrovisor Izquierdo** </font>"
   ]
  },
  {
   "cell_type": "markdown",
   "id": "66060492-d9ee-4b82-b8f9-048d29cc279b",
   "metadata": {},
   "source": [
    "<font color='purple'> **Falso positivo:** </font> Fue clasificado como izquierdo cuando correspondía a central."
   ]
  },
  {
   "cell_type": "code",
   "execution_count": 202,
   "id": "348896b3-6d08-4b68-8a2f-2b723673c71a",
   "metadata": {
    "tags": []
   },
   "outputs": [
    {
     "name": "stdout",
     "output_type": "stream",
     "text": [
      "Correspondía a la clase:  central\n",
      "Fue clasificado como:  izquierdo\n"
     ]
    }
   ],
   "source": [
    "izquierdo_all = df_missclassified_all[df_missclassified_all['predicted'] == 'izquierdo']\n",
    "video_label = izquierdo_all.iloc[0]['label']\n",
    "video_filename = izquierdo_all.iloc[0]['filename']\n",
    "\n",
    "# Especifica la ruta al archivo de video\n",
    "notebook_directory = \"C:/Users/scarl/Desktop/CICESE/Cuatrimestre2/CDSI/Prácticas/Práctica2/VideosSegmentados/\"\n",
    "video_path = notebook_directory + video_label + \"/\" + video_filename\n",
    "reproducir_video(video_path)\n",
    "print(\"Correspondía a la clase: \", video_label)\n",
    "print(\"Fue clasificado como: \", izquierdo_all.iloc[0]['predicted'])"
   ]
  },
  {
   "cell_type": "markdown",
   "id": "0650736c-5df5-42d5-b5b8-e041eb16dc52",
   "metadata": {},
   "source": [
    "**Nota:** Mira al retrovisor central mientras mueve la cabeza."
   ]
  },
  {
   "cell_type": "markdown",
   "id": "8fea1d84-83cb-4164-bc10-2b0b154d93a2",
   "metadata": {},
   "source": [
    "<font color='purple'> **Falso negativo:** </font> Fue clasificado como frente cuando correspondía a izquierdo."
   ]
  },
  {
   "cell_type": "code",
   "execution_count": 203,
   "id": "adb2ccdb-e1bf-4f13-8648-56a0727f66ae",
   "metadata": {
    "tags": []
   },
   "outputs": [
    {
     "name": "stdout",
     "output_type": "stream",
     "text": [
      "Correspondía a la clase:  izquierdo\n",
      "Fue clasificado como:  frente\n"
     ]
    }
   ],
   "source": [
    "izquierdo_all = df_missclassified_all[df_missclassified_all['label'] == 'izquierdo']\n",
    "video_label = izquierdo_all.iloc[0]['label']\n",
    "video_filename = izquierdo_all.iloc[0]['filename']\n",
    "\n",
    "# Especifica la ruta al archivo de video\n",
    "notebook_directory = \"C:/Users/scarl/Desktop/CICESE/Cuatrimestre2/CDSI/Prácticas/Práctica2/VideosSegmentados/\"\n",
    "video_path = notebook_directory + video_label + \"/\" + video_filename\n",
    "reproducir_video(video_path)\n",
    "print(\"Correspondía a la clase: \", video_label)\n",
    "print(\"Fue clasificado como: \", izquierdo_all.iloc[0]['predicted'])"
   ]
  },
  {
   "cell_type": "markdown",
   "id": "f1b1591c-63eb-4133-8742-fda578422ae0",
   "metadata": {
    "tags": []
   },
   "source": [
    "**Nota:** Mira al retrovisor izquierdo y al frente."
   ]
  },
  {
   "cell_type": "markdown",
   "id": "e47198f4-2270-4f5f-ba88-1ab8b5cab151",
   "metadata": {},
   "source": [
    "##### <font color='purple'> **5.2.1.4 Frente** </font>"
   ]
  },
  {
   "cell_type": "markdown",
   "id": "a82d2390-64ae-4c75-beee-4834d5215feb",
   "metadata": {},
   "source": [
    "<font color='purple'> **Falso positivo:** </font> Fue clasificado como frente cuando correspondía a central."
   ]
  },
  {
   "cell_type": "code",
   "execution_count": 206,
   "id": "453833a6-f087-411d-9161-2676ee5513e6",
   "metadata": {
    "tags": []
   },
   "outputs": [
    {
     "name": "stdout",
     "output_type": "stream",
     "text": [
      "Correspondía a la clase:  central\n",
      "Fue clasificado como:  frente\n"
     ]
    }
   ],
   "source": [
    "frente_all = df_missclassified_all[df_missclassified_all['predicted'] == 'frente']\n",
    "video_label = frente_all.iloc[0]['label']\n",
    "video_filename = frente_all.iloc[0]['filename']\n",
    "\n",
    "# Especifica la ruta al archivo de video\n",
    "notebook_directory = \"C:/Users/scarl/Desktop/CICESE/Cuatrimestre2/CDSI/Prácticas/Práctica2/VideosSegmentados/\"\n",
    "video_path = notebook_directory + video_label + \"/\" + video_filename\n",
    "reproducir_video(video_path)\n",
    "print(\"Correspondía a la clase: \", video_label)\n",
    "print(\"Fue clasificado como: \", frente_all.iloc[0]['predicted'])"
   ]
  },
  {
   "cell_type": "markdown",
   "id": "b53001d0-b649-46ee-9b84-d6bd6aa14883",
   "metadata": {},
   "source": [
    "**Nota:** Mira al retrovisor central y al frente."
   ]
  },
  {
   "cell_type": "markdown",
   "id": "9b5861a9-a2d4-45a3-9402-c35803b56922",
   "metadata": {},
   "source": [
    "<font color='purple'> **Falso negativo:** </font> Fue clasificado como izquierdo cuando correspondía a frente."
   ]
  },
  {
   "cell_type": "code",
   "execution_count": 207,
   "id": "fdd3bea2-b759-49f0-b963-69dc96699b54",
   "metadata": {
    "tags": []
   },
   "outputs": [
    {
     "name": "stdout",
     "output_type": "stream",
     "text": [
      "Correspondía a la clase:  frente\n",
      "Fue clasificado como:  izquierdo\n"
     ]
    }
   ],
   "source": [
    "frente_all = df_missclassified_all[df_missclassified_all['label'] == 'frente']\n",
    "video_label = frente_all.iloc[0]['label']\n",
    "video_filename = frente_all.iloc[0]['filename']\n",
    "\n",
    "# Especifica la ruta al archivo de video\n",
    "notebook_directory = \"C:/Users/scarl/Desktop/CICESE/Cuatrimestre2/CDSI/Prácticas/Práctica2/VideosSegmentados/\"\n",
    "video_path = notebook_directory + video_label + \"/\" + video_filename\n",
    "reproducir_video(video_path)\n",
    "print(\"Correspondía a la clase: \", video_label)\n",
    "print(\"Fue clasificado como: \", frente_all.iloc[0]['predicted'])"
   ]
  },
  {
   "cell_type": "markdown",
   "id": "5a302954-efc5-4456-97a6-971b277b4e36",
   "metadata": {},
   "source": [
    "**Nota** En este video siempre mira al frente."
   ]
  },
  {
   "cell_type": "markdown",
   "id": "488c5f69-386f-488e-bd75-8bbd12fc54f3",
   "metadata": {
    "tags": []
   },
   "source": [
    "##### <font color='purple'> **5.2.1.5 Palanca** </font>"
   ]
  },
  {
   "cell_type": "markdown",
   "id": "eb4a3332-2f66-4bc7-881d-046ecf71aeca",
   "metadata": {
    "tags": []
   },
   "source": [
    "<font color='purple'> **Falso positivo:** </font> Fue clasificado como palanca cuando correspondía a central."
   ]
  },
  {
   "cell_type": "code",
   "execution_count": 194,
   "id": "607f909d-1243-4053-bf37-ac92babe8e05",
   "metadata": {
    "tags": []
   },
   "outputs": [
    {
     "name": "stdout",
     "output_type": "stream",
     "text": [
      "Correspondía a la clase:  central\n",
      "Fue clasificado como:  palanca\n"
     ]
    }
   ],
   "source": [
    "palanca_all = df_missclassified_all[df_missclassified_all['predicted'] == 'palanca']\n",
    "video_label = palanca_all.iloc[0]['label']\n",
    "video_filename = palanca_all.iloc[0]['filename']\n",
    "\n",
    "# Especifica la ruta al archivo de video\n",
    "notebook_directory = \"C:/Users/scarl/Desktop/CICESE/Cuatrimestre2/CDSI/Prácticas/Práctica2/VideosSegmentados/\"\n",
    "video_path = notebook_directory + video_label + \"/\" + video_filename\n",
    "reproducir_video(video_path)\n",
    "print(\"Correspondía a la clase: \", video_label)\n",
    "print(\"Fue clasificado como: \", palanca_all.iloc[0]['predicted'])"
   ]
  },
  {
   "cell_type": "markdown",
   "id": "e57d23f2-0abb-4bdf-9265-d0b12da19c87",
   "metadata": {},
   "source": [
    "**Nota:** Mira al retrovisor central y volante pero no a la palanca."
   ]
  },
  {
   "cell_type": "markdown",
   "id": "8205a96e-5f0a-433f-b503-bf227e7f974f",
   "metadata": {},
   "source": [
    "<font color='purple'> **Falso negativo:** </font> Fue clasificado como frente cuando correspondía a palanca."
   ]
  },
  {
   "cell_type": "code",
   "execution_count": 196,
   "id": "d60cae1f-67ca-4dac-ab16-7cb9ff40de91",
   "metadata": {
    "tags": []
   },
   "outputs": [
    {
     "name": "stdout",
     "output_type": "stream",
     "text": [
      "Correspondía a la clase:  palanca\n",
      "Fue clasificado como:  frente\n"
     ]
    }
   ],
   "source": [
    "palanca_all = df_missclassified_all[df_missclassified_all['label'] == 'palanca']\n",
    "video_label = palanca_all.iloc[0]['label']\n",
    "video_filename = palanca_all.iloc[0]['filename']\n",
    "\n",
    "# Especifica la ruta al archivo de video\n",
    "notebook_directory = \"C:/Users/scarl/Desktop/CICESE/Cuatrimestre2/CDSI/Prácticas/Práctica2/VideosSegmentados/\"\n",
    "video_path = notebook_directory + video_label + \"/\" + video_filename\n",
    "reproducir_video(video_path)\n",
    "print(\"Correspondía a la clase: \", video_label)\n",
    "print(\"Fue clasificado como: \", palanca_all.iloc[0]['predicted'])"
   ]
  },
  {
   "cell_type": "markdown",
   "id": "4ecadd1f-c794-4dab-b455-4ea73f28d706",
   "metadata": {},
   "source": [
    "**Nota:** Mira a la palanca y al frente."
   ]
  },
  {
   "cell_type": "markdown",
   "id": "3aec1227-4e55-476d-9eea-01014969e84b",
   "metadata": {},
   "source": [
    "#### <font color='purple'> **5.2.2 Análisis de instancias mal clasificadas** </font>"
   ]
  },
  {
   "cell_type": "markdown",
   "id": "9d35608a-d997-40f7-9932-b7d556139551",
   "metadata": {},
   "source": [
    "En los videos donde se presentaban instancias mal clasificadas, los conductores dirigían su atención a varios puntos incluso cuando el video se etiquetaba como uno solo. Esto resultaba en fotogramas que correspondían a clases diferentes dentro del mismo video. Por consiguiente, parece que las instancias mal clasificadas se deben más a errores de etiquetado que a errores del modelo."
   ]
  },
  {
   "cell_type": "markdown",
   "id": "4627e33e-dfd7-45fd-bfda-9e500f4fd064",
   "metadata": {
    "tags": []
   },
   "source": [
    "### <font color='purple'> **5.3 Dataset filtrado** </font>"
   ]
  },
  {
   "cell_type": "code",
   "execution_count": null,
   "id": "a6bb83bf-ceb1-4147-80a7-b488d3411e47",
   "metadata": {},
   "outputs": [],
   "source": [
    "# Leer el archivo CSV en un DataFrame\n",
    "#df_filter_selected = pd.read_csv('df_filter_selected.csv')"
   ]
  },
  {
   "cell_type": "code",
   "execution_count": 75,
   "id": "addf0201-6d93-46f4-8563-b6674b3128d2",
   "metadata": {
    "tags": []
   },
   "outputs": [
    {
     "name": "stdout",
     "output_type": "stream",
     "text": [
      "Resultados de validación cruzada para LogisticRegression:\n",
      "Exactitud: 0.9567340067340068\n",
      "Reporte de clasificación:\n",
      "              precision    recall  f1-score   support\n",
      "\n",
      "     central       0.97      0.97      0.97      1160\n",
      "     derecho       0.96      0.97      0.97      1160\n",
      "      frente       0.89      0.99      0.94      1290\n",
      "   izquierdo       1.00      0.98      0.99      1070\n",
      "     palanca       0.98      0.89      0.93      1260\n",
      "\n",
      "    accuracy                           0.96      5940\n",
      "   macro avg       0.96      0.96      0.96      5940\n",
      "weighted avg       0.96      0.96      0.96      5940\n",
      "\n"
     ]
    },
    {
     "data": {
      "image/png": "[encoded data removed]",
      "text/plain": [
       "<Figure size 300x300 with 1 Axes>"
      ]
     },
     "metadata": {},
     "output_type": "display_data"
    },
    {
     "name": "stdout",
     "output_type": "stream",
     "text": [
      "\n",
      "Resultados de validación cruzada para RandomForestClassifier:\n",
      "Exactitud: 0.9939393939393939\n",
      "Reporte de clasificación:\n",
      "              precision    recall  f1-score   support\n",
      "\n",
      "     central       0.99      0.99      0.99      1160\n",
      "     derecho       0.99      0.99      0.99      1160\n",
      "      frente       0.99      1.00      0.99      1290\n",
      "   izquierdo       1.00      1.00      1.00      1070\n",
      "     palanca       0.99      1.00      0.99      1260\n",
      "\n",
      "    accuracy                           0.99      5940\n",
      "   macro avg       0.99      0.99      0.99      5940\n",
      "weighted avg       0.99      0.99      0.99      5940\n",
      "\n"
     ]
    },
    {
     "data": {
      "image/png": "[encoded data removed]",
      "text/plain": [
       "<Figure size 300x300 with 1 Axes>"
      ]
     },
     "metadata": {},
     "output_type": "display_data"
    },
    {
     "name": "stdout",
     "output_type": "stream",
     "text": [
      "\n",
      "Resultados de validación cruzada para GradientBoostingClassifier:\n",
      "Exactitud: 0.9954545454545455\n",
      "Reporte de clasificación:\n",
      "              precision    recall  f1-score   support\n",
      "\n",
      "     central       0.99      1.00      0.99      1160\n",
      "     derecho       0.99      0.99      0.99      1160\n",
      "      frente       1.00      0.99      1.00      1290\n",
      "   izquierdo       1.00      1.00      1.00      1070\n",
      "     palanca       1.00      0.99      0.99      1260\n",
      "\n",
      "    accuracy                           1.00      5940\n",
      "   macro avg       1.00      1.00      1.00      5940\n",
      "weighted avg       1.00      1.00      1.00      5940\n",
      "\n"
     ]
    },
    {
     "data": {
      "image/png": "[encoded data removed]",
      "text/plain": [
       "<Figure size 300x300 with 1 Axes>"
      ]
     },
     "metadata": {},
     "output_type": "display_data"
    },
    {
     "name": "stdout",
     "output_type": "stream",
     "text": [
      "\n",
      "Resultados de validación cruzada para SVC:\n",
      "Exactitud: 0.8193602693602694\n",
      "Reporte de clasificación:\n",
      "              precision    recall  f1-score   support\n",
      "\n",
      "     central       0.65      0.49      0.56      1160\n",
      "     derecho       0.96      0.73      0.83      1160\n",
      "      frente       0.90      0.99      0.94      1290\n",
      "   izquierdo       1.00      0.99      1.00      1070\n",
      "     palanca       0.65      0.89      0.75      1260\n",
      "\n",
      "    accuracy                           0.82      5940\n",
      "   macro avg       0.83      0.82      0.82      5940\n",
      "weighted avg       0.83      0.82      0.81      5940\n",
      "\n"
     ]
    },
    {
     "data": {
      "image/png": "[encoded data removed]",
      "text/plain": [
       "<Figure size 300x300 with 1 Axes>"
      ]
     },
     "metadata": {},
     "output_type": "display_data"
    },
    {
     "name": "stdout",
     "output_type": "stream",
     "text": [
      "\n"
     ]
    }
   ],
   "source": [
    "predictions_filter = cross_validation_classification_models(df_filter_selected, 10)"
   ]
  },
  {
   "cell_type": "markdown",
   "id": "3709f5f5-a0fc-49b6-ab63-bd26eaa22bf3",
   "metadata": {},
   "source": [
    "**Observaciones:** \n",
    "\n",
    "En la matriz de confusión de SVM (con una exactitud de 0.82), se observa que el modelo tiende a confundir la clase \"central\" con \"palanca\", así como la clase \"derecho\" con \"central\" y la clase \"palanca\" con \"frente\". Por otro lado, en el modelo de Regresión Logística (con una exactitud de 0.96), se evidencia que las instancias pertenecientes a las clases \"central\", \"derecho\", \"izquierdo\" y \"palanca\" tienden a confundirse con \"frente\".\n",
    "\n",
    "El modelo Random Forest obtuvo el segundo lugar en cuanto a las métricas alcanzadas, logrando una exactitud del 0.9939, mientras que Gradient Boosting exhibe el mejor rendimiento, con una exactitud de 0.9954. Estas métricas son muy altas, lo que puede indicar un sobreajuste del modelo.\n",
    "\n",
    "Aunque Gradient Boosting obtuvo las métricas más altas, su diferencia con Random Forest no es significativa. Dado que Random Forest fue el mejor modelo para los datos completos, optaremos por utilizarlo en nuestro análisis con los datos filtrados, con el fin de observar el impacto de la selección de datos en el desempeño del modelo.\n"
   ]
  },
  {
   "cell_type": "markdown",
   "id": "b551c014-f9b2-4f76-8ff6-6bc71c5244c5",
   "metadata": {
    "tags": []
   },
   "source": [
    "#### <font color='purple'> **5.3.1 Visualización de instancias mal clasificadas** </font>"
   ]
  },
  {
   "cell_type": "markdown",
   "id": "2b758776-9312-4605-8856-db818ea36865",
   "metadata": {},
   "source": [
    "Aunque el Gradient Boosting fue identificado como el mejor modelo, optaremos por continuar nuestro análisis con el modelo que se desempeñó mejor utilizando el conjunto de datos completo (Random Forest). Esto se hace con el propósito de realizar una comparación imparcial entre los modelos, ya que el enfoque de este notebook se ha centrado en examinar cómo el etiquetado influye en los modelos."
   ]
  },
  {
   "cell_type": "code",
   "execution_count": 105,
   "id": "1df92deb-6daf-48f1-ac06-ce3306305bdf",
   "metadata": {
    "tags": []
   },
   "outputs": [
    {
     "data": {
      "text/html": [
       "<div>\n",
       "<style scoped>\n",
       "    .dataframe tbody tr th:only-of-type {\n",
       "        vertical-align: middle;\n",
       "    }\n",
       "\n",
       "    .dataframe tbody tr th {\n",
       "        vertical-align: top;\n",
       "    }\n",
       "\n",
       "    .dataframe thead th {\n",
       "        text-align: right;\n",
       "    }\n",
       "</style>\n",
       "<table border=\"1\" class=\"dataframe\">\n",
       "  <thead>\n",
       "    <tr style=\"text-align: right;\">\n",
       "      <th></th>\n",
       "      <th>filename</th>\n",
       "      <th>x_213</th>\n",
       "      <th>x_147</th>\n",
       "      <th>x_111</th>\n",
       "      <th>x_187</th>\n",
       "      <th>x_35</th>\n",
       "      <th>z_229</th>\n",
       "      <th>x_208</th>\n",
       "      <th>x_181</th>\n",
       "      <th>z_117</th>\n",
       "      <th>...</th>\n",
       "      <th>x_156</th>\n",
       "      <th>x_142</th>\n",
       "      <th>x_144</th>\n",
       "      <th>x_89</th>\n",
       "      <th>x_180</th>\n",
       "      <th>z_371</th>\n",
       "      <th>x_171</th>\n",
       "      <th>x_129</th>\n",
       "      <th>label</th>\n",
       "      <th>predicted</th>\n",
       "    </tr>\n",
       "    <tr>\n",
       "      <th>index</th>\n",
       "      <th></th>\n",
       "      <th></th>\n",
       "      <th></th>\n",
       "      <th></th>\n",
       "      <th></th>\n",
       "      <th></th>\n",
       "      <th></th>\n",
       "      <th></th>\n",
       "      <th></th>\n",
       "      <th></th>\n",
       "      <th></th>\n",
       "      <th></th>\n",
       "      <th></th>\n",
       "      <th></th>\n",
       "      <th></th>\n",
       "      <th></th>\n",
       "      <th></th>\n",
       "      <th></th>\n",
       "      <th></th>\n",
       "      <th></th>\n",
       "      <th></th>\n",
       "    </tr>\n",
       "  </thead>\n",
       "  <tbody>\n",
       "    <tr>\n",
       "      <th>220</th>\n",
       "      <td>JESUS_central_6.mp4</td>\n",
       "      <td>0.424132</td>\n",
       "      <td>0.422387</td>\n",
       "      <td>0.432193</td>\n",
       "      <td>0.438322</td>\n",
       "      <td>0.431341</td>\n",
       "      <td>0.015361</td>\n",
       "      <td>0.514703</td>\n",
       "      <td>0.511067</td>\n",
       "      <td>0.019233</td>\n",
       "      <td>...</td>\n",
       "      <td>0.426684</td>\n",
       "      <td>0.491695</td>\n",
       "      <td>0.467442</td>\n",
       "      <td>0.505214</td>\n",
       "      <td>0.512459</td>\n",
       "      <td>-0.002957</td>\n",
       "      <td>0.512442</td>\n",
       "      <td>0.494946</td>\n",
       "      <td>central</td>\n",
       "      <td>frente</td>\n",
       "    </tr>\n",
       "    <tr>\n",
       "      <th>221</th>\n",
       "      <td>JESUS_central_6.mp4</td>\n",
       "      <td>0.424118</td>\n",
       "      <td>0.422172</td>\n",
       "      <td>0.431171</td>\n",
       "      <td>0.438299</td>\n",
       "      <td>0.430241</td>\n",
       "      <td>0.016368</td>\n",
       "      <td>0.514266</td>\n",
       "      <td>0.511600</td>\n",
       "      <td>0.020162</td>\n",
       "      <td>...</td>\n",
       "      <td>0.425539</td>\n",
       "      <td>0.490761</td>\n",
       "      <td>0.466076</td>\n",
       "      <td>0.506204</td>\n",
       "      <td>0.513050</td>\n",
       "      <td>-0.002941</td>\n",
       "      <td>0.511727</td>\n",
       "      <td>0.494168</td>\n",
       "      <td>central</td>\n",
       "      <td>frente</td>\n",
       "    </tr>\n",
       "    <tr>\n",
       "      <th>223</th>\n",
       "      <td>JESUS_central_6.mp4</td>\n",
       "      <td>0.422058</td>\n",
       "      <td>0.419708</td>\n",
       "      <td>0.428081</td>\n",
       "      <td>0.435271</td>\n",
       "      <td>0.427276</td>\n",
       "      <td>0.016628</td>\n",
       "      <td>0.511702</td>\n",
       "      <td>0.508049</td>\n",
       "      <td>0.021227</td>\n",
       "      <td>...</td>\n",
       "      <td>0.422410</td>\n",
       "      <td>0.488422</td>\n",
       "      <td>0.462611</td>\n",
       "      <td>0.502300</td>\n",
       "      <td>0.509355</td>\n",
       "      <td>-0.003759</td>\n",
       "      <td>0.509738</td>\n",
       "      <td>0.492126</td>\n",
       "      <td>central</td>\n",
       "      <td>frente</td>\n",
       "    </tr>\n",
       "    <tr>\n",
       "      <th>227</th>\n",
       "      <td>JESUS_central_6.mp4</td>\n",
       "      <td>0.406876</td>\n",
       "      <td>0.404736</td>\n",
       "      <td>0.412647</td>\n",
       "      <td>0.417840</td>\n",
       "      <td>0.412164</td>\n",
       "      <td>0.024616</td>\n",
       "      <td>0.489596</td>\n",
       "      <td>0.485452</td>\n",
       "      <td>0.030489</td>\n",
       "      <td>...</td>\n",
       "      <td>0.407939</td>\n",
       "      <td>0.467909</td>\n",
       "      <td>0.445153</td>\n",
       "      <td>0.479818</td>\n",
       "      <td>0.486523</td>\n",
       "      <td>-0.007066</td>\n",
       "      <td>0.488308</td>\n",
       "      <td>0.470861</td>\n",
       "      <td>central</td>\n",
       "      <td>frente</td>\n",
       "    </tr>\n",
       "    <tr>\n",
       "      <th>230</th>\n",
       "      <td>JESUS_central_6.mp4</td>\n",
       "      <td>0.392531</td>\n",
       "      <td>0.389703</td>\n",
       "      <td>0.394534</td>\n",
       "      <td>0.399973</td>\n",
       "      <td>0.394319</td>\n",
       "      <td>0.031950</td>\n",
       "      <td>0.466167</td>\n",
       "      <td>0.460249</td>\n",
       "      <td>0.039994</td>\n",
       "      <td>...</td>\n",
       "      <td>0.390384</td>\n",
       "      <td>0.443582</td>\n",
       "      <td>0.422393</td>\n",
       "      <td>0.455814</td>\n",
       "      <td>0.461182</td>\n",
       "      <td>-0.011767</td>\n",
       "      <td>0.465848</td>\n",
       "      <td>0.446417</td>\n",
       "      <td>central</td>\n",
       "      <td>frente</td>\n",
       "    </tr>\n",
       "    <tr>\n",
       "      <th>233</th>\n",
       "      <td>JESUS_central_6.mp4</td>\n",
       "      <td>0.376144</td>\n",
       "      <td>0.372324</td>\n",
       "      <td>0.375250</td>\n",
       "      <td>0.379702</td>\n",
       "      <td>0.375380</td>\n",
       "      <td>0.039054</td>\n",
       "      <td>0.443541</td>\n",
       "      <td>0.434653</td>\n",
       "      <td>0.049292</td>\n",
       "      <td>...</td>\n",
       "      <td>0.371585</td>\n",
       "      <td>0.417543</td>\n",
       "      <td>0.398486</td>\n",
       "      <td>0.430153</td>\n",
       "      <td>0.435138</td>\n",
       "      <td>-0.016235</td>\n",
       "      <td>0.444391</td>\n",
       "      <td>0.419905</td>\n",
       "      <td>central</td>\n",
       "      <td>frente</td>\n",
       "    </tr>\n",
       "    <tr>\n",
       "      <th>567</th>\n",
       "      <td>RACHEL_central_7.mp4</td>\n",
       "      <td>0.482842</td>\n",
       "      <td>0.479334</td>\n",
       "      <td>0.479508</td>\n",
       "      <td>0.484277</td>\n",
       "      <td>0.479747</td>\n",
       "      <td>0.029875</td>\n",
       "      <td>0.529586</td>\n",
       "      <td>0.523642</td>\n",
       "      <td>0.038565</td>\n",
       "      <td>...</td>\n",
       "      <td>0.476909</td>\n",
       "      <td>0.510349</td>\n",
       "      <td>0.495414</td>\n",
       "      <td>0.521079</td>\n",
       "      <td>0.523911</td>\n",
       "      <td>-0.013197</td>\n",
       "      <td>0.530412</td>\n",
       "      <td>0.512784</td>\n",
       "      <td>central</td>\n",
       "      <td>derecho</td>\n",
       "    </tr>\n",
       "    <tr>\n",
       "      <th>860</th>\n",
       "      <td>RACHEL_central_7.mp4</td>\n",
       "      <td>0.481560</td>\n",
       "      <td>0.478046</td>\n",
       "      <td>0.477968</td>\n",
       "      <td>0.483183</td>\n",
       "      <td>0.478161</td>\n",
       "      <td>0.030025</td>\n",
       "      <td>0.528231</td>\n",
       "      <td>0.522477</td>\n",
       "      <td>0.038641</td>\n",
       "      <td>...</td>\n",
       "      <td>0.475393</td>\n",
       "      <td>0.509334</td>\n",
       "      <td>0.494143</td>\n",
       "      <td>0.520213</td>\n",
       "      <td>0.522876</td>\n",
       "      <td>-0.013317</td>\n",
       "      <td>0.528937</td>\n",
       "      <td>0.511837</td>\n",
       "      <td>central</td>\n",
       "      <td>derecho</td>\n",
       "    </tr>\n",
       "    <tr>\n",
       "      <th>1692</th>\n",
       "      <td>RACHEL_derecho_7.mp4</td>\n",
       "      <td>0.481439</td>\n",
       "      <td>0.477946</td>\n",
       "      <td>0.477810</td>\n",
       "      <td>0.483159</td>\n",
       "      <td>0.477942</td>\n",
       "      <td>0.029800</td>\n",
       "      <td>0.528327</td>\n",
       "      <td>0.522509</td>\n",
       "      <td>0.038535</td>\n",
       "      <td>...</td>\n",
       "      <td>0.475091</td>\n",
       "      <td>0.509068</td>\n",
       "      <td>0.493874</td>\n",
       "      <td>0.520194</td>\n",
       "      <td>0.522867</td>\n",
       "      <td>-0.013327</td>\n",
       "      <td>0.529057</td>\n",
       "      <td>0.511533</td>\n",
       "      <td>derecho</td>\n",
       "      <td>central</td>\n",
       "    </tr>\n",
       "    <tr>\n",
       "      <th>1699</th>\n",
       "      <td>RACHEL_derecho_7.mp4</td>\n",
       "      <td>0.482821</td>\n",
       "      <td>0.479409</td>\n",
       "      <td>0.479407</td>\n",
       "      <td>0.484467</td>\n",
       "      <td>0.479584</td>\n",
       "      <td>0.030316</td>\n",
       "      <td>0.528489</td>\n",
       "      <td>0.522651</td>\n",
       "      <td>0.039164</td>\n",
       "      <td>...</td>\n",
       "      <td>0.476824</td>\n",
       "      <td>0.510018</td>\n",
       "      <td>0.495099</td>\n",
       "      <td>0.520347</td>\n",
       "      <td>0.523036</td>\n",
       "      <td>-0.013625</td>\n",
       "      <td>0.529250</td>\n",
       "      <td>0.512355</td>\n",
       "      <td>derecho</td>\n",
       "      <td>central</td>\n",
       "    </tr>\n",
       "    <tr>\n",
       "      <th>1702</th>\n",
       "      <td>RACHEL_derecho_7.mp4</td>\n",
       "      <td>0.481017</td>\n",
       "      <td>0.477391</td>\n",
       "      <td>0.477542</td>\n",
       "      <td>0.481823</td>\n",
       "      <td>0.478112</td>\n",
       "      <td>0.031666</td>\n",
       "      <td>0.525357</td>\n",
       "      <td>0.519569</td>\n",
       "      <td>0.040118</td>\n",
       "      <td>...</td>\n",
       "      <td>0.475527</td>\n",
       "      <td>0.507265</td>\n",
       "      <td>0.493507</td>\n",
       "      <td>0.517509</td>\n",
       "      <td>0.519961</td>\n",
       "      <td>-0.013477</td>\n",
       "      <td>0.526169</td>\n",
       "      <td>0.509386</td>\n",
       "      <td>derecho</td>\n",
       "      <td>central</td>\n",
       "    </tr>\n",
       "    <tr>\n",
       "      <th>1705</th>\n",
       "      <td>RACHEL_derecho_7.mp4</td>\n",
       "      <td>0.477550</td>\n",
       "      <td>0.473867</td>\n",
       "      <td>0.473580</td>\n",
       "      <td>0.477738</td>\n",
       "      <td>0.474036</td>\n",
       "      <td>0.031982</td>\n",
       "      <td>0.520732</td>\n",
       "      <td>0.514235</td>\n",
       "      <td>0.041197</td>\n",
       "      <td>...</td>\n",
       "      <td>0.471442</td>\n",
       "      <td>0.501364</td>\n",
       "      <td>0.487813</td>\n",
       "      <td>0.512061</td>\n",
       "      <td>0.514492</td>\n",
       "      <td>-0.014829</td>\n",
       "      <td>0.521717</td>\n",
       "      <td>0.503453</td>\n",
       "      <td>derecho</td>\n",
       "      <td>central</td>\n",
       "    </tr>\n",
       "    <tr>\n",
       "      <th>1708</th>\n",
       "      <td>RACHEL_derecho_7.mp4</td>\n",
       "      <td>0.474352</td>\n",
       "      <td>0.470313</td>\n",
       "      <td>0.469415</td>\n",
       "      <td>0.472814</td>\n",
       "      <td>0.470181</td>\n",
       "      <td>0.034975</td>\n",
       "      <td>0.512325</td>\n",
       "      <td>0.505248</td>\n",
       "      <td>0.045322</td>\n",
       "      <td>...</td>\n",
       "      <td>0.467751</td>\n",
       "      <td>0.493272</td>\n",
       "      <td>0.481245</td>\n",
       "      <td>0.503589</td>\n",
       "      <td>0.505388</td>\n",
       "      <td>-0.017015</td>\n",
       "      <td>0.513650</td>\n",
       "      <td>0.495040</td>\n",
       "      <td>derecho</td>\n",
       "      <td>palanca</td>\n",
       "    </tr>\n",
       "    <tr>\n",
       "      <th>1709</th>\n",
       "      <td>RACHEL_derecho_7.mp4</td>\n",
       "      <td>0.473623</td>\n",
       "      <td>0.469405</td>\n",
       "      <td>0.468552</td>\n",
       "      <td>0.471329</td>\n",
       "      <td>0.469463</td>\n",
       "      <td>0.036640</td>\n",
       "      <td>0.509633</td>\n",
       "      <td>0.502223</td>\n",
       "      <td>0.047414</td>\n",
       "      <td>...</td>\n",
       "      <td>0.466965</td>\n",
       "      <td>0.490763</td>\n",
       "      <td>0.479309</td>\n",
       "      <td>0.500625</td>\n",
       "      <td>0.502242</td>\n",
       "      <td>-0.017896</td>\n",
       "      <td>0.511165</td>\n",
       "      <td>0.492290</td>\n",
       "      <td>derecho</td>\n",
       "      <td>palanca</td>\n",
       "    </tr>\n",
       "    <tr>\n",
       "      <th>1710</th>\n",
       "      <td>RACHEL_derecho_7.mp4</td>\n",
       "      <td>0.473934</td>\n",
       "      <td>0.469646</td>\n",
       "      <td>0.468849</td>\n",
       "      <td>0.470860</td>\n",
       "      <td>0.469875</td>\n",
       "      <td>0.037292</td>\n",
       "      <td>0.507287</td>\n",
       "      <td>0.499033</td>\n",
       "      <td>0.048549</td>\n",
       "      <td>...</td>\n",
       "      <td>0.467279</td>\n",
       "      <td>0.488805</td>\n",
       "      <td>0.478860</td>\n",
       "      <td>0.497463</td>\n",
       "      <td>0.498933</td>\n",
       "      <td>-0.018637</td>\n",
       "      <td>0.509093</td>\n",
       "      <td>0.490034</td>\n",
       "      <td>derecho</td>\n",
       "      <td>palanca</td>\n",
       "    </tr>\n",
       "    <tr>\n",
       "      <th>2562</th>\n",
       "      <td>JESUS_frente_7.mp4</td>\n",
       "      <td>0.322263</td>\n",
       "      <td>0.312638</td>\n",
       "      <td>0.300083</td>\n",
       "      <td>0.314487</td>\n",
       "      <td>0.298261</td>\n",
       "      <td>0.046849</td>\n",
       "      <td>0.379293</td>\n",
       "      <td>0.359320</td>\n",
       "      <td>0.066667</td>\n",
       "      <td>...</td>\n",
       "      <td>0.291189</td>\n",
       "      <td>0.330129</td>\n",
       "      <td>0.308753</td>\n",
       "      <td>0.356068</td>\n",
       "      <td>0.358460</td>\n",
       "      <td>-0.030249</td>\n",
       "      <td>0.384210</td>\n",
       "      <td>0.333598</td>\n",
       "      <td>frente</td>\n",
       "      <td>palanca</td>\n",
       "    </tr>\n",
       "    <tr>\n",
       "      <th>2563</th>\n",
       "      <td>JESUS_frente_7.mp4</td>\n",
       "      <td>0.322909</td>\n",
       "      <td>0.313317</td>\n",
       "      <td>0.301084</td>\n",
       "      <td>0.314831</td>\n",
       "      <td>0.299456</td>\n",
       "      <td>0.047868</td>\n",
       "      <td>0.378682</td>\n",
       "      <td>0.358469</td>\n",
       "      <td>0.067717</td>\n",
       "      <td>...</td>\n",
       "      <td>0.292558</td>\n",
       "      <td>0.329955</td>\n",
       "      <td>0.309526</td>\n",
       "      <td>0.355225</td>\n",
       "      <td>0.357560</td>\n",
       "      <td>-0.030491</td>\n",
       "      <td>0.383659</td>\n",
       "      <td>0.333120</td>\n",
       "      <td>frente</td>\n",
       "      <td>palanca</td>\n",
       "    </tr>\n",
       "    <tr>\n",
       "      <th>2573</th>\n",
       "      <td>JESUS_frente_7.mp4</td>\n",
       "      <td>0.333278</td>\n",
       "      <td>0.324859</td>\n",
       "      <td>0.316548</td>\n",
       "      <td>0.332513</td>\n",
       "      <td>0.314367</td>\n",
       "      <td>0.035169</td>\n",
       "      <td>0.410332</td>\n",
       "      <td>0.394848</td>\n",
       "      <td>0.052177</td>\n",
       "      <td>...</td>\n",
       "      <td>0.307430</td>\n",
       "      <td>0.362971</td>\n",
       "      <td>0.336810</td>\n",
       "      <td>0.390155</td>\n",
       "      <td>0.394522</td>\n",
       "      <td>-0.023463</td>\n",
       "      <td>0.413566</td>\n",
       "      <td>0.367026</td>\n",
       "      <td>frente</td>\n",
       "      <td>central</td>\n",
       "    </tr>\n",
       "    <tr>\n",
       "      <th>2574</th>\n",
       "      <td>JESUS_frente_7.mp4</td>\n",
       "      <td>0.339828</td>\n",
       "      <td>0.332161</td>\n",
       "      <td>0.325330</td>\n",
       "      <td>0.340403</td>\n",
       "      <td>0.323066</td>\n",
       "      <td>0.033075</td>\n",
       "      <td>0.417815</td>\n",
       "      <td>0.404035</td>\n",
       "      <td>0.049327</td>\n",
       "      <td>...</td>\n",
       "      <td>0.316082</td>\n",
       "      <td>0.373404</td>\n",
       "      <td>0.346782</td>\n",
       "      <td>0.398939</td>\n",
       "      <td>0.403858</td>\n",
       "      <td>-0.021848</td>\n",
       "      <td>0.420608</td>\n",
       "      <td>0.377434</td>\n",
       "      <td>frente</td>\n",
       "      <td>central</td>\n",
       "    </tr>\n",
       "    <tr>\n",
       "      <th>3986</th>\n",
       "      <td>RACHEL_izquierdo_7.mp4</td>\n",
       "      <td>0.508669</td>\n",
       "      <td>0.504761</td>\n",
       "      <td>0.505092</td>\n",
       "      <td>0.515837</td>\n",
       "      <td>0.503282</td>\n",
       "      <td>0.009157</td>\n",
       "      <td>0.578046</td>\n",
       "      <td>0.571772</td>\n",
       "      <td>0.013759</td>\n",
       "      <td>...</td>\n",
       "      <td>0.498265</td>\n",
       "      <td>0.551812</td>\n",
       "      <td>0.528389</td>\n",
       "      <td>0.566938</td>\n",
       "      <td>0.572180</td>\n",
       "      <td>-0.004222</td>\n",
       "      <td>0.578072</td>\n",
       "      <td>0.556399</td>\n",
       "      <td>izquierdo</td>\n",
       "      <td>frente</td>\n",
       "    </tr>\n",
       "    <tr>\n",
       "      <th>3988</th>\n",
       "      <td>RACHEL_izquierdo_7.mp4</td>\n",
       "      <td>0.510308</td>\n",
       "      <td>0.506448</td>\n",
       "      <td>0.506830</td>\n",
       "      <td>0.517718</td>\n",
       "      <td>0.504960</td>\n",
       "      <td>0.009202</td>\n",
       "      <td>0.579763</td>\n",
       "      <td>0.573751</td>\n",
       "      <td>0.013363</td>\n",
       "      <td>...</td>\n",
       "      <td>0.499939</td>\n",
       "      <td>0.553718</td>\n",
       "      <td>0.530253</td>\n",
       "      <td>0.568961</td>\n",
       "      <td>0.574190</td>\n",
       "      <td>-0.003615</td>\n",
       "      <td>0.579696</td>\n",
       "      <td>0.558263</td>\n",
       "      <td>izquierdo</td>\n",
       "      <td>frente</td>\n",
       "    </tr>\n",
       "    <tr>\n",
       "      <th>4886</th>\n",
       "      <td>JESUS_palanca_5.mp4</td>\n",
       "      <td>0.303286</td>\n",
       "      <td>0.296092</td>\n",
       "      <td>0.286327</td>\n",
       "      <td>0.290816</td>\n",
       "      <td>0.286629</td>\n",
       "      <td>0.066257</td>\n",
       "      <td>0.322022</td>\n",
       "      <td>0.304621</td>\n",
       "      <td>0.081839</td>\n",
       "      <td>...</td>\n",
       "      <td>0.284392</td>\n",
       "      <td>0.284427</td>\n",
       "      <td>0.279637</td>\n",
       "      <td>0.303360</td>\n",
       "      <td>0.304041</td>\n",
       "      <td>-0.032453</td>\n",
       "      <td>0.326916</td>\n",
       "      <td>0.284372</td>\n",
       "      <td>palanca</td>\n",
       "      <td>derecho</td>\n",
       "    </tr>\n",
       "    <tr>\n",
       "      <th>4896</th>\n",
       "      <td>JESUS_palanca_5.mp4</td>\n",
       "      <td>0.302545</td>\n",
       "      <td>0.295998</td>\n",
       "      <td>0.287316</td>\n",
       "      <td>0.288981</td>\n",
       "      <td>0.288911</td>\n",
       "      <td>0.067035</td>\n",
       "      <td>0.309977</td>\n",
       "      <td>0.294480</td>\n",
       "      <td>0.083068</td>\n",
       "      <td>...</td>\n",
       "      <td>0.287174</td>\n",
       "      <td>0.281363</td>\n",
       "      <td>0.281021</td>\n",
       "      <td>0.295267</td>\n",
       "      <td>0.293971</td>\n",
       "      <td>-0.032304</td>\n",
       "      <td>0.314215</td>\n",
       "      <td>0.280133</td>\n",
       "      <td>palanca</td>\n",
       "      <td>derecho</td>\n",
       "    </tr>\n",
       "    <tr>\n",
       "      <th>5226</th>\n",
       "      <td>RACHEL_palanca_6.mp4</td>\n",
       "      <td>0.471899</td>\n",
       "      <td>0.467046</td>\n",
       "      <td>0.464027</td>\n",
       "      <td>0.465712</td>\n",
       "      <td>0.465127</td>\n",
       "      <td>0.040476</td>\n",
       "      <td>0.494407</td>\n",
       "      <td>0.486290</td>\n",
       "      <td>0.052437</td>\n",
       "      <td>...</td>\n",
       "      <td>0.462532</td>\n",
       "      <td>0.475603</td>\n",
       "      <td>0.468781</td>\n",
       "      <td>0.486139</td>\n",
       "      <td>0.486140</td>\n",
       "      <td>-0.020470</td>\n",
       "      <td>0.496514</td>\n",
       "      <td>0.476033</td>\n",
       "      <td>palanca</td>\n",
       "      <td>derecho</td>\n",
       "    </tr>\n",
       "    <tr>\n",
       "      <th>5227</th>\n",
       "      <td>RACHEL_palanca_6.mp4</td>\n",
       "      <td>0.473056</td>\n",
       "      <td>0.468049</td>\n",
       "      <td>0.465338</td>\n",
       "      <td>0.466661</td>\n",
       "      <td>0.466559</td>\n",
       "      <td>0.040369</td>\n",
       "      <td>0.495645</td>\n",
       "      <td>0.487618</td>\n",
       "      <td>0.052515</td>\n",
       "      <td>...</td>\n",
       "      <td>0.463999</td>\n",
       "      <td>0.476963</td>\n",
       "      <td>0.470317</td>\n",
       "      <td>0.487447</td>\n",
       "      <td>0.487452</td>\n",
       "      <td>-0.020921</td>\n",
       "      <td>0.497775</td>\n",
       "      <td>0.477484</td>\n",
       "      <td>palanca</td>\n",
       "      <td>derecho</td>\n",
       "    </tr>\n",
       "  </tbody>\n",
       "</table>\n",
       "<p>25 rows × 23 columns</p>\n",
       "</div>"
      ],
      "text/plain": [
       "                     filename     x_213     x_147     x_111     x_187  \\\n",
       "index                                                                   \n",
       "220       JESUS_central_6.mp4  0.424132  0.422387  0.432193  0.438322   \n",
       "221       JESUS_central_6.mp4  0.424118  0.422172  0.431171  0.438299   \n",
       "223       JESUS_central_6.mp4  0.422058  0.419708  0.428081  0.435271   \n",
       "227       JESUS_central_6.mp4  0.406876  0.404736  0.412647  0.417840   \n",
       "230       JESUS_central_6.mp4  0.392531  0.389703  0.394534  0.399973   \n",
       "233       JESUS_central_6.mp4  0.376144  0.372324  0.375250  0.379702   \n",
       "567      RACHEL_central_7.mp4  0.482842  0.479334  0.479508  0.484277   \n",
       "860      RACHEL_central_7.mp4  0.481560  0.478046  0.477968  0.483183   \n",
       "1692     RACHEL_derecho_7.mp4  0.481439  0.477946  0.477810  0.483159   \n",
       "1699     RACHEL_derecho_7.mp4  0.482821  0.479409  0.479407  0.484467   \n",
       "1702     RACHEL_derecho_7.mp4  0.481017  0.477391  0.477542  0.481823   \n",
       "1705     RACHEL_derecho_7.mp4  0.477550  0.473867  0.473580  0.477738   \n",
       "1708     RACHEL_derecho_7.mp4  0.474352  0.470313  0.469415  0.472814   \n",
       "1709     RACHEL_derecho_7.mp4  0.473623  0.469405  0.468552  0.471329   \n",
       "1710     RACHEL_derecho_7.mp4  0.473934  0.469646  0.468849  0.470860   \n",
       "2562       JESUS_frente_7.mp4  0.322263  0.312638  0.300083  0.314487   \n",
       "2563       JESUS_frente_7.mp4  0.322909  0.313317  0.301084  0.314831   \n",
       "2573       JESUS_frente_7.mp4  0.333278  0.324859  0.316548  0.332513   \n",
       "2574       JESUS_frente_7.mp4  0.339828  0.332161  0.325330  0.340403   \n",
       "3986   RACHEL_izquierdo_7.mp4  0.508669  0.504761  0.505092  0.515837   \n",
       "3988   RACHEL_izquierdo_7.mp4  0.510308  0.506448  0.506830  0.517718   \n",
       "4886      JESUS_palanca_5.mp4  0.303286  0.296092  0.286327  0.290816   \n",
       "4896      JESUS_palanca_5.mp4  0.302545  0.295998  0.287316  0.288981   \n",
       "5226     RACHEL_palanca_6.mp4  0.471899  0.467046  0.464027  0.465712   \n",
       "5227     RACHEL_palanca_6.mp4  0.473056  0.468049  0.465338  0.466661   \n",
       "\n",
       "           x_35     z_229     x_208     x_181     z_117  ...     x_156  \\\n",
       "index                                                    ...             \n",
       "220    0.431341  0.015361  0.514703  0.511067  0.019233  ...  0.426684   \n",
       "221    0.430241  0.016368  0.514266  0.511600  0.020162  ...  0.425539   \n",
       "223    0.427276  0.016628  0.511702  0.508049  0.021227  ...  0.422410   \n",
       "227    0.412164  0.024616  0.489596  0.485452  0.030489  ...  0.407939   \n",
       "230    0.394319  0.031950  0.466167  0.460249  0.039994  ...  0.390384   \n",
       "233    0.375380  0.039054  0.443541  0.434653  0.049292  ...  0.371585   \n",
       "567    0.479747  0.029875  0.529586  0.523642  0.038565  ...  0.476909   \n",
       "860    0.478161  0.030025  0.528231  0.522477  0.038641  ...  0.475393   \n",
       "1692   0.477942  0.029800  0.528327  0.522509  0.038535  ...  0.475091   \n",
       "1699   0.479584  0.030316  0.528489  0.522651  0.039164  ...  0.476824   \n",
       "1702   0.478112  0.031666  0.525357  0.519569  0.040118  ...  0.475527   \n",
       "1705   0.474036  0.031982  0.520732  0.514235  0.041197  ...  0.471442   \n",
       "1708   0.470181  0.034975  0.512325  0.505248  0.045322  ...  0.467751   \n",
       "1709   0.469463  0.036640  0.509633  0.502223  0.047414  ...  0.466965   \n",
       "1710   0.469875  0.037292  0.507287  0.499033  0.048549  ...  0.467279   \n",
       "2562   0.298261  0.046849  0.379293  0.359320  0.066667  ...  0.291189   \n",
       "2563   0.299456  0.047868  0.378682  0.358469  0.067717  ...  0.292558   \n",
       "2573   0.314367  0.035169  0.410332  0.394848  0.052177  ...  0.307430   \n",
       "2574   0.323066  0.033075  0.417815  0.404035  0.049327  ...  0.316082   \n",
       "3986   0.503282  0.009157  0.578046  0.571772  0.013759  ...  0.498265   \n",
       "3988   0.504960  0.009202  0.579763  0.573751  0.013363  ...  0.499939   \n",
       "4886   0.286629  0.066257  0.322022  0.304621  0.081839  ...  0.284392   \n",
       "4896   0.288911  0.067035  0.309977  0.294480  0.083068  ...  0.287174   \n",
       "5226   0.465127  0.040476  0.494407  0.486290  0.052437  ...  0.462532   \n",
       "5227   0.466559  0.040369  0.495645  0.487618  0.052515  ...  0.463999   \n",
       "\n",
       "          x_142     x_144      x_89     x_180     z_371     x_171     x_129  \\\n",
       "index                                                                         \n",
       "220    0.491695  0.467442  0.505214  0.512459 -0.002957  0.512442  0.494946   \n",
       "221    0.490761  0.466076  0.506204  0.513050 -0.002941  0.511727  0.494168   \n",
       "223    0.488422  0.462611  0.502300  0.509355 -0.003759  0.509738  0.492126   \n",
       "227    0.467909  0.445153  0.479818  0.486523 -0.007066  0.488308  0.470861   \n",
       "230    0.443582  0.422393  0.455814  0.461182 -0.011767  0.465848  0.446417   \n",
       "233    0.417543  0.398486  0.430153  0.435138 -0.016235  0.444391  0.419905   \n",
       "567    0.510349  0.495414  0.521079  0.523911 -0.013197  0.530412  0.512784   \n",
       "860    0.509334  0.494143  0.520213  0.522876 -0.013317  0.528937  0.511837   \n",
       "1692   0.509068  0.493874  0.520194  0.522867 -0.013327  0.529057  0.511533   \n",
       "1699   0.510018  0.495099  0.520347  0.523036 -0.013625  0.529250  0.512355   \n",
       "1702   0.507265  0.493507  0.517509  0.519961 -0.013477  0.526169  0.509386   \n",
       "1705   0.501364  0.487813  0.512061  0.514492 -0.014829  0.521717  0.503453   \n",
       "1708   0.493272  0.481245  0.503589  0.505388 -0.017015  0.513650  0.495040   \n",
       "1709   0.490763  0.479309  0.500625  0.502242 -0.017896  0.511165  0.492290   \n",
       "1710   0.488805  0.478860  0.497463  0.498933 -0.018637  0.509093  0.490034   \n",
       "2562   0.330129  0.308753  0.356068  0.358460 -0.030249  0.384210  0.333598   \n",
       "2563   0.329955  0.309526  0.355225  0.357560 -0.030491  0.383659  0.333120   \n",
       "2573   0.362971  0.336810  0.390155  0.394522 -0.023463  0.413566  0.367026   \n",
       "2574   0.373404  0.346782  0.398939  0.403858 -0.021848  0.420608  0.377434   \n",
       "3986   0.551812  0.528389  0.566938  0.572180 -0.004222  0.578072  0.556399   \n",
       "3988   0.553718  0.530253  0.568961  0.574190 -0.003615  0.579696  0.558263   \n",
       "4886   0.284427  0.279637  0.303360  0.304041 -0.032453  0.326916  0.284372   \n",
       "4896   0.281363  0.281021  0.295267  0.293971 -0.032304  0.314215  0.280133   \n",
       "5226   0.475603  0.468781  0.486139  0.486140 -0.020470  0.496514  0.476033   \n",
       "5227   0.476963  0.470317  0.487447  0.487452 -0.020921  0.497775  0.477484   \n",
       "\n",
       "           label  predicted  \n",
       "index                        \n",
       "220      central     frente  \n",
       "221      central     frente  \n",
       "223      central     frente  \n",
       "227      central     frente  \n",
       "230      central     frente  \n",
       "233      central     frente  \n",
       "567      central    derecho  \n",
       "860      central    derecho  \n",
       "1692     derecho    central  \n",
       "1699     derecho    central  \n",
       "1702     derecho    central  \n",
       "1705     derecho    central  \n",
       "1708     derecho    palanca  \n",
       "1709     derecho    palanca  \n",
       "1710     derecho    palanca  \n",
       "2562      frente    palanca  \n",
       "2563      frente    palanca  \n",
       "2573      frente    central  \n",
       "2574      frente    central  \n",
       "3986   izquierdo     frente  \n",
       "3988   izquierdo     frente  \n",
       "4886     palanca    derecho  \n",
       "4896     palanca    derecho  \n",
       "5226     palanca    derecho  \n",
       "5227     palanca    derecho  \n",
       "\n",
       "[25 rows x 23 columns]"
      ]
     },
     "metadata": {},
     "output_type": "display_data"
    }
   ],
   "source": [
    "# Obtener los datos de predicción del modelo Random Forest\n",
    "prediction_data = predictions_filter['Random Forest']\n",
    "\n",
    "# Crear un DataFrame con las predicciones del modelo Random Forest\n",
    "df_predictions = pd.DataFrame({\n",
    "    'index': prediction_data['index'].tolist(),\n",
    "    'actual': prediction_data['real'].tolist(),\n",
    "    'predicted': prediction_data['predicted'].tolist()\n",
    "})\n",
    "\n",
    "df_predictions = df_predictions.sort_values(by='index')\n",
    "df_predictions = df_predictions.drop_duplicates(subset='index')\n",
    "\n",
    "# Identificar instancias donde la predicción es incorrecta\n",
    "df_errors = df_predictions[df_predictions['actual'] != df_predictions['predicted']]\n",
    "\n",
    "# Establecer la columna \"index\" como los índices del DataFrame\n",
    "df_errors.set_index('index', inplace=True)\n",
    "\n",
    "# Mostrar las instancias originales donde la predicción es incorrecta\n",
    "df_missclasified_filter = df_filter_selected.loc[df_errors.index]\n",
    "\n",
    "# Fusionar df_missclasified con df_errors para agregar la columna \"predicted\"\n",
    "df_missclasified_filter = df_missclasified_filter.merge(df_errors['predicted'], left_index=True, right_index=True)\n",
    "\n",
    "# Mostrar las instancias mal clasificadas con las columnas \"predicted\" y \"filename\"\n",
    "display(df_missclasified_filter)"
   ]
  },
  {
   "cell_type": "code",
   "execution_count": 104,
   "id": "1363e92b-7ce3-4e04-8e91-59b5ef38c43b",
   "metadata": {
    "tags": []
   },
   "outputs": [],
   "source": [
    "# Guardar el DataFrame como un archivo CSV\n",
    "#df_missclasified_filter.to_csv('GBdf_missclasified_filter.csv', index=False)"
   ]
  },
  {
   "cell_type": "code",
   "execution_count": 106,
   "id": "1d6f245f-d5e7-4fa4-a9a1-fbd4e76d4b1a",
   "metadata": {
    "tags": []
   },
   "outputs": [],
   "source": [
    "# Guardar el DataFrame como un archivo CSV\n",
    "df_missclasified_filter.to_csv('df_missclasified_filter.csv', index=False)"
   ]
  },
  {
   "cell_type": "markdown",
   "id": "ce07e83e-a452-45d4-acff-e536ea35c58b",
   "metadata": {},
   "source": [
    "##### <font color='purple'> **5.3.1.1 Retrovisor Central** </font>"
   ]
  },
  {
   "cell_type": "markdown",
   "id": "f565c3bd-95f8-4c8b-a17c-b975598611e0",
   "metadata": {},
   "source": [
    "<font color='purple'> **Falso positivo:** </font> Fue clasificado como central cuando correspondía a derecho."
   ]
  },
  {
   "cell_type": "code",
   "execution_count": 209,
   "id": "b2064cf6-3928-4913-95ce-5ad6c5a5cc91",
   "metadata": {
    "tags": []
   },
   "outputs": [
    {
     "name": "stdout",
     "output_type": "stream",
     "text": [
      "Correspondía a la clase:  derecho\n",
      "Fue clasificado como:  central\n"
     ]
    }
   ],
   "source": [
    "central_filter = df_missclasified_filter[df_missclasified_filter['predicted'] == 'central']\n",
    "video_label = central_filter.iloc[0]['label']\n",
    "video_filename = central_filter.iloc[0]['filename']\n",
    "\n",
    "# Especifica la ruta al archivo de video\n",
    "notebook_directory = \"C:/Users/scarl/Desktop/CICESE/Cuatrimestre2/CDSI/Prácticas/Práctica2/VideosSegmentados2/\"\n",
    "video_path = notebook_directory + video_label + \"/\" + video_filename\n",
    "reproducir_video(video_path)\n",
    "print(\"Correspondía a la clase: \", video_label)\n",
    "print(\"Fue clasificado como: \", central_filter.iloc[0]['predicted'])"
   ]
  },
  {
   "cell_type": "markdown",
   "id": "e24c4fb1-14ce-4682-8ad4-47f00987cb23",
   "metadata": {},
   "source": [
    "**Nota:** El video inicia mirando al retrovisor central y después transiciona al retrovisor derecho."
   ]
  },
  {
   "cell_type": "markdown",
   "id": "ad5593fe-0de9-4461-be24-3ff63e621447",
   "metadata": {},
   "source": [
    "<font color='purple'> **Falso negativo:** </font> Fue clasificado como frente cuando correspondía a central."
   ]
  },
  {
   "cell_type": "code",
   "execution_count": 210,
   "id": "c584c303-ffce-45dd-b5f7-5503f2636e93",
   "metadata": {
    "tags": []
   },
   "outputs": [
    {
     "name": "stdout",
     "output_type": "stream",
     "text": [
      "Correspondía a la clase:  central\n",
      "Fue clasificado como:  frente\n"
     ]
    }
   ],
   "source": [
    "central_filter = df_missclasified_filter[df_missclasified_filter['label'] == 'central']\n",
    "video_label = central_filter.iloc[0]['label']\n",
    "video_filename = central_filter.iloc[0]['filename']\n",
    "\n",
    "# Especifica la ruta al archivo de video\n",
    "notebook_directory = \"C:/Users/scarl/Desktop/CICESE/Cuatrimestre2/CDSI/Prácticas/Práctica2/VideosSegmentados2/\"\n",
    "video_path = notebook_directory + video_label + \"/\" + video_filename\n",
    "reproducir_video(video_path)\n",
    "print(\"Correspondía a la clase: \", video_label)\n",
    "print(\"Fue clasificado como: \", central_filter.iloc[0]['predicted'])"
   ]
  },
  {
   "cell_type": "markdown",
   "id": "b545b1c2-3fa0-49b8-922b-538ee92fe3ff",
   "metadata": {
    "tags": []
   },
   "source": [
    "**Nota:** El video inicia mirando al frente y después transiciona al retrovisor central."
   ]
  },
  {
   "cell_type": "markdown",
   "id": "b0c46405-16df-4a31-8bbb-12b79c542e77",
   "metadata": {},
   "source": [
    "##### <font color='purple'> **5.3.1.2 Retrovisor Derecho** </font>"
   ]
  },
  {
   "cell_type": "markdown",
   "id": "bebd8c33-1abf-4ddb-8842-02ecc89b8e50",
   "metadata": {
    "tags": []
   },
   "source": [
    "<font color='purple'> **Falso positivo:** </font> Fue clasificado como derecho cuando correspondía a palanca."
   ]
  },
  {
   "cell_type": "code",
   "execution_count": 212,
   "id": "b043b88b-088f-4482-9648-6861c2b9531a",
   "metadata": {
    "tags": []
   },
   "outputs": [
    {
     "name": "stdout",
     "output_type": "stream",
     "text": [
      "Correspondía a la clase:  palanca\n",
      "Fue clasificado como:  derecho\n"
     ]
    }
   ],
   "source": [
    "derecho_filter = df_missclasified_filter[df_missclasified_filter['predicted'] == 'derecho']\n",
    "video_label = derecho_filter.iloc[-1]['label']\n",
    "video_filename = derecho_filter.iloc[-1]['filename']\n",
    "\n",
    "# Especifica la ruta al archivo de video\n",
    "notebook_directory = \"C:/Users/scarl/Desktop/CICESE/Cuatrimestre2/CDSI/Prácticas/Práctica2/VideosSegmentados2/\"\n",
    "video_path = notebook_directory + video_label + \"/\" + video_filename\n",
    "reproducir_video(video_path)\n",
    "print(\"Correspondía a la clase: \", video_label)\n",
    "print(\"Fue clasificado como: \", derecho_filter.iloc[0]['predicted'])"
   ]
  },
  {
   "cell_type": "markdown",
   "id": "c9cfa51c-b6ff-4ee2-81a6-b5c435cfea7c",
   "metadata": {
    "tags": []
   },
   "source": [
    "**Nota:** El video inicia mirando al retrovisor derecho y después transiciona a la palanca."
   ]
  },
  {
   "cell_type": "markdown",
   "id": "07eb61bf-1a41-484f-b868-f12dcfda341a",
   "metadata": {},
   "source": [
    "<font color='purple'> **Falso negativo:** </font> Fue clasificado como central cuando correspondía a derecho."
   ]
  },
  {
   "cell_type": "code",
   "execution_count": 214,
   "id": "5f4a281e-5e8e-417f-ba3a-ff882e61e98b",
   "metadata": {
    "tags": []
   },
   "outputs": [
    {
     "name": "stdout",
     "output_type": "stream",
     "text": [
      "Correspondía a la clase:  derecho\n",
      "Fue clasificado como:  central\n"
     ]
    }
   ],
   "source": [
    "derecho_filter = df_missclasified_filter[df_missclasified_filter['label'] == 'derecho']\n",
    "video_label = derecho_filter.iloc[0]['label']\n",
    "video_filename = derecho_filter.iloc[0]['filename']\n",
    "\n",
    "# Especifica la ruta al archivo de video\n",
    "notebook_directory = \"C:/Users/scarl/Desktop/CICESE/Cuatrimestre2/CDSI/Prácticas/Práctica2/VideosSegmentados2/\"\n",
    "video_path = notebook_directory + video_label + \"/\" + video_filename\n",
    "reproducir_video(video_path)\n",
    "print(\"Correspondía a la clase: \", video_label)\n",
    "print(\"Fue clasificado como: \", derecho_filter.iloc[0]['predicted'])"
   ]
  },
  {
   "cell_type": "markdown",
   "id": "515efdf2-8758-435a-aa80-001a09ede97a",
   "metadata": {},
   "source": [
    "**Nota:** El video inicia mirando al retrovisor central y después transiciona al retrovisor derecho."
   ]
  },
  {
   "cell_type": "markdown",
   "id": "9f53a0fd-1e76-4d6e-b523-622994f394e1",
   "metadata": {
    "tags": []
   },
   "source": [
    "##### <font color='purple'> **5.3.1.3 Retrovisor Izquierdo** </font>"
   ]
  },
  {
   "cell_type": "markdown",
   "id": "b68c406a-ec5a-43cf-993b-702213e9f737",
   "metadata": {},
   "source": [
    "<font color='purple'> **Falso positivo:** </font> No hubo instancias mal clasificadas."
   ]
  },
  {
   "cell_type": "markdown",
   "id": "74c7e1a9-1487-4328-83dd-de2ae6f4cd98",
   "metadata": {},
   "source": [
    "<font color='purple'> **Falso negativo:** </font> Fue clasificado como frente cuando correspondía a izquierdo."
   ]
  },
  {
   "cell_type": "code",
   "execution_count": 216,
   "id": "6d810a9f-04cd-4129-b8b7-829f721c4abd",
   "metadata": {
    "tags": []
   },
   "outputs": [
    {
     "name": "stdout",
     "output_type": "stream",
     "text": [
      "Correspondía a la clase:  izquierdo\n",
      "Fue clasificado como:  frente\n"
     ]
    }
   ],
   "source": [
    "izquierdo_filter = df_missclasified_filter[df_missclasified_filter['label'] == 'izquierdo']\n",
    "video_label = izquierdo_filter.iloc[0]['label']\n",
    "video_filename = izquierdo_filter.iloc[0]['filename']\n",
    "\n",
    "# Especifica la ruta al archivo de video\n",
    "notebook_directory = \"C:/Users/scarl/Desktop/CICESE/Cuatrimestre2/CDSI/Prácticas/Práctica2/VideosSegmentados2/\"\n",
    "video_path = notebook_directory + video_label + \"/\" + video_filename\n",
    "reproducir_video(video_path)\n",
    "print(\"Correspondía a la clase: \", video_label)\n",
    "print(\"Fue clasificado como: \", izquierdo_filter.iloc[0]['predicted'])"
   ]
  },
  {
   "cell_type": "markdown",
   "id": "4a3c1474-0a8a-42ab-982a-7bcb422636de",
   "metadata": {},
   "source": [
    "**Nota:** El video inicia mirando al frente y después transiciona al retrovisor izquierdo."
   ]
  },
  {
   "cell_type": "markdown",
   "id": "5fba4289-153e-446d-b1c9-675ab4f4f274",
   "metadata": {},
   "source": [
    "##### <font color='purple'> **5.3.1.4 Frente** </font>"
   ]
  },
  {
   "cell_type": "markdown",
   "id": "c9c6976e-266b-4ec7-856e-72d82a15a995",
   "metadata": {},
   "source": [
    "<font color='purple'> **Falso positivo:** </font> Fue clasificado como frente cuando correspondía a central."
   ]
  },
  {
   "cell_type": "code",
   "execution_count": 217,
   "id": "ed6823f4-a9a9-4ce6-be27-c69e6324c529",
   "metadata": {
    "tags": []
   },
   "outputs": [
    {
     "name": "stdout",
     "output_type": "stream",
     "text": [
      "Correspondía a la clase:  central\n",
      "Fue clasificado como:  frente\n"
     ]
    }
   ],
   "source": [
    "frente_filter = df_missclasified_filter[df_missclasified_filter['predicted'] == 'frente']\n",
    "video_label = frente_filter.iloc[0]['label']\n",
    "video_filename = frente_filter.iloc[0]['filename']\n",
    "\n",
    "# Especifica la ruta al archivo de video\n",
    "notebook_directory = \"C:/Users/scarl/Desktop/CICESE/Cuatrimestre2/CDSI/Prácticas/Práctica2/VideosSegmentados2/\"\n",
    "video_path = notebook_directory + video_label + \"/\" + video_filename\n",
    "reproducir_video(video_path)\n",
    "print(\"Correspondía a la clase: \", video_label)\n",
    "print(\"Fue clasificado como: \", frente_filter.iloc[0]['predicted'])"
   ]
  },
  {
   "cell_type": "markdown",
   "id": "79b5195b-08f3-448b-a5b9-e4930fef17d3",
   "metadata": {
    "tags": []
   },
   "source": [
    "**Nota:** El video inicia mirando al frente y después transiciona al retrovisor central."
   ]
  },
  {
   "cell_type": "markdown",
   "id": "df1d8165-db2d-41e8-a2c8-04b0e2ff94b8",
   "metadata": {},
   "source": [
    "<font color='purple'> **Falso negativo:** </font> Fue clasificado como palanca cuando correspondía a central."
   ]
  },
  {
   "cell_type": "code",
   "execution_count": 219,
   "id": "005e5c43-198b-44da-8e2d-cb0be02208df",
   "metadata": {
    "tags": []
   },
   "outputs": [
    {
     "name": "stdout",
     "output_type": "stream",
     "text": [
      "Correspondía a la clase:  frente\n",
      "Fue clasificado como:  palanca\n"
     ]
    }
   ],
   "source": [
    "frente_filter = df_missclasified_filter[df_missclasified_filter['label'] == 'frente']\n",
    "video_label = frente_filter.iloc[0]['label']\n",
    "video_filename = frente_filter.iloc[0]['filename']\n",
    "\n",
    "# Especifica la ruta al archivo de video\n",
    "notebook_directory = \"C:/Users/scarl/Desktop/CICESE/Cuatrimestre2/CDSI/Prácticas/Práctica2/VideosSegmentados2/\"\n",
    "video_path = notebook_directory + video_label + \"/\" + video_filename\n",
    "reproducir_video(video_path)\n",
    "print(\"Correspondía a la clase: \", video_label)\n",
    "print(\"Fue clasificado como: \", frente_filter.iloc[0]['predicted'])"
   ]
  },
  {
   "cell_type": "markdown",
   "id": "1be66bec-ff70-49f3-ba8a-6e95650fb02a",
   "metadata": {},
   "source": [
    "**Nota:** El video inicia mirando a la palanca y después transiciona al frente."
   ]
  },
  {
   "cell_type": "markdown",
   "id": "95f72c1c-44b0-4e0a-8dd9-ce8408aaadf9",
   "metadata": {
    "tags": []
   },
   "source": [
    "##### <font color='purple'> **5.3.1.5 Palanca** </font>"
   ]
  },
  {
   "cell_type": "markdown",
   "id": "f81ed268-5083-4720-89ab-85f2e840fabd",
   "metadata": {
    "tags": []
   },
   "source": [
    "<font color='purple'> **Falso positivo:** </font> Fue clasificado como palanca cuando correspondía a derecho."
   ]
  },
  {
   "cell_type": "code",
   "execution_count": 221,
   "id": "3105c653-2e6a-4a4b-8fb0-9b55d77ae499",
   "metadata": {
    "tags": []
   },
   "outputs": [
    {
     "name": "stdout",
     "output_type": "stream",
     "text": [
      "Correspondía a la clase:  derecho\n",
      "Fue clasificado como:  palanca\n"
     ]
    }
   ],
   "source": [
    "palanca_filter = df_missclasified_filter[df_missclasified_filter['predicted'] == 'palanca']\n",
    "video_label = palanca_filter.iloc[0]['label']\n",
    "video_filename = palanca_filter.iloc[0]['filename']\n",
    "\n",
    "# Especifica la ruta al archivo de video\n",
    "notebook_directory = \"C:/Users/scarl/Desktop/CICESE/Cuatrimestre2/CDSI/Prácticas/Práctica2/VideosSegmentados2/\"\n",
    "video_path = notebook_directory + video_label + \"/\" + video_filename\n",
    "reproducir_video(video_path)\n",
    "print(\"Correspondía a la clase: \", video_label)\n",
    "print(\"Fue clasificado como: \", palanca_filter.iloc[0]['predicted'])"
   ]
  },
  {
   "cell_type": "markdown",
   "id": "9b5cc960-0d3a-4f77-b1f4-c23e50d3a5ea",
   "metadata": {},
   "source": [
    "**Nota:** El video inicia mirando al retrovisor central y después transiciona al retrovisor derecho."
   ]
  },
  {
   "cell_type": "markdown",
   "id": "1ae21acf-6abd-4483-98bf-446a7efbfc5d",
   "metadata": {},
   "source": [
    "<font color='purple'> **Falso negativo:** </font> Fue clasificado como derecho cuando correspondía a palanca."
   ]
  },
  {
   "cell_type": "code",
   "execution_count": 222,
   "id": "89cc1ec1-10bc-45bb-a8f1-38850922d508",
   "metadata": {
    "tags": []
   },
   "outputs": [
    {
     "name": "stdout",
     "output_type": "stream",
     "text": [
      "Correspondía a la clase:  palanca\n",
      "Fue clasificado como:  derecho\n"
     ]
    }
   ],
   "source": [
    "palanca_filter = df_missclasified_filter[df_missclasified_filter['label'] == 'palanca']\n",
    "video_label = palanca_filter.iloc[0]['label']\n",
    "video_filename = palanca_filter.iloc[0]['filename']\n",
    "\n",
    "# Especifica la ruta al archivo de video\n",
    "notebook_directory = \"C:/Users/scarl/Desktop/CICESE/Cuatrimestre2/CDSI/Prácticas/Práctica2/VideosSegmentados2/\"\n",
    "video_path = notebook_directory + video_label + \"/\" + video_filename\n",
    "reproducir_video(video_path)\n",
    "print(\"Correspondía a la clase: \", video_label)\n",
    "print(\"Fue clasificado como: \", palanca_filter.iloc[0]['predicted'])"
   ]
  },
  {
   "cell_type": "markdown",
   "id": "d199469f-7238-494b-af9f-d196ec323c5d",
   "metadata": {},
   "source": [
    "**Nota:** El video inicia mirando al retrovisor derecho y después transiciona a la palanca."
   ]
  },
  {
   "cell_type": "markdown",
   "id": "5f35d3e1-3718-4810-9033-072ea4561fb2",
   "metadata": {},
   "source": [
    "#### <font color='purple'> **5.3.2 Análisis de instancias mal clasificadas** </font>"
   ]
  },
  {
   "cell_type": "markdown",
   "id": "f90a2286-2761-426b-9f83-98b819c6c174",
   "metadata": {},
   "source": [
    "De las 10 instancias observadas, en 9 de ellas se confirma que los conductores comienzan el video mirando la instancia predicha. Esta consistencia sugiere nuevamente que las instancias mal clasificadas probablemente se deben a una etiquetación incorrecta de los datos en lugar de alguna dificultad del modelo para clasificarlas."
   ]
  },
  {
   "cell_type": "markdown",
   "id": "f95865fc-9abf-4a45-bb2c-b5d611a3b3da",
   "metadata": {
    "tags": []
   },
   "source": [
    "## <font color='purple'> **6.- Validación externa** </font>"
   ]
  },
  {
   "cell_type": "markdown",
   "id": "0dcfc63e-b105-47d7-a9a3-77c4f37f2cb9",
   "metadata": {},
   "source": [
    "En esta sección, reentrenaremos los mejores clasificadores obtenidos anteriormente utilizando todos los datos disponibles. Posteriormente, evaluaremos un video que no ha sido visto por los modelos y analizaremos el rendimiento de los clasificadores finales en un entorno de video en tiempo real para determinar su eficacia."
   ]
  },
  {
   "cell_type": "markdown",
   "id": "38a3bb25-3b08-4cf3-89a2-fb3603c2a4d8",
   "metadata": {
    "tags": []
   },
   "source": [
    "### <font color='purple'> **6.1 Reentrenamiento del mejor clasificador** </font>"
   ]
  },
  {
   "cell_type": "markdown",
   "id": "76a77613-5e8c-4d74-9df0-fc86121ecbb2",
   "metadata": {
    "tags": []
   },
   "source": [
    "#### <font color='purple'> **6.1.1 Dataset completo** </font>"
   ]
  },
  {
   "cell_type": "code",
   "execution_count": 47,
   "id": "0971e85d-2901-4502-b7b7-d3b1e1dbece1",
   "metadata": {},
   "outputs": [],
   "source": [
    "df_all_selected = pd.read_csv(\"df_all_selected.csv\")\n",
    "X_all_selected = df_all_selected.drop(['label', 'filename'], axis=1) \n",
    "y_all = df_all_selected['label']"
   ]
  },
  {
   "cell_type": "code",
   "execution_count": 48,
   "id": "9865b2d4-1988-443f-9694-11690ebfae4f",
   "metadata": {
    "tags": []
   },
   "outputs": [
    {
     "data": {
      "text/html": [
       "<style>#sk-container-id-4 {color: black;}#sk-container-id-4 pre{padding: 0;}#sk-container-id-4 div.sk-toggleable {background-color: white;}#sk-container-id-4 label.sk-toggleable__label {cursor: pointer;display: block;width: 100%;margin-bottom: 0;padding: 0.3em;box-sizing: border-box;text-align: center;}#sk-container-id-4 label.sk-toggleable__label-arrow:before {content: \"▸\";float: left;margin-right: 0.25em;color: #696969;}#sk-container-id-4 label.sk-toggleable__label-arrow:hover:before {color: black;}#sk-container-id-4 div.sk-estimator:hover label.sk-toggleable__label-arrow:before {color: black;}#sk-container-id-4 div.sk-toggleable__content {max-height: 0;max-width: 0;overflow: hidden;text-align: left;background-color: #f0f8ff;}#sk-container-id-4 div.sk-toggleable__content pre {margin: 0.2em;color: black;border-radius: 0.25em;background-color: #f0f8ff;}#sk-container-id-4 input.sk-toggleable__control:checked~div.sk-toggleable__content {max-height: 200px;max-width: 100%;overflow: auto;}#sk-container-id-4 input.sk-toggleable__control:checked~label.sk-toggleable__label-arrow:before {content: \"▾\";}#sk-container-id-4 div.sk-estimator input.sk-toggleable__control:checked~label.sk-toggleable__label {background-color: #d4ebff;}#sk-container-id-4 div.sk-label input.sk-toggleable__control:checked~label.sk-toggleable__label {background-color: #d4ebff;}#sk-container-id-4 input.sk-hidden--visually {border: 0;clip: rect(1px 1px 1px 1px);clip: rect(1px, 1px, 1px, 1px);height: 1px;margin: -1px;overflow: hidden;padding: 0;position: absolute;width: 1px;}#sk-container-id-4 div.sk-estimator {font-family: monospace;background-color: #f0f8ff;border: 1px dotted black;border-radius: 0.25em;box-sizing: border-box;margin-bottom: 0.5em;}#sk-container-id-4 div.sk-estimator:hover {background-color: #d4ebff;}#sk-container-id-4 div.sk-parallel-item::after {content: \"\";width: 100%;border-bottom: 1px solid gray;flex-grow: 1;}#sk-container-id-4 div.sk-label:hover label.sk-toggleable__label {background-color: #d4ebff;}#sk-container-id-4 div.sk-serial::before {content: \"\";position: absolute;border-left: 1px solid gray;box-sizing: border-box;top: 0;bottom: 0;left: 50%;z-index: 0;}#sk-container-id-4 div.sk-serial {display: flex;flex-direction: column;align-items: center;background-color: white;padding-right: 0.2em;padding-left: 0.2em;position: relative;}#sk-container-id-4 div.sk-item {position: relative;z-index: 1;}#sk-container-id-4 div.sk-parallel {display: flex;align-items: stretch;justify-content: center;background-color: white;position: relative;}#sk-container-id-4 div.sk-item::before, #sk-container-id-4 div.sk-parallel-item::before {content: \"\";position: absolute;border-left: 1px solid gray;box-sizing: border-box;top: 0;bottom: 0;left: 50%;z-index: -1;}#sk-container-id-4 div.sk-parallel-item {display: flex;flex-direction: column;z-index: 1;position: relative;background-color: white;}#sk-container-id-4 div.sk-parallel-item:first-child::after {align-self: flex-end;width: 50%;}#sk-container-id-4 div.sk-parallel-item:last-child::after {align-self: flex-start;width: 50%;}#sk-container-id-4 div.sk-parallel-item:only-child::after {width: 0;}#sk-container-id-4 div.sk-dashed-wrapped {border: 1px dashed gray;margin: 0 0.4em 0.5em 0.4em;box-sizing: border-box;padding-bottom: 0.4em;background-color: white;}#sk-container-id-4 div.sk-label label {font-family: monospace;font-weight: bold;display: inline-block;line-height: 1.2em;}#sk-container-id-4 div.sk-label-container {text-align: center;}#sk-container-id-4 div.sk-container {/* jupyter's `normalize.less` sets `[hidden] { display: none; }` but bootstrap.min.css set `[hidden] { display: none !important; }` so we also need the `!important` here to be able to override the default hidden behavior on the sphinx rendered scikit-learn.org. See: https://github.com/scikit-learn/scikit-learn/issues/21755 */display: inline-block !important;position: relative;}#sk-container-id-4 div.sk-text-repr-fallback {display: none;}</style><div id=\"sk-container-id-4\" class=\"sk-top-container\"><div class=\"sk-text-repr-fallback\"><pre>RandomForestClassifier(random_state=24)</pre><b>In a Jupyter environment, please rerun this cell to show the HTML representation or trust the notebook. <br />On GitHub, the HTML representation is unable to render, please try loading this page with nbviewer.org.</b></div><div class=\"sk-container\" hidden><div class=\"sk-item\"><div class=\"sk-estimator sk-toggleable\"><input class=\"sk-toggleable__control sk-hidden--visually\" id=\"sk-estimator-id-4\" type=\"checkbox\" checked><label for=\"sk-estimator-id-4\" class=\"sk-toggleable__label sk-toggleable__label-arrow\">RandomForestClassifier</label><div class=\"sk-toggleable__content\"><pre>RandomForestClassifier(random_state=24)</pre></div></div></div></div></div>"
      ],
      "text/plain": [
       "RandomForestClassifier(random_state=24)"
      ]
     },
     "execution_count": 48,
     "metadata": {},
     "output_type": "execute_result"
    }
   ],
   "source": [
    "# Random Forest\n",
    "best_clf_all = RandomForestClassifier(n_estimators=100, random_state=24)\n",
    "best_clf_all.fit(X_all_selected, y_all)"
   ]
  },
  {
   "cell_type": "markdown",
   "id": "6b07ce09-09f5-4e0f-9806-438ad7816f22",
   "metadata": {
    "tags": []
   },
   "source": [
    "#### <font color='purple'> **6.1.2 Dataset filtrado** </font>"
   ]
  },
  {
   "cell_type": "code",
   "execution_count": 15,
   "id": "d5700da1-2e5b-4ba6-a972-d1bf4be0a21f",
   "metadata": {},
   "outputs": [],
   "source": [
    "df_filter_selected = pd.read_csv(\"df_filter_selected.csv\")\n",
    "X_filter_selected = df_filter_selected.drop(['label', 'filename'], axis=1) \n",
    "y_filter = df_filter_selected['label']"
   ]
  },
  {
   "cell_type": "code",
   "execution_count": 16,
   "id": "1e775ad7-4c77-4aa0-ab34-08902404b0cb",
   "metadata": {
    "tags": []
   },
   "outputs": [
    {
     "data": {
      "text/html": [
       "<style>#sk-container-id-2 {color: black;}#sk-container-id-2 pre{padding: 0;}#sk-container-id-2 div.sk-toggleable {background-color: white;}#sk-container-id-2 label.sk-toggleable__label {cursor: pointer;display: block;width: 100%;margin-bottom: 0;padding: 0.3em;box-sizing: border-box;text-align: center;}#sk-container-id-2 label.sk-toggleable__label-arrow:before {content: \"▸\";float: left;margin-right: 0.25em;color: #696969;}#sk-container-id-2 label.sk-toggleable__label-arrow:hover:before {color: black;}#sk-container-id-2 div.sk-estimator:hover label.sk-toggleable__label-arrow:before {color: black;}#sk-container-id-2 div.sk-toggleable__content {max-height: 0;max-width: 0;overflow: hidden;text-align: left;background-color: #f0f8ff;}#sk-container-id-2 div.sk-toggleable__content pre {margin: 0.2em;color: black;border-radius: 0.25em;background-color: #f0f8ff;}#sk-container-id-2 input.sk-toggleable__control:checked~div.sk-toggleable__content {max-height: 200px;max-width: 100%;overflow: auto;}#sk-container-id-2 input.sk-toggleable__control:checked~label.sk-toggleable__label-arrow:before {content: \"▾\";}#sk-container-id-2 div.sk-estimator input.sk-toggleable__control:checked~label.sk-toggleable__label {background-color: #d4ebff;}#sk-container-id-2 div.sk-label input.sk-toggleable__control:checked~label.sk-toggleable__label {background-color: #d4ebff;}#sk-container-id-2 input.sk-hidden--visually {border: 0;clip: rect(1px 1px 1px 1px);clip: rect(1px, 1px, 1px, 1px);height: 1px;margin: -1px;overflow: hidden;padding: 0;position: absolute;width: 1px;}#sk-container-id-2 div.sk-estimator {font-family: monospace;background-color: #f0f8ff;border: 1px dotted black;border-radius: 0.25em;box-sizing: border-box;margin-bottom: 0.5em;}#sk-container-id-2 div.sk-estimator:hover {background-color: #d4ebff;}#sk-container-id-2 div.sk-parallel-item::after {content: \"\";width: 100%;border-bottom: 1px solid gray;flex-grow: 1;}#sk-container-id-2 div.sk-label:hover label.sk-toggleable__label {background-color: #d4ebff;}#sk-container-id-2 div.sk-serial::before {content: \"\";position: absolute;border-left: 1px solid gray;box-sizing: border-box;top: 0;bottom: 0;left: 50%;z-index: 0;}#sk-container-id-2 div.sk-serial {display: flex;flex-direction: column;align-items: center;background-color: white;padding-right: 0.2em;padding-left: 0.2em;position: relative;}#sk-container-id-2 div.sk-item {position: relative;z-index: 1;}#sk-container-id-2 div.sk-parallel {display: flex;align-items: stretch;justify-content: center;background-color: white;position: relative;}#sk-container-id-2 div.sk-item::before, #sk-container-id-2 div.sk-parallel-item::before {content: \"\";position: absolute;border-left: 1px solid gray;box-sizing: border-box;top: 0;bottom: 0;left: 50%;z-index: -1;}#sk-container-id-2 div.sk-parallel-item {display: flex;flex-direction: column;z-index: 1;position: relative;background-color: white;}#sk-container-id-2 div.sk-parallel-item:first-child::after {align-self: flex-end;width: 50%;}#sk-container-id-2 div.sk-parallel-item:last-child::after {align-self: flex-start;width: 50%;}#sk-container-id-2 div.sk-parallel-item:only-child::after {width: 0;}#sk-container-id-2 div.sk-dashed-wrapped {border: 1px dashed gray;margin: 0 0.4em 0.5em 0.4em;box-sizing: border-box;padding-bottom: 0.4em;background-color: white;}#sk-container-id-2 div.sk-label label {font-family: monospace;font-weight: bold;display: inline-block;line-height: 1.2em;}#sk-container-id-2 div.sk-label-container {text-align: center;}#sk-container-id-2 div.sk-container {/* jupyter's `normalize.less` sets `[hidden] { display: none; }` but bootstrap.min.css set `[hidden] { display: none !important; }` so we also need the `!important` here to be able to override the default hidden behavior on the sphinx rendered scikit-learn.org. See: https://github.com/scikit-learn/scikit-learn/issues/21755 */display: inline-block !important;position: relative;}#sk-container-id-2 div.sk-text-repr-fallback {display: none;}</style><div id=\"sk-container-id-2\" class=\"sk-top-container\"><div class=\"sk-text-repr-fallback\"><pre>RandomForestClassifier(random_state=24)</pre><b>In a Jupyter environment, please rerun this cell to show the HTML representation or trust the notebook. <br />On GitHub, the HTML representation is unable to render, please try loading this page with nbviewer.org.</b></div><div class=\"sk-container\" hidden><div class=\"sk-item\"><div class=\"sk-estimator sk-toggleable\"><input class=\"sk-toggleable__control sk-hidden--visually\" id=\"sk-estimator-id-2\" type=\"checkbox\" checked><label for=\"sk-estimator-id-2\" class=\"sk-toggleable__label sk-toggleable__label-arrow\">RandomForestClassifier</label><div class=\"sk-toggleable__content\"><pre>RandomForestClassifier(random_state=24)</pre></div></div></div></div></div>"
      ],
      "text/plain": [
       "RandomForestClassifier(random_state=24)"
      ]
     },
     "execution_count": 16,
     "metadata": {},
     "output_type": "execute_result"
    }
   ],
   "source": [
    "# Random Forest\n",
    "best_clf_filter = RandomForestClassifier(n_estimators=100, random_state=24)\n",
    "best_clf_filter.fit(X_filter_selected, y_filter)"
   ]
  },
  {
   "cell_type": "markdown",
   "id": "954074fb-4d7e-44e1-87cd-651ff061a4c5",
   "metadata": {
    "tags": []
   },
   "source": [
    "### <font color='purple'> **6.2 Validación del clasificador en un video nuevo** </font>"
   ]
  },
  {
   "cell_type": "markdown",
   "id": "834a3a76-b53c-4e1b-baa0-a49b8945093d",
   "metadata": {
    "tags": []
   },
   "source": [
    "#### <font color='purple'> **6.2.1 Función para extraer landmarks de un frame de video** </font>"
   ]
  },
  {
   "cell_type": "code",
   "execution_count": 56,
   "id": "7a4b3bb1-d955-4c86-bebd-8842adedbbbf",
   "metadata": {
    "tags": []
   },
   "outputs": [],
   "source": [
    "# Función para extraer landmarks de un frame de video\n",
    "def extract_landmarks_frame(frame):\n",
    "    mp_face_mesh = mp.solutions.face_mesh\n",
    "    mp_drawing = mp.solutions.drawing_utils\n",
    "\n",
    "    # Define las especificaciones de dibujo para los landmarks (puntos)\n",
    "    draw_spec = mp_drawing.DrawingSpec(color=(0, 255, 0), thickness=0.5, circle_radius=0.5)\n",
    "\n",
    "    # Inicializa el modelo de detección de face mesh\n",
    "    with mp_face_mesh.FaceMesh(static_image_mode=False, max_num_faces=1, min_detection_confidence=0.5, min_tracking_confidence=0.5) as face_mesh:\n",
    "        # Convierte el frame de BGR a RGB\n",
    "        frame_rgb = cv2.cvtColor(frame, cv2.COLOR_BGR2RGB)\n",
    "\n",
    "        # Detección de face mesh\n",
    "        results = face_mesh.process(frame_rgb)\n",
    "\n",
    "        # Inicializa una lista para almacenar los landmarks\n",
    "        landmarks_flat = []\n",
    "\n",
    "        # Dibuja los puntos de landmark si se detectan rostros\n",
    "        if results.multi_face_landmarks:\n",
    "\n",
    "            for face_landmarks in results.multi_face_landmarks:\n",
    "                landmark_dict = {}  # Diccionario para almacenar las coordenadas de los landmarks\n",
    "                for i, landmark in enumerate(face_landmarks.landmark):\n",
    "                    landmark_dict[f'x_{i}'] = landmark.x\n",
    "                    landmark_dict[f'y_{i}'] = landmark.y\n",
    "                    landmark_dict[f'z_{i}'] = landmark.z\n",
    "                landmarks_flat.append(landmark_dict)  # Agregar el diccionario de landmarks a la lista\n",
    "                \n",
    "        return landmarks_flat"
   ]
  },
  {
   "cell_type": "markdown",
   "id": "5665d559-7a30-41d3-9c06-f1137295ebc5",
   "metadata": {
    "tags": []
   },
   "source": [
    "#### <font color='purple'> **6.2.2 Dataset completo** </font>"
   ]
  },
  {
   "cell_type": "code",
   "execution_count": 57,
   "id": "1af59590-2b1a-4265-8c2e-c77a13295c10",
   "metadata": {
    "tags": []
   },
   "outputs": [],
   "source": [
    "# Inicializar el detector de rostros. Usaremos el modelo de detección precisa en este ejemplo.\n",
    "mp_face_detection = mp.solutions.face_detection\n",
    "mp_drawing = mp.solutions.drawing_utils\n",
    "face_detection = mp_face_detection.FaceDetection(model_selection=1, min_detection_confidence=0.5)\n",
    "\n",
    "video_path = 'MARCOS.mp4'  # Reemplaza esto con la ruta a tu video\n",
    "cap = cv2.VideoCapture(video_path)\n",
    "\n",
    "if not cap.isOpened():\n",
    "    print(\"Error al abrir el video\")\n",
    "else:\n",
    "    while True:\n",
    "        success, image = cap.read()\n",
    "        if not success:\n",
    "            print(\"Fin del video.\")  # Indica el fin del video y sale del bucle\n",
    "            break\n",
    "\n",
    "        # Extrae los landmarks del frame actual\n",
    "        landmarks_data = extract_landmarks_frame(image)\n",
    "\n",
    "        # Si se detectan landmarks\n",
    "        if landmarks_data:\n",
    "            \n",
    "            # Convertir la lista de diccionarios en un DataFrame\n",
    "            landmarks_df = pd.DataFrame(landmarks_data)\n",
    "\n",
    "            # Filtra los landmarks para que solo contenga las columnas de X_all_selected\n",
    "            landmarks_filtered = landmarks_df.filter(items=X_all_selected.columns)\n",
    "\n",
    "            # Realiza la predicción\n",
    "            prediction = best_clf_all.predict(landmarks_filtered)\n",
    "\n",
    "            # Muestra la predicción en el frame\n",
    "            cv2.putText(image, \"Prediccion: \" + str(prediction), (10, 30), cv2.FONT_HERSHEY_SIMPLEX, 1, (255, 255, 255), 2, cv2.LINE_AA)\n",
    "        else:\n",
    "            # Si no se detectan landmarks, muestra un mensaje\n",
    "            cv2.putText(image, \"No se detectaron landmarks\", (10, 30), cv2.FONT_HERSHEY_SIMPLEX, 1, (255, 255, 255), 2, cv2.LINE_AA)\n",
    "\n",
    "        # Redimensionar la imagen a la mitad\n",
    "        height, width, _ = image.shape\n",
    "        new_width = width // 3\n",
    "        new_height = height // 3\n",
    "        resized_image = cv2.resize(image, (new_width, new_height))\n",
    "\n",
    "        cv2.imshow('Face Detection in Video', resized_image)\n",
    "\n",
    "        # Espera 1 milisegundo entre cada iteración\n",
    "        if cv2.waitKey(1) & 0xFF == ord('q'):  # Permite la opción de terminar prematuramente con la tecla 'q'\n",
    "            break\n",
    "\n",
    "cap.release()\n",
    "cv2.destroyAllWindows()"
   ]
  },
  {
   "cell_type": "markdown",
   "id": "71cc3f8e-60b7-443f-94cc-a41eddcdcc44",
   "metadata": {},
   "source": [
    "**Observación:** El modelo logró clasificar con precisión todos los puntos de atención visual."
   ]
  },
  {
   "cell_type": "markdown",
   "id": "9dc171f3-4813-4811-b98e-6585550fed62",
   "metadata": {
    "tags": []
   },
   "source": [
    "#### <font color='purple'> **6.2.3 Dataset filtrado** </font>"
   ]
  },
  {
   "cell_type": "code",
   "execution_count": 58,
   "id": "12f56afe-6c48-4b08-8514-0e6ef39de94a",
   "metadata": {
    "tags": []
   },
   "outputs": [],
   "source": [
    "# Inicializar el detector de rostros. Usaremos el modelo de detección precisa en este ejemplo.\n",
    "mp_face_detection = mp.solutions.face_detection\n",
    "mp_drawing = mp.solutions.drawing_utils\n",
    "face_detection = mp_face_detection.FaceDetection(model_selection=1, min_detection_confidence=0.5)\n",
    "\n",
    "video_path = 'MARCOS.mp4'  # Reemplaza esto con la ruta a tu video\n",
    "cap = cv2.VideoCapture(video_path)\n",
    "\n",
    "if not cap.isOpened():\n",
    "    print(\"Error al abrir el video\")\n",
    "else:\n",
    "    while True:\n",
    "        success, image = cap.read()\n",
    "        if not success:\n",
    "            print(\"Fin del video.\")  # Indica el fin del video y sale del bucle\n",
    "            break\n",
    "\n",
    "        # Extrae los landmarks del frame actual\n",
    "        landmarks_data = extract_landmarks_frame(image)\n",
    "\n",
    "        # Si se detectan landmarks\n",
    "        if landmarks_data:\n",
    "            \n",
    "            # Convertir la lista de diccionarios en un DataFrame\n",
    "            landmarks_df = pd.DataFrame(landmarks_data)\n",
    "\n",
    "            # Filtra los landmarks para que solo contenga las columnas de X_all_selected\n",
    "            landmarks_filtered = landmarks_df.filter(items=X_filter_selected.columns)\n",
    "\n",
    "            # Realiza la predicción\n",
    "            prediction = best_clf_filter.predict(landmarks_filtered)\n",
    "\n",
    "            # Muestra la predicción en el frame\n",
    "            cv2.putText(image, \"Prediccion: \" + str(prediction), (10, 30), cv2.FONT_HERSHEY_SIMPLEX, 1, (255, 255, 255), 2, cv2.LINE_AA)\n",
    "        else:\n",
    "            # Si no se detectan landmarks, muestra un mensaje\n",
    "            cv2.putText(image, \"No se detectaron landmarks\", (10, 30), cv2.FONT_HERSHEY_SIMPLEX, 1, (255, 255, 255), 2, cv2.LINE_AA)\n",
    "\n",
    "        # Redimensionar la imagen a la mitad\n",
    "        height, width, _ = image.shape\n",
    "        new_width = width // 3\n",
    "        new_height = height // 3\n",
    "        resized_image = cv2.resize(image, (new_width, new_height))\n",
    "\n",
    "        cv2.imshow('Face Detection in Video', resized_image)\n",
    "\n",
    "        # Espera 1 milisegundo entre cada iteración\n",
    "        if cv2.waitKey(1) & 0xFF == ord('q'):  # Permite la opción de terminar prematuramente con la tecla 'q'\n",
    "            break\n",
    "\n",
    "cap.release()\n",
    "cv2.destroyAllWindows()"
   ]
  },
  {
   "cell_type": "markdown",
   "id": "e6ea8abc-2785-44f4-b63d-a73c654e8d7a",
   "metadata": {},
   "source": [
    "**Observación:** El modelo logró clasificar correctamente 4 de los 5 puntos de atención visual. Sin embargo, cuando el conductor miraba hacia la palanca, el modelo presentaba cierta inconsistencia al clasificar algunos fotogramas como \"palanca\" y otros como \"frente\"."
   ]
  },
  {
   "cell_type": "markdown",
   "id": "912daad6-afd4-466d-b65f-cb3514239e78",
   "metadata": {
    "tags": []
   },
   "source": [
    "### <font color='purple'> **6.3 Validación del clasificador en tiempo real** </font>"
   ]
  },
  {
   "cell_type": "markdown",
   "id": "e7e0c714-f6d9-4bea-9b51-75bf0fcf05c6",
   "metadata": {
    "tags": []
   },
   "source": [
    "#### <font color='purple'> **6.3.1 Función para extraer landmarks en vivo** </font>"
   ]
  },
  {
   "cell_type": "code",
   "execution_count": 25,
   "id": "e23cfe0f-9c01-43ad-9656-75c6e20907c9",
   "metadata": {
    "tags": []
   },
   "outputs": [],
   "source": [
    "def extract_landmarks_live(frame):\n",
    "    # Convertir el fotograma a RGB (MediaPipe requiere entradas RGB)\n",
    "    frame_rgb = cv2.cvtColor(frame, cv2.COLOR_BGR2RGB)\n",
    "    # Procesar el fotograma\n",
    "    results = face_mesh.process(frame_rgb)\n",
    "    # Extraer landmarks del rostro detectado\n",
    "    landmarks_flat = []\n",
    "    if results.multi_face_landmarks:\n",
    "\n",
    "        for face_landmarks in results.multi_face_landmarks:\n",
    "            landmark_dict = {}  # Diccionario para almacenar las coordenadas de los landmarks\n",
    "            for i, landmark in enumerate(face_landmarks.landmark):\n",
    "                landmark_dict[f'x_{i}'] = landmark.x\n",
    "                landmark_dict[f'y_{i}'] = landmark.y\n",
    "                landmark_dict[f'z_{i}'] = landmark.z\n",
    "            landmarks_flat.append(landmark_dict)  # Agregar el diccionario de landmarks a la lista\n",
    "            \n",
    "    # Crear un DataFrame con las coordenadas de los landmarks\n",
    "    landmarks_df = pd.DataFrame(landmarks_flat)\n",
    "    return landmarks_df"
   ]
  },
  {
   "cell_type": "markdown",
   "id": "1a71d44f-43d2-4ccc-96c3-d3ebd85b8925",
   "metadata": {
    "tags": []
   },
   "source": [
    "#### <font color='purple'> **6.3.2 Dataset completo** </font>"
   ]
  },
  {
   "cell_type": "code",
   "execution_count": 52,
   "id": "3c93d5d8-1d8d-49bc-94a5-44f13167eb0b",
   "metadata": {
    "tags": []
   },
   "outputs": [],
   "source": [
    "cap = cv2.VideoCapture(0)  \n",
    "\n",
    "mp_face_mesh = mp.solutions.face_mesh\n",
    "mp_drawing = mp.solutions.drawing_utils\n",
    "\n",
    "# Define las especificaciones de dibujo para los landmarks (puntos)\n",
    "draw_spec = mp_drawing.DrawingSpec(color=(0, 255, 0), thickness=0.5, circle_radius=0.5)\n",
    "\n",
    "with mp_face_mesh.FaceMesh(static_image_mode=False, max_num_faces=1, min_detection_confidence=0.5, min_tracking_confidence=0.5) as face_mesh:\n",
    "    while cap.isOpened():\n",
    "        success, image = cap.read()\n",
    "        if not success:\n",
    "            continue\n",
    "\n",
    "        # Convierte la imagen de BGR a RGB\n",
    "        image_rgb = cv2.cvtColor(image, cv2.COLOR_BGR2RGB)\n",
    "        \n",
    "        # Detección de face mesh\n",
    "        results = face_mesh.process(image_rgb)\n",
    "\n",
    "        # Dibuja los puntos de landmark\n",
    "        if results.multi_face_landmarks:\n",
    "            for face_landmarks in results.multi_face_landmarks:\n",
    "                for landmark in face_landmarks.landmark:\n",
    "                    x = int(landmark.x * image.shape[1])\n",
    "                    y = int(landmark.y * image.shape[0])\n",
    "                    cv2.circle(image, (x, y), 2, (0, 0, 255), -1)\n",
    "        \n",
    "        # Extraer landmarks del cuadro actual\n",
    "        landmarks_data = extract_landmarks_live(image)\n",
    "        \n",
    "        # Filtrar landmarks_data para que solo contenga las columnas de X_all_selected\n",
    "        landmarks_filtered = landmarks_data.filter(items=X_all_selected.columns)\n",
    "        \n",
    "  \n",
    "        # Verificar si landmarks_filtered está vacío\n",
    "        if not landmarks_filtered.empty:\n",
    "            # Utilizar los datos filtrados como entrada al modelo y obtener la predicción\n",
    "            prediction = best_clf_all.predict(landmarks_filtered)\n",
    "            # Mostrar la predicción en la ventana de la cámara\n",
    "            cv2.putText(image, \"Prediccion: \" + str(prediction), (10, 30), cv2.FONT_HERSHEY_COMPLEX, 1, (255, 255, 255), 2, cv2.LINE_AA)\n",
    "        else:\n",
    "            # Mostrar un mensaje indicando que no se detectaron landmarks\n",
    "            cv2.putText(image, \"No se detectaron landmarks\", (10, 30), cv2.FONT_HERSHEY_SIMPLEX, 1, (255, 255, 255), 2, cv2.LINE_AA)\n",
    "\n",
    "        cv2.putText(image, \"Presiona una tecla para terminar\", (10, image.shape[0] - 10), cv2.FONT_HERSHEY_SIMPLEX, 0.5, (255, 255, 255), 1, cv2.LINE_AA)\n",
    "\n",
    "                \n",
    "        # Muestra la imagen\n",
    "        cv2.imshow('Face Mesh Detection', image)\n",
    "        if cv2.waitKey(1) != -1:  # Si se presiona cualquier tecla, termina la ejecución\n",
    "            break\n",
    "\n",
    "cap.release()\n",
    "cv2.destroyAllWindows()\n"
   ]
  },
  {
   "cell_type": "markdown",
   "id": "1ba8a941-1066-4cc4-8098-963956eeb3ba",
   "metadata": {
    "tags": []
   },
   "source": [
    "#### <font color='purple'> **6.3.3 Dataset filtrado** </font>"
   ]
  },
  {
   "cell_type": "code",
   "execution_count": 18,
   "id": "26b33714-dec3-4d08-9913-0b4391be8b6a",
   "metadata": {
    "tags": []
   },
   "outputs": [],
   "source": [
    "cap = cv2.VideoCapture(0)  \n",
    "\n",
    "mp_face_mesh = mp.solutions.face_mesh\n",
    "mp_drawing = mp.solutions.drawing_utils\n",
    "\n",
    "# Define las especificaciones de dibujo para los landmarks (puntos)\n",
    "draw_spec = mp_drawing.DrawingSpec(color=(0, 255, 0), thickness=0.5, circle_radius=0.5)\n",
    "\n",
    "with mp_face_mesh.FaceMesh(static_image_mode=False, max_num_faces=1, min_detection_confidence=0.5, min_tracking_confidence=0.5) as face_mesh:\n",
    "    while cap.isOpened():\n",
    "        success, image = cap.read()\n",
    "        if not success:\n",
    "            continue\n",
    "\n",
    "        # Convierte la imagen de BGR a RGB\n",
    "        image_rgb = cv2.cvtColor(image, cv2.COLOR_BGR2RGB)\n",
    "        \n",
    "        # Detección de face mesh\n",
    "        results = face_mesh.process(image_rgb)\n",
    "\n",
    "        # Dibuja los puntos de landmark\n",
    "        if results.multi_face_landmarks:\n",
    "            for face_landmarks in results.multi_face_landmarks:\n",
    "                for landmark in face_landmarks.landmark:\n",
    "                    x = int(landmark.x * image.shape[1])\n",
    "                    y = int(landmark.y * image.shape[0])\n",
    "                    cv2.circle(image, (x, y), 2, (0, 0, 255), -1)\n",
    "        \n",
    "        # Extraer landmarks del cuadro actual\n",
    "        landmarks_data = extract_landmarks_live(image)\n",
    "        \n",
    "        # Filtrar landmarks_data para que solo contenga las columnas de X_all_selected\n",
    "        landmarks_filtered = landmarks_data.filter(items=X_filter_selected.columns)\n",
    "        \n",
    "  \n",
    "        # Verificar si landmarks_filtered está vacío\n",
    "        if not landmarks_filtered.empty:\n",
    "            # Utilizar los datos filtrados como entrada al modelo y obtener la predicción\n",
    "            prediction = best_clf_filter.predict(landmarks_filtered)\n",
    "            # Mostrar la predicción en la ventana de la cámara\n",
    "            cv2.putText(image, \"Prediccion: \" + str(prediction), (10, 30), cv2.FONT_HERSHEY_COMPLEX, 1, (255, 255, 255), 2, cv2.LINE_AA)\n",
    "        else:\n",
    "            # Mostrar un mensaje indicando que no se detectaron landmarks\n",
    "            cv2.putText(image, \"No se detectaron landmarks\", (10, 30), cv2.FONT_HERSHEY_SIMPLEX, 1, (255, 255, 255), 2, cv2.LINE_AA)\n",
    "\n",
    "        cv2.putText(image, \"Presiona una tecla para terminar\", (10, image.shape[0] - 10), cv2.FONT_HERSHEY_SIMPLEX, 0.5, (255, 255, 255), 1, cv2.LINE_AA)\n",
    "\n",
    "                \n",
    "        # Muestra la imagen\n",
    "        cv2.imshow('Face Mesh Detection', image)\n",
    "        if cv2.waitKey(1) != -1:  # Si se presiona cualquier tecla, termina la ejecución\n",
    "            break\n",
    "\n",
    "cap.release()\n",
    "cv2.destroyAllWindows()"
   ]
  },
  {
   "cell_type": "markdown",
   "id": "e5258d33-0ad6-441b-b253-0814bf42be7b",
   "metadata": {},
   "source": [
    "#### <font color='purple'> **6.3.4 Observaciones del rendimiento** </font>"
   ]
  },
  {
   "cell_type": "markdown",
   "id": "28bc281a-1e2d-4745-8d64-c9881590ffb9",
   "metadata": {},
   "source": [
    "A primera vista, no se pueden apreciar diferencias significativas en el rendimiento entre los distintos modelos cuando se evalúan en tiempo real. Sin embargo, en general, los modelos tienden a reconocer las cinco clases, aunque en ciertos ángulos del rostro pueden confundirse entre dos clases simultáneamente."
   ]
  },
  {
   "cell_type": "markdown",
   "id": "3eab9fab-9281-4bbd-8472-bbcfe8c32626",
   "metadata": {
    "tags": []
   },
   "source": [
    "## <font color='purple'> **7.- Conclusión** </font>"
   ]
  },
  {
   "cell_type": "markdown",
   "id": "81ded8ac-bac1-46bc-9200-00606b8171d2",
   "metadata": {},
   "source": [
    "Para la elaboración de este Notebook, se llevó a cabo la captura de datos de video que involucraron la grabación de personas \"conduciendo\" y enfocando su atención en cinco puntos de atención visual (PAV), siendo estos el frente, los retrovisores central, izquierdo y derecho, y la palanca. Posteriormente cada video fue etiquetado con los tiempos de inicio y fin de cada PAV. \n",
    "\n",
    "Después, los videos se segmentaron según los tiempos indicados en las etiquetas. Durante este proceso, se identificaron algunas instancias mal etiquetadas y se corrigieron. Además, se observaron videos etiquetados para un solo punto de atención visual, pero en los cuales el conductor miraba varios puntos a la vez. Debido a esto, se optó por dividir el conjunto de datos en dos conjuntos: uno que incluye instancias problemáticas (datos completos) y otro que solo contiene instancias correctamente etiquetadas (datos filtrados).\n",
    "\n",
    "Posteriormente, se procedió a extraer los landmarks del rostro utilizando la función *face mesh* de la librería MediaPipe, la cual identifica 468 puntos faciales con coordenadas (x, y, z). Dada la alta dimensionalidad de los datos resultantes, se optó por seleccionar únicamente los 20-22 landmarks con mayor Ganancia de Información. Posteriormente, se llevaron a cabo evaluaciones de los modelos mediante validación cruzada con 10 folds. Los algoritmos empleados incluyeron Logistic Regression, Random Forest, Gradient Boosting y Support Vector Machines.\n",
    "\n",
    "Se observó que el modelo que obtuvo los mejores resultados para el conjunto de datos completos fue Random Forest, alcanzando una exactitud del 0.91. Por otro lado, para los datos filtrados, el modelo que mostró el mejor desempeño fue Gradient Boosting, logrando una exactitud de 0.9954. Sin embargo, para garantizar una comparación justa, se realizó el análisis de errores y la validación externa utilizando el mismo modelo Random Forest. En este caso, la exactitud obtenida con los datos filtrados fue de 0.9939.\n",
    "\n",
    "En el análisis de las instancias mal clasificadas, se determinó que los errores se originaban principalmente en los puntos de transición al inicio de los videos. Aunque el modelo consideraba estas instancias como errores, al revisar los videos se observó que las predicciones realizadas por el modelo eran correctas, pero la etiqueta asignada era incorrecta. Por lo tanto, un etiquetado adecuado de los datos habría reducido el error evidenciado en las matrices de confusión.\n",
    "\n",
    "Por otro lado, al llevar a cabo la validación externa con un video nunca antes visto por los modelos, se pudo apreciar que el modelo entrenado con todos los datos disponibles clasificó correctamente todos los puntos de atención visual (PAV). En contraste, el modelo entrenado con los datos filtrados tuvo dificultades para distinguir la clase \"palanca\", ya que la confundió con la clase \"frente\".\n",
    "\n",
    "En resumen, el análisis del desempeño de los modelos con ambos conjuntos de datos subraya la importancia del etiquetado preciso y la diversidad en las clases. Si bien la precisión en el etiquetado influye en el rendimiento, la variedad entre las instancias de la misma clase es crucial para fortalecer la robustez de los modelos. La validación externa con todos los datos disponibles demostró cómo esta diversidad contribuye a una mejor capacidad de generalización del modelo. Por otro lado, los datos filtrados, aunque tenían un etiquetado más preciso, carecían de variedad, lo que resultó en un sobreajuste y una menor eficacia en la clasificación de nuevos datos."
   ]
  }
 ],
 "metadata": {
  "kernelspec": {
   "display_name": "Python 3 (ipykernel)",
   "language": "python",
   "name": "python3"
  },
  "language_info": {
   "codemirror_mode": {
    "name": "ipython",
    "version": 3
   },
   "file_extension": ".py",
   "mimetype": "text/x-python",
   "name": "python",
   "nbconvert_exporter": "python",
   "pygments_lexer": "ipython3",
   "version": "3.11.4"
  }
 },
 "nbformat": 4,
 "nbformat_minor": 5
}
